{
 "cells": [
  {
   "cell_type": "code",
   "execution_count": 1,
   "metadata": {},
   "outputs": [],
   "source": [
    "import numpy as np\n",
    "import matplotlib.pyplot as plt"
   ]
  },
  {
   "cell_type": "code",
   "execution_count": 3,
   "metadata": {},
   "outputs": [],
   "source": [
    "def hessenberg(A):\n",
    "    # init F\n",
    "    F = np.zeros(A.shape) \n",
    "    for idx in range(1, A.shape[0]):\n",
    "        F[idx, idx - 1] = 1.0\n",
    "    \n",
    "    # init Z\n",
    "    Z = np.zeros(A.shape)\n",
    "    Z[0, 0] = 1.0\n",
    "    \n",
    "    # recursive formula: Fik = (A * Zk)_i - sum_j=1^i-1 {Fjk * Zij} / Z_ii\n",
    "    for k in range(1, A.shape[1] + 1):\n",
    "        Azk = np.matmul(A, Z[:, k - 1])\n",
    "        \n",
    "        for i in range(0, k):\n",
    "            temp = 0.0\n",
    "            for j in range(0, i):\n",
    "                temp += F[j, k - 1] * Z[i, j]\n",
    "            F[i, k - 1] = (Azk[i] - temp) / Z[i, i]\n",
    "        \n",
    "        if k < A.shape[1]: # to get the last row of F, but here Z[:, k] would be out of range\n",
    "            Z[:, k] = Azk[:]\n",
    "            for t in range(0, k):\n",
    "                Z[:, k] -= F[t, k - 1] * Z[:, t]\n",
    "    \n",
    "    return F, Z\n",
    "\n",
    "def solve_qr(A, iterations=30):\n",
    "\n",
    "    Ak = A\n",
    "    Q_bar = np.eye(*Ak.shape)\n",
    "\n",
    "    for k in range(iterations):\n",
    "        Qk, Rk = np.linalg.qr(Ak)\n",
    "        Ak = np.dot(Rk, Qk)\n",
    "        Q_bar = Q_bar.dot(Qk)\n",
    "\n",
    "    lam = np.diag(Ak)\n",
    "    return lam, Q_bar\n",
    "\n",
    "def solve_gen_eig_prob(A, B, eps=1e-6):\n",
    "    \"\"\"\n",
    "    Solves the generalised eigenvalue problem of the form:\n",
    "    Aw = \\lambda*Bw\n",
    "    \n",
    "    Note: can be validated against `scipy.linalg.eig(A, b=B)`\n",
    "    \n",
    "    Ref: \n",
    "    'Eigenvalue and Generalized Eigenvalue Problems: Tutorial (2019)'\n",
    "    Benyamin Ghojogh and Fakhri Karray and Mark Crowley\n",
    "    arXiv 1903.11240\n",
    "\n",
    "    \"\"\"\n",
    "    Lam_b, Phi_b = np.linalg.eig(B) # eig decomp of B alone\n",
    "    Lam_b = np.eye(len(Lam_b))*Lam_b # convert to diagonal matrix of eig vals\n",
    "    \n",
    "    Lam_b_sq = replace_nan(Lam_b**0.5)+np.eye(len(Lam_b))*eps\n",
    "    Phi_b_hat = np.dot(Phi_b, np.linalg.inv(Lam_b_sq))\n",
    "    A_hat = np.dot(np.dot(Phi_b_hat.transpose(), A), Phi_b_hat)\n",
    "    Lam_a, Phi_a = np.linalg.eig(A_hat)\n",
    "    Lam_a = np.eye(len(Lam_a))*Lam_a\n",
    "    \n",
    "    Lam = Lam_a\n",
    "    Phi = np.dot(Phi_b_hat, Phi_a)\n",
    "    \n",
    "    return np.diag(Lam), Phi\n",
    "\n",
    "def solve_eig_qr(A, n_eig, lam_iterations=5):\n",
    "    # !! note: eigenvectors can only be found reliably if A is symmetric\n",
    "    Ak = A\n",
    "    n_eig = min(n_eig, min(A.shape()))\n",
    "\n",
    "    for k in range(lam_iterations):\n",
    "        Qk, Rk = np.linalg.qr(Ak)\n",
    "        Ak = np.dot(Rk, Qk)\n",
    "\n",
    "    lam = np.diag(Ak) # get eigenvalues\n",
    "    V = []\n",
    "    for l in lam[:n_eig]: # now find `n_eig` eigenvectors\n",
    "        A_null = (A - np.eye(A.shape()[0])*l).transpose()\n",
    "        Q, R = np.linalg.qr(A_null) # compute null space of (A-lam*I) to get eigenvector\n",
    "        V.append(Q[:, -1])\n",
    "    return lam, np.array(V).transpose()\n",
    "\n",
    "def power_iteration(A, iterations):\n",
    "    \"\"\"\n",
    "    Iterative algo. to find the eigenvector of a matrix A corresponding to the largest\n",
    "    eigenvalue.\n",
    "    \n",
    "    TODO: Establish some measure or heuristic of min number of iterations required\n",
    "    \"\"\"\n",
    "    # choose random initial vector to reduce risk of choosing one orthogonal to \n",
    "    # target eigen vector\n",
    "    b_k = np.array([urandom.random() for i in range(len(A))])\n",
    "\n",
    "    for _ in range(iterations):\n",
    "        b_k1 = np.dot(A, b_k)\n",
    "        b_k1_norm = np.linalg.norm(b_k1)\n",
    "        # re normalize the vector\n",
    "        b_k = b_k1 / b_k1_norm\n",
    "\n",
    "    return b_k1_norm, b_k\n",
    "\n",
    "def max_eig(A, iterations, numeric_method='qr'):\n",
    "    \"\"\"\n",
    "    Function to return the largest eigenvalue of a matrix and its corresponding eigenvector.\n",
    "    \n",
    "    A must be square but need not be symmetric. Tries to first use uLab `np.linalg.eig`\n",
    "    that is better optimised but requires a symmetric matrix. Failing this, power iteration \n",
    "    algorithm is used.\n",
    "    \"\"\"\n",
    "    try:\n",
    "        lam, V = np.linalg.eig(A)\n",
    "        v = V[:, np.argmax(lam)]\n",
    "    except ValueError:\n",
    "        if numeric_method == 'power_iteration':\n",
    "            lam, v = power_iteration(A, iterations)\n",
    "        else:\n",
    "            if numeric_method != 'qr':\n",
    "                print(\"Unknown `numeric_method` arg: defaulting to QR solver\")\n",
    "            lam, v = solve_eig_qr(A, 1, lam_iterations=iterations)\n",
    "            lam = lam[0] # only need first eigen val (largest returned first)\n",
    "            v = v[:, 0] # only first eig vector \n",
    "            \n",
    "    return lam, v\n",
    "\n",
    "def replace_nan(A, rep=0):\n",
    "    return np.where(np.isfinite(A), A, rep)"
   ]
  },
  {
   "cell_type": "code",
   "execution_count": 4,
   "metadata": {},
   "outputs": [],
   "source": [
    "class CCA():\n",
    "    \n",
    "    def __init__(self, stim_freqs, fs, Nh=2):\n",
    "        self.Nh = Nh\n",
    "        self.stim_freqs = stim_freqs\n",
    "        self.fs = fs\n",
    "        \n",
    "    def compute_corr(self, X_test):            \n",
    "        result = {}\n",
    "        Cxx = np.dot(X_test, X_test.transpose()) # precompute data auto correlation matrix\n",
    "        for f in self.stim_freqs:\n",
    "            Y = harmonic_reference(f, self.fs, np.max(X_test.shape()), Nh=self.Nh, standardise_out=True)\n",
    "            rho = self.cca_eig(X_test, Y, Cxx=Cxx) # canonical variable matrices. Xc = X^T.W_x\n",
    "            result[f] = rho\n",
    "        return result\n",
    "    \n",
    "    @staticmethod\n",
    "    def cca_eig(X, Y, Cxx=None):\n",
    "        if Cxx is None:\n",
    "            Cxx = np.dot(X, X.transpose()) # auto correlation matrix\n",
    "        Cyy = np.dot(Y, Y.transpose()) \n",
    "        Cxy = np.dot(X, Y.transpose()) # cross correlation matrix\n",
    "        Cyx = np.dot(Y, X.transpose()) # same as Cxy.T\n",
    "\n",
    "        M1 = np.dot(np.linalg.inv(Cxx), Cxy) # intermediate result\n",
    "        M2 = np.dot(np.linalg.inv(Cyy), Cyx)\n",
    "\n",
    "        lam, _ = max_eig(np.dot(M1, M2), 20)\n",
    "        return np.sqrt(lam)"
   ]
  },
  {
   "cell_type": "markdown",
   "metadata": {},
   "source": [
    "### CCA Example Problem\n",
    "Testing finding canonical correlations using eigenvalues of covariance matrices. `X` is a data matrix and `Y` is a matrix of reference signals with 2 harmonics"
   ]
  },
  {
   "cell_type": "code",
   "execution_count": 5,
   "metadata": {},
   "outputs": [
    {
     "name": "stdout",
     "output_type": "stream",
     "text": [
      "(1, 150) (4, 150)\n"
     ]
    }
   ],
   "source": [
    "from eeg_lib.synthetic import synth_X\n",
    "from eeg_lib.cca import cca_reference\n",
    "\n",
    "Ns = 150\n",
    "\n",
    "X = synth_X(7, 1, Ns, noise_power=0.2, f_std=0.04)\n",
    "Y = cca_reference([15], 250, Ns, Nh=2)\n",
    "\n",
    "# X = X.T\n",
    "# Y = Y.T\n",
    "\n",
    "print(X.shape, Y.shape)"
   ]
  },
  {
   "cell_type": "code",
   "execution_count": 6,
   "metadata": {},
   "outputs": [
    {
     "data": {
      "text/plain": [
       "array([0.07173047])"
      ]
     },
     "execution_count": 6,
     "metadata": {},
     "output_type": "execute_result"
    }
   ],
   "source": [
    "from sklearn.cross_decomposition import CCA as CCA_sklearn\n",
    "\n",
    "n = min(Y.T.shape[1], X.T.shape[1])\n",
    "cca = CCA_sklearn(n_components=n)\n",
    "cca.fit(X.T, Y.T)\n",
    "\n",
    "X_c, Y_c = cca.transform(X.T, Y.T)\n",
    "result = np.corrcoef(X_c.T, Y_c.T).diagonal(offset=n)\n",
    "result"
   ]
  },
  {
   "cell_type": "code",
   "execution_count": 7,
   "metadata": {},
   "outputs": [
    {
     "data": {
      "text/plain": [
       "array([0.07133839])"
      ]
     },
     "execution_count": 7,
     "metadata": {},
     "output_type": "execute_result"
    }
   ],
   "source": [
    "Cxx = np.dot(X, X.transpose()) # auto correlation matrix\n",
    "Cyy = np.dot(Y, Y.transpose()) \n",
    "Cxy = np.dot(X, Y.transpose()) # cross correlation matrix\n",
    "Cyx = np.dot(Y, X.transpose()) # same as Cxy.T\n",
    "\n",
    "M1 = np.dot(np.linalg.inv(Cxx), Cxy) # intermediate result\n",
    "M2 = np.dot(np.linalg.inv(Cyy), Cyx)\n",
    "M = np.dot(M1, M2)\n",
    "\n",
    "lam, V = np.linalg.eig(M)\n",
    "np.sqrt(lam)"
   ]
  },
  {
   "cell_type": "code",
   "execution_count": 228,
   "metadata": {},
   "outputs": [],
   "source": [
    "import ujson as json\n",
    "\n",
    "data = {'X': X.tolist(), 'Y': Y.tolist()}\n",
    "with open('xy.json', 'w') as jsonfile:\n",
    "    json.dump(data, jsonfile)"
   ]
  },
  {
   "cell_type": "code",
   "execution_count": 216,
   "metadata": {},
   "outputs": [
    {
     "data": {
      "text/plain": [
       "array([0.92299, 0.07742, 0.01606, 0.00484])"
      ]
     },
     "execution_count": 216,
     "metadata": {},
     "output_type": "execute_result"
    }
   ],
   "source": [
    "lam, V = solve_qr(M, iterations=100)\n",
    "np.sqrt(lam).round(5)"
   ]
  },
  {
   "cell_type": "code",
   "execution_count": 195,
   "metadata": {},
   "outputs": [],
   "source": [
    "Cxx = X.dot(X.T)\n",
    "Cxy = X.dot(Y.T)\n",
    "Cyy = Y.dot(Y.T)\n",
    "Cyx = Y.dot(X.T)\n",
    "\n",
    "def block_diag(X, Y, reverse=False):\n",
    "    if not reverse:\n",
    "        X = np.concatenate([X, np.zeros_like(X)], axis=1)\n",
    "        Y = np.concatenate([np.zeros_like(Y), Y], axis=1)\n",
    "    else:\n",
    "        X = np.concatenate([np.zeros_like(X), X], axis=1)\n",
    "        Y = np.concatenate([Y, np.zeros_like(Y)], axis=1)\n",
    "    return np.concatenate([X, Y], axis=0)\n",
    "\n",
    "A = block_diag(Cxy, Cyx, reverse=True)\n",
    "B = block_diag(Cxx, Cyy)\n",
    "\n",
    "lam, Phi = solve_gen_eig_prob(A, B, eps=1e-12)"
   ]
  },
  {
   "cell_type": "code",
   "execution_count": 197,
   "metadata": {},
   "outputs": [
    {
     "data": {
      "text/plain": [
       "array([ 0.96230964, -0.96230964,  0.6550056 , -0.6550056 ,  0.03841503,\n",
       "       -0.03841503,  0.00107915, -0.00107915])"
      ]
     },
     "execution_count": 197,
     "metadata": {},
     "output_type": "execute_result"
    }
   ],
   "source": [
    "lam"
   ]
  },
  {
   "cell_type": "code",
   "execution_count": 189,
   "metadata": {},
   "outputs": [],
   "source": [
    "# args = [X, Y]\n",
    "# Z = np.zeros((sum(arg.shape[0] for arg in args), sum(arg.shape[1] for arg in args)))\n",
    "# origin = [0, 0]\n",
    "# for arg in args:\n",
    "#     x0 = origin[0]\n",
    "#     y0 = origin[1]\n",
    "#     Z[x0:x0+arg.shape[0], y0:y0+arg.shape[1]] = arg\n",
    "#     origin[0] += arg.shape[0]\n",
    "#     origin[1] += arg.shape[1]\n",
    "\n",
    "# args = [X, Y]\n",
    "# Z = np.zeros((sum(arg.shape[0] for arg in args), sum(arg.shape[1] for arg in args)))\n",
    "# origin = Z.shape\n",
    "# for arg in args:\n",
    "#     x0 = origin[0]\n",
    "#     y0 = origin[1]\n",
    "#     Z[x0:x0-arg.shape[0], y0:y0-arg.shape[1]] = arg\n",
    "#     origin[0] -= arg.shape[0]\n",
    "#     origin[1] -= arg.shape[1]"
   ]
  },
  {
   "cell_type": "code",
   "execution_count": 79,
   "metadata": {},
   "outputs": [
    {
     "data": {
      "text/plain": [
       "array([[   2,   95,  -38,   18,    5],\n",
       "       [   1,   47,  -19,    8,    1],\n",
       "       [   2,  151,  -69,   28,    4],\n",
       "       [  -1,  218,  -88,   34,    6],\n",
       "       [   0, -208,   84,  -34,   -5]])"
      ]
     },
     "execution_count": 79,
     "metadata": {},
     "output_type": "execute_result"
    }
   ],
   "source": [
    "A = np.array([2, 95, -38, 18, 5, 1, 47, -19, 8, 1, 2, 151, -69, 28, 4, -1, 218, -88, 34, 6, 0, -208, 84, -34, -5])\n",
    "A = A.reshape((5,5))\n",
    "A"
   ]
  },
  {
   "cell_type": "code",
   "execution_count": 80,
   "metadata": {},
   "outputs": [
    {
     "name": "stdout",
     "output_type": "stream",
     "text": [
      "Eigenvalues: \n",
      "[ 25.57771123+0.j        -12.31982385+0.j         -3.21680685+1.4877582j\n",
      "  -3.21680685-1.4877582j   2.17572632+0.j       ], \n",
      "\n",
      " Eigenvectors (rounded): \n",
      "[[ 0.3 +0.j   -0.17+0.j    0.08+0.16j  0.08-0.16j  0.57+0.j  ]\n",
      " [ 0.16+0.j   -0.08+0.j   -0.01+0.01j -0.01-0.01j  0.  +0.j  ]\n",
      " [ 0.41+0.j   -0.51+0.j   -0.34+0.02j -0.34-0.02j -0.11+0.j  ]\n",
      " [ 0.58+0.j   -0.67+0.j   -0.83+0.j   -0.83-0.j   -0.43+0.j  ]\n",
      " [-0.62+0.j    0.51+0.j    0.38-0.11j  0.38+0.11j  0.69+0.j  ]]\n"
     ]
    }
   ],
   "source": [
    "lam_ref, V_ref = np.linalg.eig(A)\n",
    "print(f\"Eigenvalues: \\n{lam_ref}, \\n\\n Eigenvectors (rounded): \\n{V_ref.round(2)}\")"
   ]
  },
  {
   "cell_type": "code",
   "execution_count": 81,
   "metadata": {},
   "outputs": [
    {
     "data": {
      "text/plain": [
       "array([ 25.57771123, -12.31982385,  -1.81028516,  -4.62332854,\n",
       "         2.17572632])"
      ]
     },
     "execution_count": 81,
     "metadata": {},
     "output_type": "execute_result"
    }
   ],
   "source": [
    "lam, V = solve_qr(A, iterations=100)\n",
    "lam"
   ]
  },
  {
   "cell_type": "code",
   "execution_count": 82,
   "metadata": {},
   "outputs": [
    {
     "data": {
      "text/plain": [
       "array([[-0.3 , -0.54, -0.49, -0.42, -0.45],\n",
       "       [-0.16, -0.34,  0.27,  0.74, -0.48],\n",
       "       [-0.41,  0.49, -0.66,  0.39,  0.03],\n",
       "       [-0.58,  0.44,  0.48, -0.33, -0.35],\n",
       "       [ 0.62,  0.39, -0.15, -0.06, -0.66]])"
      ]
     },
     "execution_count": 82,
     "metadata": {},
     "output_type": "execute_result"
    }
   ],
   "source": [
    "V.round(2)"
   ]
  },
  {
   "cell_type": "code",
   "execution_count": 83,
   "metadata": {},
   "outputs": [
    {
     "data": {
      "text/plain": [
       "array([ 25.57771123, -12.31982385,  -3.09449956,  -3.33911414,\n",
       "         2.17572632])"
      ]
     },
     "execution_count": 83,
     "metadata": {},
     "output_type": "execute_result"
    }
   ],
   "source": [
    "A_f, _ = hessenberg(A)\n",
    "lam_f, V_f = solve_qr(A_f, iterations=100)\n",
    "lam_f"
   ]
  },
  {
   "cell_type": "code",
   "execution_count": 84,
   "metadata": {},
   "outputs": [
    {
     "data": {
      "text/plain": [
       "array([[ 0.882, -0.205,  0.424,  0.001, -0.   ],\n",
       "       [ 0.471,  0.413, -0.779, -0.003, -0.   ],\n",
       "       [-0.015,  0.887,  0.461,  0.013,  0.   ],\n",
       "       [ 0.001, -0.01 , -0.008,  0.981,  0.194],\n",
       "       [ 0.   ,  0.002,  0.002, -0.194,  0.981]])"
      ]
     },
     "execution_count": 84,
     "metadata": {},
     "output_type": "execute_result"
    }
   ],
   "source": [
    "V_f.round(3)"
   ]
  },
  {
   "cell_type": "code",
   "execution_count": 14,
   "metadata": {},
   "outputs": [
    {
     "data": {
      "text/plain": [
       "array([[     2,      1,    778,  35107, -15046],\n",
       "       [     1,      1,    389,  17954,  -3009],\n",
       "       [     0,      1,    -36,  -1527,    354],\n",
       "       [     0,      0,      1,     42,     -9],\n",
       "       [     0,      0,      0,      1,      0]])"
      ]
     },
     "execution_count": 14,
     "metadata": {},
     "output_type": "execute_result"
    }
   ],
   "source": [
    "F, Z = hessenberg(A)\n",
    "F.astype(int)"
   ]
  },
  {
   "cell_type": "code",
   "execution_count": 85,
   "metadata": {},
   "outputs": [
    {
     "data": {
      "text/plain": [
       "(array([0.02148729, 0.14447535, 1.00472133, 0.99984663]),\n",
       " array([[ 0.02902728,  0.02892596,  0.02260202,  0.02290183],\n",
       "        [ 0.7939542 ,  0.79404442,  0.79942807,  0.79912809],\n",
       "        [-0.53426395, -0.53399658, -0.51715765, -0.51825175],\n",
       "        [-0.28871471, -0.28897127, -0.3048801 , -0.30378435]]))"
      ]
     },
     "execution_count": 85,
     "metadata": {},
     "output_type": "execute_result"
    }
   ],
   "source": [
    "X = np.array([[0.0, 0.2552531, 0.4935954, 0.6992362, 0.8585516, 0.9609866, 0.9997549, 0.972288, 0.8804055, 0.7301948],\n",
    "       [0.0, 0.2651061, 0.5112409, 0.7207904, 0.8787591, 0.9738424, 0.9992362, 0.9531231, 0.838803, 0.6644569],\n",
    "       [0.0, 0.2634635, 0.5083104, 0.7172394, 0.8754874, 0.9718722, 0.9995833, 0.9566626, 0.8461428, 0.6758333],\n",
    "       [0.0, 0.2671577, 0.5148946, 0.7252015, 0.8827904, 0.9762053, 0.9986557, 0.9485094, 0.8294118, 0.6500207]])\n",
    "\n",
    "# Y = cca_reference([7], 200, 10, Nh=2)\n",
    "\n",
    "Y = np.array([[-2.171207, -1.338523, -0.5880827, 0.04396701, 0.5271821, 0.8382883, 0.9623005, 0.8932458, 0.6344502, 0.1983788],\n",
    "       [1.305342, 1.170641, 0.9533603, 0.6639652, 0.3163952, -0.07260892, -0.4843098, -0.8988775, -1.296343, -1.657563],\n",
    "       [0.2679634, 0.7796801, 1.073691, 1.094033, 0.8368343, 0.3510505, -0.2708505, -0.9104931, -1.446123, -1.775786],\n",
    "       [1.850696, 1.432374, 0.8242437, 0.1420597, -0.4843266, -0.9356859, -1.126103, -1.019333, -0.6356997, -0.04822552]])\n",
    "\n",
    "Cxx = X.dot(X.T)\n",
    "Cxy = X.dot(Y.T)\n",
    "Cyy = Y.dot(Y.T)\n",
    "Cyx = Y.dot(X.T)\n",
    "\n",
    "M1 = np.linalg.inv(Cxx).dot(Cxy)\n",
    "M2 = np.linalg.inv(Cyy).dot(Cyx)\n",
    "\n",
    "M = M1.dot(M2)\n",
    "\n",
    "np.linalg.eig(M)"
   ]
  },
  {
   "cell_type": "code",
   "execution_count": 86,
   "metadata": {},
   "outputs": [],
   "source": [
    "M_f, _ = hessenberg(M)"
   ]
  },
  {
   "cell_type": "code",
   "execution_count": 87,
   "metadata": {},
   "outputs": [
    {
     "data": {
      "text/plain": [
       "array([1.0048447 , 0.99972344, 0.14443503, 0.02152743])"
      ]
     },
     "execution_count": 87,
     "metadata": {},
     "output_type": "execute_result"
    }
   ],
   "source": [
    "lam, V = solve_qr(M_f, iterations=100)\n",
    "lam"
   ]
  },
  {
   "cell_type": "code",
   "execution_count": 88,
   "metadata": {},
   "outputs": [
    {
     "data": {
      "text/plain": [
       "array([[ 1.   ,  0.031,  0.   , -0.   ],\n",
       "       [-0.   , -0.   ,  0.031, -1.   ],\n",
       "       [ 0.   ,  0.   , -1.   , -0.031],\n",
       "       [ 0.031, -1.   , -0.   , -0.   ]])"
      ]
     },
     "execution_count": 88,
     "metadata": {},
     "output_type": "execute_result"
    }
   ],
   "source": [
    "V.round(3)"
   ]
  },
  {
   "cell_type": "code",
   "execution_count": 89,
   "metadata": {},
   "outputs": [
    {
     "data": {
      "text/plain": [
       "array([[-0.02259485, -0.0228978 , -0.028926  , -0.02902725],\n",
       "       [-0.79943385, -0.79915401, -0.79404439, -0.79395422],\n",
       "       [ 0.51713865,  0.51812389,  0.53399668,  0.53426387],\n",
       "       [ 0.30489771,  0.30393452,  0.28897118,  0.28871478]])"
      ]
     },
     "execution_count": 89,
     "metadata": {},
     "output_type": "execute_result"
    }
   ],
   "source": [
    "V2 = []\n",
    "for l in lam: # now find `n_eig` eigenvectors\n",
    "    A_null = (M - np.eye(M.shape[0])*l).transpose()\n",
    "    Q, R = np.linalg.qr(A_null) # compute null space of (A-lam*I) to get eigenvector\n",
    "    V2.append(Q[:, -1])\n",
    "    \n",
    "V2 = np.array(V2).T\n",
    "V2"
   ]
  },
  {
   "cell_type": "code",
   "execution_count": 70,
   "metadata": {},
   "outputs": [
    {
     "data": {
      "text/plain": [
       "array([-0.02259485, -0.79943385,  0.51713865,  0.30489771])"
      ]
     },
     "execution_count": 70,
     "metadata": {},
     "output_type": "execute_result"
    }
   ],
   "source": [
    "V2[:, np.argmax(lam)]"
   ]
  },
  {
   "cell_type": "code",
   "execution_count": null,
   "metadata": {},
   "outputs": [],
   "source": []
  }
 ],
 "metadata": {
  "kernelspec": {
   "display_name": "eeg_env",
   "language": "python",
   "name": "eeg_env"
  },
  "language_info": {
   "codemirror_mode": {
    "name": "ipython",
    "version": 3
   },
   "file_extension": ".py",
   "mimetype": "text/x-python",
   "name": "python",
   "nbconvert_exporter": "python",
   "pygments_lexer": "ipython3",
   "version": "3.8.7"
  }
 },
 "nbformat": 4,
 "nbformat_minor": 4
}
