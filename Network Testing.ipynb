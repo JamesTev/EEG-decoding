{
 "cells": [
  {
   "cell_type": "code",
   "execution_count": 71,
   "metadata": {},
   "outputs": [],
   "source": [
    "import websocket\n",
    "import time\n",
    "import numpy as np"
   ]
  },
  {
   "cell_type": "code",
   "execution_count": 76,
   "metadata": {
    "tags": []
   },
   "outputs": [
    {
     "name": "stdout",
     "output_type": "stream",
     "text": [
      "period: 0.3688418865203857, freq: 2.711188822489472\n",
      "period: 0.07253097171064966, freq: 13.787213605648837\n",
      "period: 0.0924876837678236, freq: 10.812250445263063\n",
      "period: 0.10677716336599712, freq: 9.365298425959564\n",
      "period: 0.11809062893186421, freq: 8.468072437627365\n",
      "period: 0.12636764034932557, freq: 7.913418318452735\n",
      "period: 0.13339537038331087, freq: 7.496512038809933\n",
      "period: 0.13915377657496159, freq: 7.186294361628798\n",
      "period: 0.14398786028881713, freq: 6.945029935122005\n",
      "period: 0.14827408999090028, freq: 6.744266648754149\n",
      "period: 0.15171831726326668, freq: 6.591161950898563\n",
      "period: 0.15495686647553875, freq: 6.453408762998305\n",
      "period: 0.15758601397590188, freq: 6.345740810176976\n",
      "period: 0.16014591683930923, freq: 6.244305316902973\n",
      "period: 0.16243413800410103, freq: 6.15634134725271\n",
      "period: 0.16425652164418675, freq: 6.088038331690749\n",
      "period: 0.1661903274826545, freq: 6.0171973612866925\n",
      "period: 0.167717795455877, freq: 5.962396520189647\n",
      "period: 0.16887980532897848, freq: 5.921371108001909\n",
      "period: 0.17021899506790508, freq: 5.874785006227256\n",
      "period: 0.1720575639142152, freq: 5.812008360751766\n",
      "period: 0.17238378583598118, freq: 5.801009620194064\n",
      "period: 0.1735656150811511, freq: 5.761509844749187\n",
      "period: 0.17443457855587507, freq: 5.732808301421033\n",
      "period: 0.1753194171307708, freq: 5.703874769638892\n",
      "period: 0.17613772088789234, freq: 5.6773756067644205\n",
      "period: 0.17691424225950284, freq: 5.6524561687530595\n",
      "period: 0.17763010536877738, freq: 5.629676331745133\n",
      "period: 0.1783213381783803, freq: 5.60785383406931\n",
      "period: 0.17897801310159955, freq: 5.587278474436606\n",
      "period: 0.17957932861481174, freq: 5.56856965505728\n",
      "period: 0.18015453389015967, freq: 5.55079008230623\n",
      "period: 0.18082700992297454, freq: 5.53014729616976\n",
      "period: 0.1813264241679603, freq: 5.514916011765131\n",
      "period: 0.18170388387367464, freq: 5.503459687714911\n",
      "period: 0.18223931606804356, freq: 5.48729012803486\n",
      "period: 0.1827289571506652, freq: 5.472586368319673\n",
      "period: 0.18335186111549426, freq: 5.4539942704486375\n",
      "period: 0.18347898620810676, freq: 5.450215420668246\n",
      "period: 0.1837829145736189, freq: 5.441202204894975\n",
      "period: 0.18421248926094916, freq: 5.428513582395784\n",
      "period: 0.18448501729176991, freq: 5.420494383120895\n",
      "period: 0.184828409140235, freq: 5.410423671618951\n",
      "period: 0.18513735635219156, freq: 5.401395049077369\n",
      "period: 0.18545399839125595, freq: 5.392172768851714\n",
      "period: 0.18574138650702207, freq: 5.383829736633275\n",
      "period: 0.18601943190212872, freq: 5.37578246409297\n",
      "period: 0.18629183254931428, freq: 5.367921858492024\n",
      "period: 0.1866134290814541, freq: 5.3586711573876835\n",
      "period: 0.1867929406452944, freq: 5.353521372624697\n",
      "period: 0.18704088783515738, freq: 5.3464245790007086\n",
      "period: 0.18731807214617324, freq: 5.33851319599132\n",
      "period: 0.18750056250610778, freq: 5.333317333207602\n",
      "period: 0.1877832561377991, freq: 5.325288423298934\n",
      "period: 0.18797921638358933, freq: 5.319737039223558\n",
      "period: 0.1881243309986278, freq: 5.3156335211488095\n",
      "period: 0.18836162266482018, freq: 5.3089370639976305\n",
      "period: 0.18857370741360774, freq: 5.302966217907845\n",
      "period: 0.18873483568931937, freq: 5.298438925425099\n",
      "period: 0.1889527427827593, freq: 5.2923285752443885\n",
      "period: 0.18903824603452243, freq: 5.289934819948439\n",
      "period: 0.1892194404789461, freq: 5.284869236843913\n",
      "period: 0.18936642701352915, freq: 5.280767112580921\n",
      "period: 0.18951542929808757, freq: 5.276615227075293\n",
      "period: 0.18967494457852133, freq: 5.272177631168473\n",
      "period: 0.18981982810267656, freq: 5.26815354325937\n",
      "period: 0.19000339279113757, freq: 5.263063913281045\n",
      "period: 0.1901158867217209, freq: 5.259949693019259\n",
      "period: 0.1903324936807397, freq: 5.253963633121846\n",
      "period: 0.19038472336409226, freq: 5.25252227347883\n",
      "period: 0.19051102447580204, freq: 5.249040063437463\n",
      "period: 0.19071692502618884, freq: 5.243373129378434\n",
      "period: 0.19073613010943175, freq: 5.2428451779233765\n",
      "period: 0.1908738932444291, freq: 5.239061157092976\n",
      "period: 0.19098855905760156, freq: 5.235915726755146\n",
      "period: 0.19111683710944632, freq: 5.232401368317606\n",
      "period: 0.19132374366776347, freq: 5.226742801648889\n",
      "period: 0.19131655833828773, freq: 5.226939103889746\n",
      "period: 0.19144977157508977, freq: 5.223302131795877\n",
      "period: 0.19155526967281336, freq: 5.220425424516138\n",
      "period: 0.19169713609425595, freq: 5.216562022649665\n",
      "period: 0.19170440851681037, freq: 5.216364129217775\n",
      "period: 0.19179470465675205, freq: 5.213908286934529\n",
      "period: 0.19188979372588552, freq: 5.211324586801628\n",
      "period: 0.1919820418382343, freq: 5.208820525216669\n",
      "period: 0.19206758244877312, freq: 5.20650068715637\n",
      "period: 0.19216361737230664, freq: 5.2038987071239085\n",
      "period: 0.19225078010564048, freq: 5.201539361507438\n",
      "period: 0.19233982636252048, freq: 5.199131240324656\n",
      "period: 0.19240805802377126, freq: 5.197287526681725\n",
      "period: 0.19248632703006086, freq: 5.195174199795649\n",
      "period: 0.19256934390832467, freq: 5.192934553882387\n",
      "period: 0.1926502279042778, freq: 5.190754305761167\n",
      "period: 0.1927272607994506, freq: 5.188679566408545\n",
      "period: 0.19279701310605987, freq: 5.186802346620839\n",
      "period: 0.19288325722008945, freq: 5.1844831656847745\n",
      "period: 0.19296276420452996, freq: 5.182346988665931\n",
      "period: 0.19305042114379495, freq: 5.1799938797084675\n",
      "period: 0.1930815254712695, freq: 5.1791594123737115\n",
      "period: 0.19315963070972428, freq: 5.17706518865102\n",
      "period: 0.19324955842108812, freq: 5.17465606736867\n",
      "period: 0.19330234896681778, freq: 5.17324287751754\n",
      "period: 0.19339477854513273, freq: 5.170770418533451\n",
      "period: 0.193388491064977, freq: 5.170938531517928\n",
      "period: 0.19345200504584892, freq: 5.169240813828711\n",
      "period: 0.19351339909179155, freq: 5.167600820890226\n",
      "period: 0.19357696925400425, freq: 5.165903794515134\n",
      "period: 0.19363390554166135, freq: 5.164384807519387\n",
      "period: 0.19367986301626505, freq: 5.163159372515773\n",
      "period: 0.19375967278255726, freq: 5.161032662984671\n",
      "period: 0.19379101657558917, freq: 5.1601979166559815\n",
      "period: 0.19384911626259366, freq: 5.158651322636781\n",
      "period: 0.19389872040755907, freq: 5.157331610534008\n",
      "period: 0.19395027575719626, freq: 5.15596070227756\n",
      "period: 0.19402696840179753, freq: 5.153922716192558\n",
      "period: 0.19405749270829387, freq: 5.153112029037675\n",
      "period: 0.1941060055619974, freq: 5.15182411334821\n",
      "period: 0.19416819950442565, freq: 5.150173934518083\n",
      "period: 0.19421754629146265, freq: 5.148865378513731\n",
      "period: 0.19425936505351474, freq: 5.147756967724666\n",
      "period: 0.19431047994133596, freq: 5.146402810089856\n",
      "period: 0.19436784200860677, freq: 5.144883997609641\n",
      "period: 0.19441160718192305, freq: 5.143725801640216\n",
      "period: 0.1944815351547979, freq: 5.141876318510383\n",
      "period: 0.19447122211614604, freq: 5.142148998286028\n"
     ]
    }
   ],
   "source": [
    "t = time.time()\n",
    "f = []\n",
    "data = []\n",
    "\n",
    "def on_message(wsapp, message):\n",
    "    global t, data\n",
    "    f.append(1/(time.time()-t))\n",
    "    t = time.time()\n",
    "    print(f'period: {1/np.mean(f)}, freq: {np.mean(f)}')\n",
    "    data = message\n",
    "\n",
    "# websocket.setdefaulttimeout(5)\n",
    "ws = websocket.WebSocketApp(\"ws://192.168.0.150:80\", on_message=on_message)\n",
    "\n",
    "try:\n",
    "    ws.run_forever()\n",
    "except KeyboardInterrupt:\n",
    "    print(\"closing socket\")\n",
    "ws.close()"
   ]
  },
  {
   "cell_type": "code",
   "execution_count": 78,
   "metadata": {},
   "outputs": [
    {
     "data": {
      "text/plain": [
       "<matplotlib.lines.Line2D at 0x11ca95550>"
      ]
     },
     "execution_count": 78,
     "metadata": {},
     "output_type": "execute_result"
    },
    {
     "data": {
      "image/png": "[encoded data removed]",
      "text/plain": [
       "<Figure size 432x288 with 1 Axes>"
      ]
     },
     "metadata": {
      "needs_background": "light"
     },
     "output_type": "display_data"
    }
   ],
   "source": [
    "import matplotlib.pyplot as plt\n",
    "plt.plot(np.minimum(f, 20))\n",
    "plt.axhline(np.mean(f[20:]), c='g')"
   ]
  },
  {
   "cell_type": "code",
   "execution_count": 61,
   "metadata": {},
   "outputs": [],
   "source": []
  },
  {
   "cell_type": "code",
   "execution_count": 55,
   "metadata": {},
   "outputs": [
    {
     "data": {
      "text/plain": [
       "array([[0.  , 0.02, 0.04],\n",
       "       [0.06, 0.08, 0.1 ],\n",
       "       [0.12, 0.14, 0.16],\n",
       "       [0.18, 0.2 , 0.22]])"
      ]
     },
     "execution_count": 55,
     "metadata": {},
     "output_type": "execute_result"
    }
   ],
   "source": [
    "x = (0.02*np.arange(12)).reshape((4, 3))\n",
    "buffer"
   ]
  },
  {
   "cell_type": "code",
   "execution_count": 69,
   "metadata": {},
   "outputs": [
    {
     "data": {
      "text/plain": [
       "array([[ 0.01751957,  0.00939124,  0.01634466, -0.0041517 ],\n",
       "       [-0.01062538, -0.00121258, -0.01466249,  0.00975629],\n",
       "       [ 0.0156384 ,  0.0016526 ,  0.02181821, -0.01627565],\n",
       "       [-0.00100229,  0.00465033, -0.00654409,  0.010586  ]],\n",
       "      dtype=float32)"
      ]
     },
     "execution_count": 69,
     "metadata": {},
     "output_type": "execute_result"
    }
   ],
   "source": [
    "buffer = bytearray(b\"5\\x85\\x8f<\\xb5\\xdd\\x19<:\\xe5\\x85<\\xf7\\n\\x88\\xbb\\x12\\x16.\\xbc\\x96\\xef\\x9e\\xba\\xf3:p\\xbc\\xdc\\xd8\\x1f<\\x19\\x1c\\x80<\\x1c\\x9c\\xd8:\\x18\\xbc\\xb2<\\x82T\\x85\\xbc'_\\x83\\xba\\xc1a\\x98;\\xd0o\\xd6\\xbb\\xe3p-<\")\n",
    "np.frombuffer(buffer, dtype=np.float32).reshape((4,4))"
   ]
  },
  {
   "cell_type": "code",
   "execution_count": 83,
   "metadata": {},
   "outputs": [
    {
     "data": {
      "text/plain": [
       "array([[ 0.01751957,  0.00939124,  0.01634466, -0.0041517 ],\n",
       "       [-0.01062538, -0.00121258, -0.01466249,  0.00975629],\n",
       "       [ 0.0156384 ,  0.0016526 ,  0.02181821, -0.01627564],\n",
       "       [-0.00100228,  0.00465033, -0.00654409,  0.010586  ]])"
      ]
     },
     "execution_count": 83,
     "metadata": {},
     "output_type": "execute_result"
    }
   ],
   "source": [
    "Cxx = np.array([[166.14279703,  99.48821575,  24.11370662, -33.37944544],\n",
    "       [ 99.48821575, 166.12703417,  90.66107192,  71.18545196],\n",
    "       [ 24.11370662,  90.66107192, 166.83747439,  66.71419887],\n",
    "       [-33.37944544,  71.18545196,  66.71419887, 166.71542984]])\n",
    "\n",
    "# Y correlation matrix\n",
    "Cyy = np.array([[167.        ,   0.43605292,   1.06028619,  -0.1970634 ],\n",
    "       [  0.43605292, 167.        ,   0.41206453,  -0.69571169],\n",
    "       [  1.06028619,   0.41206453, 167.        ,  -5.19137319],\n",
    "       [ -0.1970634 ,  -0.69571169,  -5.19137319, 167.        ]])\n",
    "\n",
    "# XY cross-correlation matrix\n",
    "Cxy = np.array([[18.49359001, -0.09579883, -1.47948752,  5.81688046],\n",
    "       [ 9.60223537,  7.45818488, -1.80016572,  7.20337205],\n",
    "       [17.57176942, -8.21102309, -0.50311062,  1.26140711],\n",
    "       [-4.71848465, 15.03455974, -0.45756603,  1.86271787]])\n",
    "\n",
    "M1 = np.dot(np.linalg.inv(Cxx), Cxy)\n",
    "M2 = np.dot(np.linalg.inv(Cyy), Cxy.transpose())\n",
    "M = np.dot(M1, M2)\n",
    "\n",
    "M"
   ]
  },
  {
   "cell_type": "code",
   "execution_count": null,
   "metadata": {},
   "outputs": [],
   "source": []
  },
  {
   "cell_type": "code",
   "execution_count": 79,
   "metadata": {},
   "outputs": [
    {
     "data": {
      "text/plain": [
       "'array([[0.01751957, 0.009391238, 0.01634465, -0.004151698],\\n       [-0.01062538, -0.001212584, -0.01466249, 0.009756293],\\n       [0.0156384, 0.001652602, 0.02181821, -0.01627565],\\n       [-0.001002286, 0.004650325, -0.00654409, 0.010586]], dtype=float32)'"
      ]
     },
     "execution_count": 79,
     "metadata": {},
     "output_type": "execute_result"
    }
   ],
   "source": [
    "ws = websocket.WebSocket()\n",
    "ws.connect(\"ws://192.168.0.150:80\")\n",
    "\n",
    "ws.recv()"
   ]
  },
  {
   "cell_type": "code",
   "execution_count": 9,
   "metadata": {},
   "outputs": [
    {
     "data": {
      "text/plain": [
       "22679"
      ]
     },
     "execution_count": 9,
     "metadata": {},
     "output_type": "execute_result"
    }
   ],
   "source": [
    "import hashlib\n",
    "\n",
    "hashlib.sha256(b'james').hexdigest()\n",
    "\n",
    "def crc16(data : bytearray, offset , length):\n",
    "    if data is None or offset < 0 or offset > len(data)- 1 and offset+length > len(data):\n",
    "        return 0\n",
    "    crc = 0xFFFF\n",
    "    for i in range(0, length):\n",
    "        crc ^= data[offset + i] << 8\n",
    "        for j in range(0,8):\n",
    "            if (crc & 0x8000) > 0:\n",
    "                crc =(crc << 1) ^ 0x1021\n",
    "            else:\n",
    "                crc = crc << 1\n",
    "    return crc & 0xFFFF\n",
    "\n",
    "crc16(b'james', 0, 4)"
   ]
  },
  {
   "cell_type": "code",
   "execution_count": null,
   "metadata": {},
   "outputs": [],
   "source": []
  }
 ],
 "metadata": {
  "kernelspec": {
   "display_name": "eeg_env",
   "language": "python",
   "name": "eeg_env"
  },
  "language_info": {
   "codemirror_mode": {
    "name": "ipython",
    "version": 3
   },
   "file_extension": ".py",
   "mimetype": "text/x-python",
   "name": "python",
   "nbconvert_exporter": "python",
   "pygments_lexer": "ipython3",
   "version": "3.8.7"
  }
 },
 "nbformat": 4,
 "nbformat_minor": 4
}
