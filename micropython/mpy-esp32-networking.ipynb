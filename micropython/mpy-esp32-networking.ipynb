{
 "cells": [
  {
   "cell_type": "code",
   "execution_count": 1,
   "metadata": {},
   "outputs": [
    {
     "name": "stdout",
     "output_type": "stream",
     "text": [
      "\u001b[34mConnecting to --port=/dev/tty.usbserial-02EDKZTP --baud=115200 \u001b[0m\n",
      "MicroPython v1.14 on 2021-04-12; ESP32 module with ESP32\n",
      "Type \"help()\" for more information.\n",
      ">>>[reboot detected 0]repl is in normal command mode\n",
      "[\\r\\x03\\x03] b'\\r\\n>>> '\n",
      "[\\r\\x01] b'\\r\\n>>> \\r\\nraw REPL; CTRL-B to exit\\r\\n>' \u001b[34mReady.\n",
      "\u001b[0m"
     ]
    }
   ],
   "source": [
    "%serialconnect to --port=\"/dev/tty.usbserial-02EDKZTP\" --baud=115200"
   ]
  },
  {
   "cell_type": "code",
   "execution_count": 281,
   "metadata": {},
   "outputs": [
    {
     "name": "stdout",
     "output_type": "stream",
     "text": [
      "connecting to network...\n",
      ".network config: ('192.168.0.150', '255.255.255.0', '192.168.0.1', '192.168.0.1')\n"
     ]
    }
   ],
   "source": [
    "from lib.utils import connect_wifi\n",
    "\n",
    "connect_wifi()"
   ]
  },
  {
   "cell_type": "code",
   "execution_count": 52,
   "metadata": {},
   "outputs": [],
   "source": [
    "from lib.websockets import BasicServer, BasicClient\n",
    "from lib.scheduling import WsDataScheduler\n",
    "\n",
    "server = BasicServer()\n",
    "data_scheduler = WsDataScheduler(5, server)"
   ]
  },
  {
   "cell_type": "code",
   "execution_count": 53,
   "metadata": {},
   "outputs": [
    {
     "name": "stdout",
     "output_type": "stream",
     "text": [
      "network config: ('192.168.0.150', '255.255.255.0', '192.168.0.1', '192.168.0.1')\n",
      "WebSocket started on ws://192.168.0.150:80\n",
      "Started WebSocket server.\n"
     ]
    }
   ],
   "source": [
    "data_scheduler.start()"
   ]
  },
  {
   "cell_type": "code",
   "execution_count": 49,
   "metadata": {},
   "outputs": [
    {
     "name": "stdout",
     "output_type": "stream",
     "text": [
      "[leftinbuffer] [\"Client connection from: ('192.168.0.107', 59991)\"]\n",
      "[leftinbuffer] ['Closing connection.']\n",
      "[leftinbuffer] [\"Client connection from: ('192.168.0.107', 60059)\"]\n",
      "[leftinbuffer] [\"Client connection from: ('192.168.0.107', 60062)\"]\n",
      "Closing connection.\n",
      "Stopped WebSocket server.\n"
     ]
    }
   ],
   "source": [
    "data_scheduler.stop()"
   ]
  },
  {
   "cell_type": "code",
   "execution_count": 276,
   "metadata": {},
   "outputs": [],
   "source": [
    "# %fetchfile --print /websocket/ws_connection.py"
   ]
  }
 ],
 "metadata": {
  "kernelspec": {
   "display_name": "MicroPython - USB",
   "language": "micropython",
   "name": "micropython"
  },
  "language_info": {
   "codemirror_mode": "python",
   "file_extension": ".py",
   "mimetype": "text/python",
   "name": "micropython"
  }
 },
 "nbformat": 4,
 "nbformat_minor": 4
}
