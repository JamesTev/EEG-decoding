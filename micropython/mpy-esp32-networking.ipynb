{
 "cells": [
  {
   "cell_type": "code",
   "execution_count": 1,
   "metadata": {},
   "outputs": [
    {
     "name": "stdout",
     "output_type": "stream",
     "text": [
      "\u001b[34mConnecting to --port=/dev/tty.usbserial-02EDKZTP --baud=115200 \u001b[0m\n",
      "MicroPython v1.14 on 2021-04-12; ESP32 module with ESP32\n",
      "Type \"help()\" for more information.\n",
      ">>>[reboot detected 0]repl is in normal command mode\n",
      "[\\r\\x03\\x03] b'\\r\\n>>> '\n",
      "[\\r\\x01] b'\\r\\n>>> \\r\\nraw REPL; CTRL-B to exit\\r\\n>' \u001b[34mReady.\n",
      "\u001b[0m"
     ]
    }
   ],
   "source": [
    "%serialconnect to --port=\"/dev/tty.usbserial-02EDKZTP\" --baud=115200"
   ]
  },
  {
   "cell_type": "code",
   "execution_count": 244,
   "metadata": {},
   "outputs": [],
   "source": [
    "# from ulab import numpy as np\n",
    "import machine\n",
    "from machine import Pin\n",
    "import utime\n",
    "\n",
    "led = Pin(5, Pin.OUT)\n",
    "\n",
    "for i in range(10):\n",
    "    led.value(not led.value())\n",
    "    utime.sleep(0.1)\n",
    "\n",
    "led.on()"
   ]
  },
  {
   "cell_type": "code",
   "execution_count": 281,
   "metadata": {},
   "outputs": [
    {
     "name": "stdout",
     "output_type": "stream",
     "text": [
      "connecting to network...\n",
      ".network config: ('192.168.0.150', '255.255.255.0', '192.168.0.1', '192.168.0.1')\n"
     ]
    }
   ],
   "source": [
    "from lib.utils import connect_wifi\n",
    "\n",
    "connect_wifi()"
   ]
  },
  {
   "cell_type": "code",
   "execution_count": 52,
   "metadata": {},
   "outputs": [],
   "source": [
    "from lib.websockets import BasicServer, BasicClient\n",
    "from lib.scheduling import WsDataScheduler\n",
    "\n",
    "server = BasicServer()\n",
    "data_scheduler = WsDataScheduler(5, server)"
   ]
  },
  {
   "cell_type": "code",
   "execution_count": 53,
   "metadata": {},
   "outputs": [
    {
     "name": "stdout",
     "output_type": "stream",
     "text": [
      "network config: ('192.168.0.150', '255.255.255.0', '192.168.0.1', '192.168.0.1')\n",
      "WebSocket started on ws://192.168.0.150:80\n",
      "Started WebSocket server.\n"
     ]
    }
   ],
   "source": [
    "data_scheduler.start()"
   ]
  },
  {
   "cell_type": "code",
   "execution_count": 49,
   "metadata": {},
   "outputs": [
    {
     "name": "stdout",
     "output_type": "stream",
     "text": [
      "[leftinbuffer] [\"Client connection from: ('192.168.0.107', 59991)\"]\n",
      "[leftinbuffer] ['Closing connection.']\n",
      "[leftinbuffer] [\"Client connection from: ('192.168.0.107', 60059)\"]\n",
      "[leftinbuffer] [\"Client connection from: ('192.168.0.107', 60062)\"]\n",
      "Closing connection.\n",
      "Stopped WebSocket server.\n"
     ]
    }
   ],
   "source": [
    "data_scheduler.stop()"
   ]
  },
  {
   "cell_type": "code",
   "execution_count": 42,
   "metadata": {},
   "outputs": [
    {
     "name": "stdout",
     "output_type": "stream",
     "text": [
      "array([[0.01751957, 0.009391238, 0.01634465, -0.004151698],\n",
      "       [-0.01062538, -0.001212584, -0.01466249, 0.009756293],\n",
      "       [0.0156384, 0.001652602, 0.02181821, -0.01627565],\n",
      "       [-0.001002286, 0.004650325, -0.00654409, 0.010586]], dtype=float32)\n",
      "bytearray(b\"5\\x85\\x8f<\\xb5\\xdd\\x19<:\\xe5\\x85<\\xf7\\n\\x88\\xbb\\x12\\x16.\\xbc\\x96\\xef\\x9e\\xba\\xf3:p\\xbc\\xdc\\xd8\\x1f<\\x19\\x1c\\x80<\\x1c\\x9c\\xd8:\\x18\\xbc\\xb2<\\x82T\\x85\\xbc'_\\x83\\xba\\xc1a\\x98;\\xd0o\\xd6\\xbb\\xe3p-<\")\n"
     ]
    }
   ],
   "source": [
    "from lib.signal import dummy_calc\n",
    "\n",
    "X = dummy_calc()\n",
    "print(X)\n",
    "print(X.tobytes())"
   ]
  },
  {
   "cell_type": "code",
   "execution_count": 50,
   "metadata": {},
   "outputs": [
    {
     "name": "stdout",
     "output_type": "stream",
     "text": [
      "Sent 60 lines (1785 bytes) to /lib/scheduling.py.\n"
     ]
    }
   ],
   "source": [
    "%sendtofile --source lib/scheduling.py /lib/scheduling.py\n",
    "# %sendtofile --source mpy-modules/websocket/ws_server.py /websocket/ws_server.py"
   ]
  },
  {
   "cell_type": "code",
   "execution_count": 51,
   "metadata": {},
   "outputs": [
    {
     "name": "stdout",
     "output_type": "stream",
     "text": [
      "repl is in normal command mode\n",
      "[\\r\\x03\\x03] b'\\r\\nMicroPython v1.14 on 2021-04-12; ESP32 module with ESP32\\r\\nType \"help()\" for more information.\\r\\n>>> \\r\\n>>> \\r\\nMPY: soft reboot\\r\\nTraceback (most recent call last):\\r\\n  File \"main.py\", line 8, in <module>\\r\\nKeyboardInterrupt: \\r\\nMicroPython v1.14 on 2021-04-12; ESP32 module with ESP32\\r\\nType \"help()\" for more information.\\r\\n>>> \\r\\n>>> '\n",
      "[\\r\\x01] b'\\r\\n>>> \\r\\nraw REPL; CTRL-B to exit\\r\\n>'"
     ]
    }
   ],
   "source": [
    "%rebootdevice"
   ]
  },
  {
   "cell_type": "code",
   "execution_count": 276,
   "metadata": {},
   "outputs": [],
   "source": [
    "# %fetchfile --print /websocket/ws_connection.py"
   ]
  },
  {
   "cell_type": "code",
   "execution_count": 289,
   "metadata": {},
   "outputs": [
    {
     "name": "stdout",
     "output_type": "stream",
     "text": [
      "Listing directory 'lib/'.\n",
      "             lib//.ipynb_checkpoints/\n",
      "        0    lib//__init__.py\n",
      "     1697    lib//scheduling.py\n",
      "      230    lib//signal.py\n",
      "      541    lib//utils.py\n",
      "      988    lib//websockets.py\n"
     ]
    }
   ],
   "source": [
    "%ls lib/"
   ]
  },
  {
   "cell_type": "code",
   "execution_count": 20,
   "metadata": {},
   "outputs": [
    {
     "name": "stdout",
     "output_type": "stream",
     "text": [
      "%capture [--quiet] [--QUIET] outputfilename\n",
      "    records output to a file\n",
      "\n",
      "%comment\n",
      "    print this into output\n",
      "\n",
      "%disconnect [--raw]\n",
      "    disconnects from web/serial connection\n",
      "\n",
      "%esptool [--port PORT] {erase,esp32,esp8266} [binfile]\n",
      "    commands for flashing your esp-device\n",
      "\n",
      "%fetchfile [--binary] [--print] [--load] [--quiet] [--QUIET]\n",
      "                  sourcefilename [destinationfilename]\n",
      "    fetch and save a file from the device\n",
      "\n",
      "%ls [--recurse] [dirname]\n",
      "    list files on the device\n",
      "\n",
      "%lsmagic\n",
      "    list magic commands\n",
      "\n",
      "%mpy-cross [--set-exe SET_EXE] [pyfile]\n",
      "    cross-compile a .py file to a .mpy file\n",
      "\n",
      "%readbytes [--binary]\n",
      "    does serial.read_all()\n",
      "\n",
      "%rebootdevice\n",
      "    reboots device\n",
      "\n",
      "%sendtofile [--append] [--mkdir] [--binary] [--execute] [--source [SOURCE]] [--quiet]\n",
      "                   [--QUIET]\n",
      "                   [destinationfilename]\n",
      "    send cell contents or file/direcectory to the device\n",
      "\n",
      "%serialconnect [--raw] [--port PORT] [--baud BAUD] [--verbose]\n",
      "    connects to a device over USB wire\n",
      "\n",
      "%socketconnect [--raw] ipnumber portnumber\n",
      "    connects to a socket of a device over wifi\n",
      "\n",
      "%suppressendcode\n",
      "    doesn't send x04 or wait to read after sending the contents of the cell\n",
      "  (assists for debugging using %writebytes and %readbytes)\n",
      "\n",
      "%websocketconnect [--raw] [--password PASSWORD] [--verbose] [websocketurl]\n",
      "    connects to the webREPL websocket of an ESP8266 over wifi\n",
      "    websocketurl defaults to ws://192.168.4.1:8266 but be sure to be connected\n",
      "\n",
      "%writebytes [--binary] [--verbose] stringtosend\n",
      "    does serial.write() of the python quoted string given\n",
      "\n",
      "%%writefile [--append] [--execute] destinationfilename\n",
      "    write contents of cell to a file\n",
      "\n"
     ]
    }
   ],
   "source": [
    "%lsmagic"
   ]
  },
  {
   "cell_type": "code",
   "execution_count": 313,
   "metadata": {},
   "outputs": [
    {
     "name": "stdout",
     "output_type": "stream",
     "text": [
      "\u001b[34mattempt to exit paste mode\n",
      "\u001b[0m\u001b[34m[\\r\\x03\\x02] \u001b[0mb'\\r\\nMicroPython v1.14 on 2021-04-12; ESP32 module with ESP32\\r\\nType \"help()\" for more information.\\r\\n>>> '\u001b[34m\n",
      "Closing serial Serial<id=0x118649850, open=True>(port='/dev/tty.usbserial-02EDKZTP', baudrate=115200, bytesize=8, parity='N', stopbits=1, timeout=0.5, xonxoff=False, rtscts=False, dsrdtr=False)\n",
      "\u001b[0m"
     ]
    }
   ],
   "source": [
    "%disconnect"
   ]
  },
  {
   "cell_type": "code",
   "execution_count": null,
   "metadata": {},
   "outputs": [],
   "source": []
  }
 ],
 "metadata": {
  "kernelspec": {
   "display_name": "MicroPython - USB",
   "language": "micropython",
   "name": "micropython"
  },
  "language_info": {
   "codemirror_mode": "python",
   "file_extension": ".py",
   "mimetype": "text/python",
   "name": "micropython"
  }
 },
 "nbformat": 4,
 "nbformat_minor": 4
}
