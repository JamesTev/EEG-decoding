{
 "cells": [
  {
   "cell_type": "code",
   "execution_count": null,
   "source": [
    "%serialconnect to --port=\"/dev/tty.usbserial-02EDKZTP\" --baud=115200\n",
    "\n",
    "from lib.utils import load_env_vars\n",
    "\n",
    "env_vars = load_env_vars('.env')\n",
    "\n",
    "def connect_wifi():\n",
    "    import network\n",
    "    import binascii\n",
    "\n",
    "    wlan = network.WLAN(network.STA_IF)\n",
    "    wlan.active(True)\n",
    "    if not wlan.isconnected():\n",
    "        print('connecting to network...')\n",
    "        wlan.connect(env_vars.get('WIFI_SSID'), env_vars.get('WIFI_PASSWORD'))\n",
    "        while not wlan.isconnected():\n",
    "            pass\n",
    "    print('network config:', wlan.ifconfig())\n",
    "    return wlan\n",
    "\n",
    "connect_wifi()"
   ],
   "outputs": [
    {
     "output_type": "stream",
     "name": "stdout",
     "text": [
      "serial exception on close write failed: [Errno 6] Device not configured\n",
      "\u001b[34mConnecting to --port=/dev/tty.usbserial-02EDKZTP --baud=115200 \u001b[0m\n"
     ]
    }
   ],
   "metadata": {}
  },
  {
   "cell_type": "code",
   "execution_count": 7,
   "source": [
    "from lib.core import initialise, run, env_vars"
   ],
   "outputs": [],
   "metadata": {}
  },
  {
   "cell_type": "code",
   "execution_count": 8,
   "source": [
    "periph_manager, mqtt_client, data_scheduler = initialise()"
   ],
   "outputs": [
    {
     "output_type": "stream",
     "name": "stdout",
     "text": [
      "ADC initialised\n",
      "SPI initialised\n",
      "DigiPot set to minimum gain (1.8)\n",
      "network config: ('192.168.0.26', '255.255.255.0', '192.168.0.1', '192.168.0.1')\n",
      "Attemptint to connect to socket addr:  ('35.177.171.248', 1883)\n",
      "resp:  b' \\x02\\x00\\x00'\n",
      "0x4 b'32:46:00:00'\n"
     ]
    }
   ],
   "metadata": {}
  },
  {
   "cell_type": "code",
   "execution_count": 12,
   "source": [
    "import ujson as json\n",
    "msg = \"hey mate\"\n",
    "mqtt_client.publish(topic=\"james_esp32\", msg=json.dumps({'message': msg}), qos=1)"
   ],
   "outputs": [
    {
     "output_type": "stream",
     "name": "stdout",
     "text": [
      "0x4 b'32:26:00:00'\n"
     ]
    }
   ],
   "metadata": {}
  },
  {
   "cell_type": "code",
   "execution_count": 13,
   "source": [
    "run()"
   ],
   "outputs": [
    {
     "output_type": "stream",
     "name": "stdout",
     "text": [
      "0x4 b'32:b9:03:00'\n",
      ".0x4 b'32:b9:03:00'\n",
      "0x4 b'32:bb:03:00'\n",
      ".0x4 b'32:bc:03:00'\n",
      "0x4 b'32:c1:03:00'\n",
      ".0x4 b'32:c0:03:00'\n",
      "0x4 b'32:b9:03:00'\n",
      ".0x4 b'32:b9:03:00'\n",
      "0x4 b'32:ba:03:00'\n",
      ".0x4 b'32:bc:03:00'\n",
      "0x4 b'32:bc:03:00'\n",
      ".0x4 b'32:b9:03:00'\n",
      "0x4 b'32:c2:03:00'\n",
      ".0x4 b'32:ba:03:00'\n",
      "0x4 b'32:b9:03:00'\n",
      ".0x4 b'32:c1:03:00'\n",
      "0x4 b'32:c0:03:00'\n",
      ".0x4 b'32:b9:03:00'\n",
      "0x4 b'32:c0:03:00'\n",
      ".0x4 b'32:bc:03:00'\n",
      "0x4 b'32:c0:03:00'\n",
      ".0x4 b'32:ba:03:00'\n",
      "0x4 b'32:b9:03:00'\n",
      ".0x4 b'32:c0:03:00'\n",
      "0x4 b'32:c0:03:00'\n",
      ".0x4 b'32:c0:03:00'\n",
      "0x4 b'32:b9:03:00'\n",
      ".0x4 b'32:ba:03:00'\n",
      "0x4 b'32:bc:03:00'\n",
      ".0x4 b'32:c0:03:00'\n",
      "0x4 b'32:ba:03:00'\n",
      ".0x4 b'32:c1:03:00'\n",
      "0x4 b'32:c1:03:00'\n",
      ".0x4 b'32:c0:03:00'\n",
      "0x4 b'32:b9:03:00'\n",
      ".0x4 b'32:c1:03:00'\n",
      "0x4 b'32:c0:03:00'\n",
      ".0x4 b'32:ba:03:00'\n",
      "0x4 b'32:c0:03:00'\n",
      ".0x4 b'32:c1:03:00'\n",
      "0x4 b'32:c0:03:00'\n",
      ".0x4 b'32:bb:03:00'\n",
      "0x4 b'32:bc:03:00'\n",
      ".0x4 b'32:c1:03:00'\n",
      "0x4 b'32:c1:03:00'\n",
      ".0x4 b'32:c1:03:00'\n",
      "0x4 b'32:c0:03:00'\n",
      ".0x4 b'32:b9:03:00'\n",
      "0x4 b'32:c0:03:00'\n",
      ".0x4 b'32:ba:03:00'\n",
      "0x4 b'32:bb:03:00'\n",
      ".0x4 b'32:b9:03:00'\n",
      "0x4 b'32:b9:03:00'\n",
      ".0x4 b'32:b9:03:00'\n",
      "0x4 b'32:bb:03:00'\n",
      ".0x4 b'32:c2:03:00'\n",
      "0x4 b'32:c0:03:00'\n",
      ".0x4 b'32:bc:03:00'\n",
      "0x4 b'32:bb:03:00'\n",
      ".0x4 b'32:c0:03:00'\n",
      "0x4 b'32:c1:03:00'\n",
      ".0x4 b'32:c0:03:00'\n",
      "0x4 b'32:c1:03:00'\n",
      ".0x4 b'32:bb:03:00'\n",
      "0x4 b'32:c1:03:00'\n",
      ".0x4 b'32:b9:03:00'\n",
      "0x4 b'32:ba:03:00'\n",
      ".0x4 b'32:bb:03:00'\n",
      "0x4 b'32:c1:03:00'\n",
      ".0x4 b'32:b9:03:00'\n",
      "0x4 b'32:bb:03:00'\n",
      ".0x4 b'32:c0:03:00'\n",
      "0x4 b'32:c2:03:00'\n",
      ".0x4 b'32:ba:03:00'\n",
      "0x4 b'32:b9:03:00'\n",
      ".0x4 b'32:c0:03:00'\n",
      "0x4 b'32:c0:03:00'\n",
      ".0x4 b'32:bc:03:00'\n",
      "0x4 b'32:b9:03:00'\n",
      ".0x4 b'32:b9:03:00'\n",
      "0x4 b'32:bb:03:00'\n",
      ".0x4 b'32:c2:03:00'\n",
      "0x4 b'32:c0:03:00'\n",
      ".0x4 b'32:bb:03:00'\n",
      "0x4 b'32:c2:03:00'\n",
      ".0x4 b'32:ba:03:00'\n",
      "0x4 b'32:ba:03:00'\n",
      ".0x4 b'32:b9:03:00'\n",
      "0x4 b'32:c1:03:00'\n",
      ".0x4 b'32:bb:03:00'\n",
      "0x4 b'32:c0:03:00'\n",
      ".0x4 b'32:b9:03:00'\n",
      "0x4 b'32:c1:03:00'\n",
      ".0x4 b'32:c0:03:00'\n",
      "0x4 b'32:c0:03:00'\n",
      ".0x4 b'32:ba:03:00'\n",
      "0x4 b'32:b9:03:00'\n",
      ".0x4 b'32:b9:03:00'\n",
      "0x4 b'32:bb:03:00'\n",
      ".0x4 b'32:bb:03:00'\n",
      "0x4 b'32:c0:03:00'\n",
      ".0x4 b'32:c0:03:00'\n",
      "0x4 b'32:bb:03:00'\n",
      ".0x4 b'32:c2:03:00'\n",
      "0x4 b'32:ba:03:00'\n",
      ".0x4 b'32:c1:03:00'\n",
      "0x4 b'32:b9:03:00'\n",
      ".\n",
      "**[ys] <class 'serial.serialutil.SerialException'>\n",
      "**[ys] read failed: [Errno 6] Device not configured\n",
      "\n",
      "\n",
      "**[ys] <class 'serial.serialutil.SerialException'>\n",
      "**[ys] read failed: [Errno 6] Device not configured\n",
      "\n"
     ]
    }
   ],
   "metadata": {}
  },
  {
   "cell_type": "code",
   "execution_count": 52,
   "source": [
    "from machine import Pin, PWM\n",
    "\n",
    "green_led = Pin(26, Pin.OUT)\n",
    "red_led = Pin(13, Pin.OUT)\n",
    "\n",
    "btn_a = Pin(32, Pin.IN)\n",
    "btn_b = Pin(34, Pin.IN)"
   ],
   "outputs": [],
   "metadata": {}
  },
  {
   "cell_type": "code",
   "execution_count": 73,
   "source": [
    "from lib.umqtt import MQTTClient\n",
    "import ujson as json\n",
    "\n",
    "import urandom\n",
    "\n",
    "def rand_str(l=10):\n",
    "    return ''.join([chr(urandom.randint(40, 120)) for i in range(l)])\n",
    "          \n",
    "def sub_cb(topic, msg):\n",
    "    print(topic, msg)\n",
    "\n",
    "# server=\"ec2-35-177-171-248.eu-west-2.compute.amazonaws.com\"\n",
    "server = env_vars.get('MQTT_SERVER')\n",
    "port = env_vars.get('MQTT_PORT')\n",
    "topic = env_vars.get('MQTT_DEFAULT_TOPIC')\n",
    "\n",
    "client = MQTTClient(client_id=\"james-esp32-\"+rand_str(l=5), server=server, port=1883, keepalive=6000, ssl=False)\n",
    "\n",
    "client.set_callback(sub_cb)\n",
    "client.connect()\n",
    "\n",
    "msg = \"Hello from Jim's ESP32\"\n",
    "client.publish(topic=topic, msg=json.dumps({'message': msg}), qos=1)\n"
   ],
   "outputs": [
    {
     "output_type": "stream",
     "name": "stdout",
     "text": [
      "Attemptint to connect to socket addr:  ('35.177.171.248', 1883)\n",
      "resp:  b' \\x02\\x00\\x00'\n",
      "0x4 b'32:34:00:00'\n"
     ]
    }
   ],
   "metadata": {}
  },
  {
   "cell_type": "code",
   "execution_count": 74,
   "source": [
    "client.publish(topic=\"esp32\", msg=json.dumps({'message': msg}), qos=1)"
   ],
   "outputs": [
    {
     "output_type": "stream",
     "name": "stdout",
     "text": [
      "0x4 b'32:2e:00:00'\n"
     ]
    }
   ],
   "metadata": {}
  },
  {
   "cell_type": "code",
   "execution_count": 83,
   "source": [
    "msg = \"Hello again!\"\n",
    "client.publish(topic=\"james_esp32\", msg=json.dumps({'message': msg}), qos=1)"
   ],
   "outputs": [
    {
     "output_type": "stream",
     "name": "stdout",
     "text": [
      "0x4 b'32:2a:00:00'\n"
     ]
    }
   ],
   "metadata": {}
  },
  {
   "cell_type": "code",
   "execution_count": 21,
   "source": [
    "import urandom as random\n",
    "from ubinascii import hexlify\n",
    "import utime\n",
    "\n",
    "for i in range(5):\n",
    "    msg = \"some code: \" + str(hexlify(str(random.randint(100, 1000))))\n",
    "    client.publish(topic=\"james_esp32\", msg=json.dumps({'message': msg}), qos=1)\n",
    "    utime.sleep(0.2)"
   ],
   "outputs": [
    {
     "output_type": "stream",
     "name": "stdout",
     "text": [
      "0x4 b'32:32:00:00'\n",
      "0x4 b'32:32:00:00'\n",
      "0x4 b'32:32:00:00'\n",
      "0x4 b'32:32:00:00'\n",
      "0x4 b'32:32:00:00'\n"
     ]
    }
   ],
   "metadata": {}
  },
  {
   "cell_type": "code",
   "execution_count": 201,
   "source": [
    "%ls --recursive aws/"
   ],
   "outputs": [
    {
     "output_type": "stream",
     "name": "stdout",
     "text": [
      "Listing directory 'aws/'.\n",
      "     6148    aws//.DS_Store\n",
      "     1758    aws//aws_ca.pem\n",
      "     1224    aws//dab0ac2b5c-certificate.pem.crt\n",
      "     1679    aws//dab0ac2b5c-private.pem.key\n",
      "      451    aws//dab0ac2b5c-public.pem.key\n"
     ]
    }
   ],
   "metadata": {}
  },
  {
   "cell_type": "code",
   "execution_count": 124,
   "source": [
    "%sendtofile --source lib/core.py lib/core.py\n",
    "# %sendtofile --source mpy-modules/websocket/ws_server.py /websocket/ws_server.py"
   ],
   "outputs": [
    {
     "output_type": "stream",
     "name": "stdout",
     "text": [
      "Sent 62 lines (1752 bytes) to lib/core.py.\n"
     ]
    }
   ],
   "metadata": {}
  },
  {
   "cell_type": "code",
   "execution_count": 259,
   "source": [
    "%sendtofile --source lib/mpy/utils.mpy /lib/utils.mpy --binary"
   ],
   "outputs": [
    {
     "output_type": "stream",
     "name": "stdout",
     "text": [
      "Sent 530 bytes in 18 chunks to /lib/utils.mpy.\n"
     ]
    }
   ],
   "metadata": {}
  },
  {
   "cell_type": "code",
   "execution_count": 117,
   "source": [
    "%sendtofile --source lib/.env .env --binary"
   ],
   "outputs": [
    {
     "output_type": "stream",
     "name": "stdout",
     "text": [
      "Sent 3117 bytes in 104 chunks to .env.\n"
     ]
    }
   ],
   "metadata": {}
  }
 ],
 "metadata": {
  "kernelspec": {
   "name": "python3",
   "display_name": "Python 3.9.7 64-bit ('base_env': virtualenv)"
  },
  "language_info": {
   "codemirror_mode": "python",
   "file_extension": ".py",
   "mimetype": "text/python",
   "name": "python",
   "version": "3.9.7"
  },
  "interpreter": {
   "hash": "ddf10868e190bcb344b9067079d3f9da34f539c25bf1304b62604bd0fa6b9572"
  }
 },
 "nbformat": 4,
 "nbformat_minor": 4
}