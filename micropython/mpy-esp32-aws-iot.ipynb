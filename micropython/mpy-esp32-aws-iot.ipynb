{
 "cells": [
  {
   "cell_type": "code",
   "execution_count": null,
   "metadata": {},
   "outputs": [
    {
     "name": "stdout",
     "output_type": "stream",
     "text": [
      "serial exception on close write failed: [Errno 6] Device not configured\n",
      "\u001b[34mConnecting to --port=/dev/tty.usbserial-02EDKZTP --baud=115200 \u001b[0m\n"
     ]
    }
   ],
   "source": [
    "%serialconnect to --port=\"/dev/tty.usbserial-02EDKZTP\" --baud=115200\n",
    "\n",
    "from lib.utils import load_env_vars\n",
    "\n",
    "env_vars = load_env_vars('.env')\n",
    "\n",
    "def connect_wifi():\n",
    "    import network\n",
    "    import binascii\n",
    "\n",
    "    wlan = network.WLAN(network.STA_IF)\n",
    "    wlan.active(True)\n",
    "    if not wlan.isconnected():\n",
    "        print('connecting to network...')\n",
    "        wlan.connect(env_vars.get('WIFI_SSID'), env_vars.get('WIFI_PASSWORD'))\n",
    "        while not wlan.isconnected():\n",
    "            pass\n",
    "    print('network config:', wlan.ifconfig())\n",
    "    return wlan\n",
    "\n",
    "connect_wifi()"
   ]
  },
  {
   "cell_type": "code",
   "execution_count": 7,
   "metadata": {},
   "outputs": [],
   "source": [
    "from lib.core import initialise, run, env_vars"
   ]
  },
  {
   "cell_type": "code",
   "execution_count": 8,
   "metadata": {},
   "outputs": [
    {
     "name": "stdout",
     "output_type": "stream",
     "text": [
      "ADC initialised\n",
      "SPI initialised\n",
      "DigiPot set to minimum gain (1.8)\n",
      "network config: ('192.168.0.26', '255.255.255.0', '192.168.0.1', '192.168.0.1')\n",
      "Attemptint to connect to socket addr:  ('35.177.171.248', 1883)\n",
      "resp:  b' \\x02\\x00\\x00'\n",
      "0x4 b'32:46:00:00'\n"
     ]
    }
   ],
   "source": [
    "periph_manager, mqtt_client, data_scheduler = initialise()"
   ]
  },
  {
   "cell_type": "code",
   "execution_count": 12,
   "metadata": {},
   "outputs": [
    {
     "name": "stdout",
     "output_type": "stream",
     "text": [
      "0x4 b'32:26:00:00'\n"
     ]
    }
   ],
   "source": [
    "import ujson as json\n",
    "msg = \"hey mate\"\n",
    "mqtt_client.publish(topic=\"james_esp32\", msg=json.dumps({'message': msg}), qos=1)"
   ]
  },
  {
   "cell_type": "code",
   "execution_count": 1,
   "metadata": {},
   "outputs": [],
   "source": [
    "run()"
   ]
  },
  {
   "cell_type": "code",
   "execution_count": 52,
   "metadata": {},
   "outputs": [],
   "source": [
    "from machine import Pin, PWM\n",
    "\n",
    "green_led = Pin(26, Pin.OUT)\n",
    "red_led = Pin(13, Pin.OUT)\n",
    "\n",
    "btn_a = Pin(32, Pin.IN)\n",
    "btn_b = Pin(34, Pin.IN)"
   ]
  },
  {
   "cell_type": "code",
   "execution_count": 73,
   "metadata": {},
   "outputs": [
    {
     "name": "stdout",
     "output_type": "stream",
     "text": [
      "Attemptint to connect to socket addr:  ('35.177.171.248', 1883)\n",
      "resp:  b' \\x02\\x00\\x00'\n",
      "0x4 b'32:34:00:00'\n"
     ]
    }
   ],
   "source": [
    "from lib.umqtt import MQTTClient\n",
    "import ujson as json\n",
    "\n",
    "import urandom\n",
    "\n",
    "def rand_str(l=10):\n",
    "    return ''.join([chr(urandom.randint(40, 120)) for i in range(l)])\n",
    "          \n",
    "def sub_cb(topic, msg):\n",
    "    print(topic, msg)\n",
    "\n",
    "# server=\"ec2-35-177-171-248.eu-west-2.compute.amazonaws.com\"\n",
    "server = env_vars.get('MQTT_SERVER')\n",
    "port = env_vars.get('MQTT_PORT')\n",
    "topic = env_vars.get('MQTT_DEFAULT_TOPIC')\n",
    "\n",
    "client = MQTTClient(client_id=\"james-esp32-\"+rand_str(l=5), server=server, port=1883, keepalive=6000, ssl=False)\n",
    "\n",
    "client.set_callback(sub_cb)\n",
    "client.connect()\n",
    "\n",
    "msg = \"Hello from Jim's ESP32\"\n",
    "client.publish(topic=topic, msg=json.dumps({'message': msg}), qos=1)\n"
   ]
  },
  {
   "cell_type": "code",
   "execution_count": 74,
   "metadata": {},
   "outputs": [
    {
     "name": "stdout",
     "output_type": "stream",
     "text": [
      "0x4 b'32:2e:00:00'\n"
     ]
    }
   ],
   "source": [
    "client.publish(topic=\"esp32\", msg=json.dumps({'message': msg}), qos=1)"
   ]
  },
  {
   "cell_type": "code",
   "execution_count": 21,
   "metadata": {},
   "outputs": [
    {
     "name": "stdout",
     "output_type": "stream",
     "text": [
      "0x4 b'32:32:00:00'\n",
      "0x4 b'32:32:00:00'\n",
      "0x4 b'32:32:00:00'\n",
      "0x4 b'32:32:00:00'\n",
      "0x4 b'32:32:00:00'\n"
     ]
    }
   ],
   "source": [
    "import urandom as random\n",
    "from ubinascii import hexlify\n",
    "import utime\n",
    "\n",
    "for i in range(5):\n",
    "    msg = \"some code: \" + str(hexlify(str(random.randint(100, 1000))))\n",
    "    client.publish(topic=\"james_esp32\", msg=json.dumps({'message': msg}), qos=1)\n",
    "    utime.sleep(0.2)"
   ]
  },
  {
   "cell_type": "code",
   "execution_count": 201,
   "metadata": {},
   "outputs": [
    {
     "name": "stdout",
     "output_type": "stream",
     "text": [
      "Listing directory 'aws/'.\n",
      "     6148    aws//.DS_Store\n",
      "     1758    aws//aws_ca.pem\n",
      "     1224    aws//dab0ac2b5c-certificate.pem.crt\n",
      "     1679    aws//dab0ac2b5c-private.pem.key\n",
      "      451    aws//dab0ac2b5c-public.pem.key\n"
     ]
    }
   ],
   "source": [
    "%ls --recursive aws/"
   ]
  },
  {
   "cell_type": "code",
   "execution_count": 124,
   "metadata": {},
   "outputs": [
    {
     "name": "stdout",
     "output_type": "stream",
     "text": [
      "Sent 62 lines (1752 bytes) to lib/core.py.\n"
     ]
    }
   ],
   "source": [
    "%sendtofile --source lib/core.py lib/core.py\n",
    "# %sendtofile --source mpy-modules/websocket/ws_server.py /websocket/ws_server.py"
   ]
  },
  {
   "cell_type": "code",
   "execution_count": 259,
   "metadata": {},
   "outputs": [
    {
     "name": "stdout",
     "output_type": "stream",
     "text": [
      "Sent 530 bytes in 18 chunks to /lib/utils.mpy.\n"
     ]
    }
   ],
   "source": [
    "%sendtofile --source lib/mpy/utils.mpy /lib/utils.mpy --binary"
   ]
  },
  {
   "cell_type": "code",
   "execution_count": 117,
   "metadata": {},
   "outputs": [
    {
     "name": "stdout",
     "output_type": "stream",
     "text": [
      "Sent 3117 bytes in 104 chunks to .env.\n"
     ]
    }
   ],
   "source": [
    "%sendtofile --source lib/.env .env --binary"
   ]
  }
 ],
 "metadata": {
  "interpreter": {
   "hash": "ddf10868e190bcb344b9067079d3f9da34f539c25bf1304b62604bd0fa6b9572"
  },
  "kernelspec": {
   "display_name": "Python 3 (ipykernel)",
   "language": "python",
   "name": "python3"
  },
  "language_info": {
   "codemirror_mode": {
    "name": "ipython",
    "version": 3
   },
   "file_extension": ".py",
   "mimetype": "text/x-python",
   "name": "python",
   "nbconvert_exporter": "python",
   "pygments_lexer": "ipython3",
   "version": "3.8.12"
  }
 },
 "nbformat": 4,
 "nbformat_minor": 4
}
