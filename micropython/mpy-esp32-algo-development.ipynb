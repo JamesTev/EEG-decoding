{
 "cells": [
  {
   "cell_type": "markdown",
   "metadata": {},
   "source": [
    "## MicroPython ESP32 Algorithm Development"
   ]
  },
  {
   "cell_type": "markdown",
   "metadata": {},
   "source": [
    "### Establishing connection to target board\n",
    "First, make sure you've got the right serial port. On unix-based systems, you can run `ls /dev/tty.*` to see your available serial devices. Replace as necessary below.\n",
    "\n",
    "This will allow Jupyter (your host computer) to run commands and send/receive information to/from your target board in real time using the MicroPython REPL."
   ]
  },
  {
   "cell_type": "code",
   "execution_count": 2,
   "metadata": {},
   "outputs": [
    {
     "name": "stdout",
     "output_type": "stream",
     "text": [
      "\u001b[34mConnecting to --port=/dev/tty.usbserial-02U1W54L --baud=115200 \u001b[0m\n",
      "MicroPython d8a7bf8-dirty on 2022-02-09; ESP32 module with ESP32\n",
      "Type \"help()\" for more information.\n",
      ">>>[reboot detected 0]repl is in normal command mode\n",
      "[\\r\\x03\\x03] b'\\r\\n>>> '\n",
      "[\\r\\x01] b'\\r\\n>>> \\r\\nraw REPL; CTRL-B to exit\\r\\n>' \u001b[34mReady.\n",
      "\u001b[0m"
     ]
    }
   ],
   "source": [
    "%serialconnect to --port=\"/dev/tty.usbserial-02U1W54L\" --baud=115200\n",
    "# %serialconnect to --port=\"/dev/tty.usbserial-0001\" --baud=115200"
   ]
  },
  {
   "cell_type": "code",
   "execution_count": 18,
   "metadata": {},
   "outputs": [
    {
     "name": "stdout",
     "output_type": "stream",
     "text": [
      "Sent 181 lines (5258 bytes) to lib/computation.py.\n"
     ]
    }
   ],
   "source": [
    "%sendtofile lib/computation.py --source lib/computation.py"
   ]
  },
  {
   "cell_type": "code",
   "execution_count": 86,
   "metadata": {},
   "outputs": [
    {
     "name": "stdout",
     "output_type": "stream",
     "text": [
      "Sent 234 lines (8715 bytes) to lib/decoding.py.\n"
     ]
    }
   ],
   "source": [
    "%sendtofile lib/decoding.py --source lib/decoding.py"
   ]
  },
  {
   "cell_type": "markdown",
   "metadata": {},
   "source": [
    "## Experimentation"
   ]
  },
  {
   "cell_type": "code",
   "execution_count": 5,
   "metadata": {},
   "outputs": [],
   "source": [
    "import urandom\n",
    "from ulab import numpy as np\n",
    "\n",
    "def synth_x(f, Ns, noise_power=0.5, fs=250):\n",
    "    \"\"\"\n",
    "    generate a synthetic signal vector\n",
    "    \n",
    "    args:\n",
    "    Ns [int]: number of samples (time samples)\n",
    "    noise_power [float]: variance of WGN noise distribution\n",
    "    \"\"\"\n",
    "    t = np.arange(0, Ns/fs, 1/fs)\n",
    "    return np.sin(t*2*np.pi*f)*(1+urandom.random()*noise_power)\n",
    "\n",
    "def synth_X(f, Nc, Ns, Nt=1, noise_power=0.5, fs=200, f_std=0.02):\n",
    "    \"\"\"\n",
    "    Generate a matrix of several variations of the same target signal. This is used\n",
    "    to simulate the measurement of a common signal over multiple EEG channels \n",
    "    that have different SNR characteristics.\n",
    "    \n",
    "    args:\n",
    "    f [float]: target frequency of synthetic signal (Hz)\n",
    "    Nc [int]: number of channels\n",
    "    Ns [int]: number of samples (time samples)\n",
    "    noise_power [float]: variance of WGN noise distribution\n",
    "    fs [float]: sampling frequency (Hz)\n",
    "    f_std [float]: standard dev. of freq. in generated signal across channels to simulate interference from other frequency components over different channels\n",
    "    \"\"\"\n",
    "    def _synth():\n",
    "        X = []\n",
    "        for i in range(Nc): # simulate noisy sinusoids with varying SNR across Nc channels\n",
    "            f_i = f*(1+urandom.random()*f_std)\n",
    "            x = synth_x(f_i, Ns, noise_power=noise_power)\n",
    "\n",
    "            X.append(x)\n",
    "\n",
    "        return np.array(X)\n",
    "    \n",
    "    if Nt <= 1:\n",
    "        return _synth()\n",
    "    else:\n",
    "        trials = []\n",
    "        for i in range(Nt):\n",
    "            trials.append(_synth().flatten())\n",
    "\n",
    "        return np.array(trials)"
   ]
  },
  {
   "cell_type": "code",
   "execution_count": 6,
   "metadata": {},
   "outputs": [],
   "source": [
    "from lib.decoding import harmonic_reference\n",
    "\n",
    "X = X_test\n",
    "Y = harmonic_reference(7, 200, np.max(X_test.shape), Nh=2, standardise_out=True)"
   ]
  },
  {
   "cell_type": "code",
   "execution_count": 7,
   "metadata": {},
   "outputs": [],
   "source": [
    "from lib.decoding import harmonic_reference\n",
    "from lib.computation import max_eig\n",
    "\n",
    "X = X_test\n",
    "Y = harmonic_reference(7, 200, np.max(X_test.shape), Nh=2, standardise_out=True)\n",
    "\n",
    "Cxx = np.dot(X, X.transpose()) # auto correlation matrix\n",
    "Cyy = np.dot(Y, Y.transpose()) \n",
    "Cxy = np.dot(X, Y.transpose()) # cross correlation matrix\n",
    "Cyx = np.dot(Y, X.transpose()) # same as Cxy.T\n",
    "\n",
    "M1 = np.dot(np.linalg.inv(Cxx), Cxy) # intermediate result\n",
    "M2 = np.dot(np.linalg.inv(Cyy), Cyx)\n",
    "\n",
    "lam, _ = max_eig(np.dot(M1, M2), 20)"
   ]
  },
  {
   "cell_type": "code",
   "execution_count": 8,
   "metadata": {},
   "outputs": [
    {
     "name": "stdout",
     "output_type": "stream",
     "text": [
      "0.3064166166077461\n"
     ]
    }
   ],
   "source": [
    "print(lam)"
   ]
  },
  {
   "cell_type": "code",
   "execution_count": 11,
   "metadata": {},
   "outputs": [],
   "source": [
    "from lib.decoding import CCA, SingleChannelMsetCCA, SingleChannelGCCA\n",
    "\n",
    "class DecoderSSVEP():\n",
    "    \n",
    "    decoding_algos = ['CCA', 'MsetCCA', 'GCCA']\n",
    "    \n",
    "    def __init__(self, stim_freqs, fs, algo):\n",
    "                    \n",
    "        self.stim_freqs = stim_freqs \n",
    "        self.fs = fs\n",
    "        self.algo = algo\n",
    "        \n",
    "        self.decoder_stack = {}\n",
    "        \n",
    "        for f in self.stim_freqs:\n",
    "            if algo == 'CCA':\n",
    "                decoder_f = CCA(f, self.fs, Nh=1)\n",
    "            elif algo == 'MsetCCA':\n",
    "                decoder_f = SingleChannelMsetCCA()\n",
    "            elif algo == 'GCCA':\n",
    "                decoder_f = SingleChannelGCCA(f, self.fs, Nh=1)\n",
    "            else:\n",
    "                raise ValueError(\"Invalid algorithm. Must be one of {}\".format(decoding_algos))\n",
    "            \n",
    "            self.decoder_stack[f] = decoder_f\n",
    "    \n",
    "    @property\n",
    "    def requires_calibration(self):\n",
    "        return self.algo in ['MsetCCA', 'GCCA']\n",
    "    \n",
    "    @property\n",
    "    def is_calibrated(self):\n",
    "        return all([d.is_calibrated for d in self.decoder_stack.values()])\n",
    "    \n",
    "    def calibrate(self, calibration_data_map):\n",
    "        \n",
    "        if not self.requires_calibration:\n",
    "            print(\"Warning: trying to fit data with an algorithm that doesn't require calibration\")\n",
    "            return\n",
    "        \n",
    "        for freq, cal_data in calibration_data_map.items():\n",
    "            if freq not in self.stim_freqs:\n",
    "                raise ValueError(\"Invalid stimulus frequency supplied\")\n",
    "            self.decoder_stack[freq].fit(cal_data)\n",
    "            \n",
    "    def classify(self, X_test):\n",
    "        result = {}\n",
    "        for f, decoder_f in self.decoder_stack.items():\n",
    "            if self.requires_calibration and not decoder_f.is_calibrated:\n",
    "                print(\"Warning: decoder has not been calibrated for {}Hz stimulus frequency\".format(f))\n",
    "                result[f] = np.nan\n",
    "            else:    \n",
    "                result[f] = decoder_f.compute_corr(X_test)\n",
    "        return result    "
   ]
  },
  {
   "cell_type": "code",
   "execution_count": 12,
   "metadata": {},
   "outputs": [],
   "source": [
    "stim_freqs = [7, 10, 12]\n",
    "fs = 256\n",
    "algo = 'GCCA'\n",
    "Nt = 3\n",
    "Ns = 100\n",
    "Nc = 1\n",
    "\n",
    "decoder = DecoderSSVEP(stim_freqs, fs, algo)\n",
    "cal_data = {f:synth_X(f, Nc, Ns, Nt=Nt) for f in stim_freqs}"
   ]
  },
  {
   "cell_type": "code",
   "execution_count": 16,
   "metadata": {},
   "outputs": [],
   "source": [
    "decoder.calibrate(cal_data)"
   ]
  },
  {
   "cell_type": "code",
   "execution_count": null,
   "metadata": {},
   "outputs": [
    {
     "name": "stdout",
     "output_type": "stream",
     "text": [
      "{12: 0.9630586064983724, 10: -0.01418800263155016, 7: 0.001627946057185693}\n"
     ]
    }
   ],
   "source": [
    "X_test = synth_X(12, 1, 100, Nt=1)\n",
    "\n",
    "result = decoder.compute_corr(X_test)\n",
    "print(result)"
   ]
  },
  {
   "cell_type": "code",
   "execution_count": 27,
   "metadata": {},
   "outputs": [
    {
     "name": "stdout",
     "output_type": "stream",
     "text": [
      "0.1412296513724207\n"
     ]
    }
   ],
   "source": [
    "X_train = synth_X(7, 1, 100, Nt=3)\n",
    "X_test = synth_X(10, 1, 100, Nt=1)\n",
    "\n",
    "mcca = SingleChannelMsetCCA()\n",
    "mcca.fit(X_train)\n",
    "\n",
    "print(mcca.compute_corr(X_test))"
   ]
  },
  {
   "cell_type": "code",
   "execution_count": 21,
   "metadata": {},
   "outputs": [],
   "source": [
    "from ulab import numpy as np\n",
    "\n",
    "class SingleChannelMsetCCA(): \n",
    "    \"\"\"\n",
    "    Multiset CCA algorithm for SSVEP decoding.\n",
    "    Computes optimised reference signal set based on historical observations\n",
    "    and uses ordinary CCA for final correlation computation given a new test\n",
    "    signal.\n",
    "    Note: this is a 1 channel implementation (Nc=1)\n",
    "    \"\"\"\n",
    "    def __init__(self):\n",
    "        self.Ns, self.Nt = None, None\n",
    "        \n",
    "    def fit(self, X, compress_ref=True): \n",
    "        \"\"\"\n",
    "        Expects a training matrix X of shape Nt x Ns. If `compress_ref=True`, the `Nt` components in optimised reference signal Y will be averaged to form a single reference vector. This can be used for memory optimisation but will likely degrade performance slightly.\n",
    "        \"\"\"\n",
    "        if X.shape[0] > X.shape[1]:\n",
    "            print(\"Warning: received more trials than samples. This is unusual behaviour: check X\")\n",
    "        \n",
    "        R = np.dot(X, X.transpose()) # inter trial covariance matrix\n",
    "        S = np.eye(len(R))*np.diag(R) # intra-trial diag covariance matrix\n",
    "        lam, V = solve_gen_eig_prob((R-S), S) # solve generalised eig problem\n",
    "        w = V[:, np.argmax(lam)] # find eigenvector corresp to largest eigenvalue\n",
    "        Y = np.array([x*w[i] for i, x in enumerate(X)]) # store optimised reference vector Nt x Ns self.Y = Y\n",
    "        \n",
    "        if compress_ref:\n",
    "            self.Y = np.mean(Y, axis=0).reshape((1, max(Y.shape))) # this will average Nt components in Y: Nc x Nt -> 1 x Nt\n",
    "    \n",
    "    def compute(self, X_test):\n",
    "        if self.Y is None:\n",
    "            raise ValueError(\"Reference matrix Y must be computed using  fit  before computing corr\")\n",
    "        if len(X_test.shape) == 1:\n",
    "            X_test = X_test.reshape((1, len(X_test)))\n",
    "        return CCA.cca_eig(X_test, self.Y)[0] # use ordinary CCA with optimised ref. Y"
   ]
  },
  {
   "cell_type": "code",
   "execution_count": 188,
   "metadata": {},
   "outputs": [],
   "source": [
    "def col_concat(*mats):\n",
    "    cols = sum([mat.shape[1] for mat in mats])\n",
    "    rows = mats[0].shape[0]\n",
    "    out = np.zeros((rows, cols))\n",
    "    j = 0\n",
    "    for mat in mats:\n",
    "        mat_cols = mat.shape[1]\n",
    "        out[:, j:j+mat_cols] = mat\n",
    "        j += mat_cols\n",
    "        \n",
    "    return out\n",
    "\n",
    "def zeros_like(A):\n",
    "    return np.zeros(A.shape)\n",
    "\n",
    "def block_diag(X, Y, reverse=False):\n",
    "    if not reverse:\n",
    "        X = np.concatenate((X, zeros_like(X)), axis=1)\n",
    "        Y = np.concatenate((zeros_like(Y), Y), axis=1)\n",
    "    else:\n",
    "        X = np.concatenate((zeros_like(X), X), axis=1)\n",
    "        Y = np.concatenate((Y, zeros_like(Y)), axis=1)\n",
    "    return np.concatenate((X, Y), axis=0)\n",
    "\n",
    "def sign(x):\n",
    "    x+1 # arb operation to raise an error if non-numeric arg given.\n",
    "    return 1 if x >=0 else -1"
   ]
  },
  {
   "cell_type": "code",
   "execution_count": 215,
   "metadata": {},
   "outputs": [],
   "source": [
    "from lib.decoding import harmonic_reference\n",
    "from lib.computation import solve_gen_eig_prob, corr\n",
    "\n",
    "class SingleChannelGCCA(): \n",
    "    \"\"\"\n",
    "    Generalised canonical component analysis for Nc=1.\n",
    "    Expects the target frequency at `f_ssvep`. `fs` is the sampling rate used and `Nh` the number of harmonics for the harmonic r\n",
    "    Ref: 'Improving SSVEP Identification Accuracy via Generalized Canonical Correlation Analysis' Sun, Chen et al\n",
    "    \"\"\"\n",
    "    def __init__(self, f_ssvep, fs, Nh=1, name=None):\n",
    "        self.Ns, self.Nt = None, None\n",
    "        self.Nh = Nh\n",
    "        self.w = None\n",
    "        self.X_bar = None\n",
    "        self.fs = fs\n",
    "        self.f_ssvep = f_ssvep\n",
    "        self.name = name or \"gcca_{0}hz\".format(f_ssvep)\n",
    "    \n",
    "    def fit(self, X): \n",
    "        \"\"\"\n",
    "        Fit against training data.\n",
    "        X should be a matrix of dim (Nt x Ns)\n",
    "        \"\"\"\n",
    "        self.Nt, self.Ns = X.shape\n",
    "\n",
    "        # template signal\n",
    "        X_bar = np.mean(X, axis=0).reshape((1, Ns))\n",
    "        Y = harmonic_reference(self.f_ssvep, self.fs, self.Ns)\n",
    "\n",
    "        # form concatenated matrices (vectors for Nc=1)\n",
    "        X_c = X.reshape((1, self.Ns*self.Nt))\n",
    "        \n",
    "        X_bar_c = col_concat(*[X_bar for i in range(self.Nt)])\n",
    "        X_bar_c = X_bar_c.reshape((1, self.Ns*self.Nt))\n",
    "        \n",
    "        Y_c = col_concat(*[Y for i in range(self.Nt)])\n",
    "        \n",
    "        X_comb = col_concat(X_c.T, X_bar_c.T, Y_c.T).T\n",
    "        \n",
    "        D1 = np.dot(X_c, X_c.T)\n",
    "        D2 = np.dot(X_bar_c, X_bar_c.T)\n",
    "        D3 = np.dot(Y_c, Y_c.T)\n",
    "        \n",
    "        D = block_diag(block_diag(D1, D2), D3)\n",
    "        \n",
    "        lam, W_eig = solve_gen_eig_prob(np.dot(X_comb, X_comb.T), D)\n",
    "\n",
    "        self.w = W_eig[:, np.argmax(lam)] # optimal spatial filter vector with dim (2*Nc + 2*Nh)\n",
    "        self.X_bar = X_bar\n",
    "        \n",
    "    def compute(self, X_test):\n",
    "        \"\"\"\n",
    "        Compute output correlation for a test observation with dim. (1 x Ns)\n",
    "        \"\"\"\n",
    "        if self.w is None:\n",
    "            raise ValueError(\"call .fit(X_train) before performing classification.\")\n",
    "            \n",
    "        if len(X_test.shape) == 1:\n",
    "            X_test = X_test.reshape((len(X_test), 1))\n",
    "        else:\n",
    "            X_test = X_test.T \n",
    "\n",
    "        w_X = self.w[0:1]\n",
    "        w_X_bar = self.w[1:2] # second weight correspond to Nc (Nc=1) template channels\n",
    "        w_Y = self.w[2:] # final 2*Nh weights correspond to ref sinusoids with harmonics\n",
    "\n",
    "        # regenerate these instead of storing from the `fit` function since\n",
    "        # computationally cheap to generate but expensive to store in memory\n",
    "        Y = harmonic_reference(self.f_ssvep, self.fs, self.Ns)\n",
    "\n",
    "        X_test_image = np.dot(X_test, w_X)\n",
    "        rho1 = corr(X_test_image, np.dot(self.X_bar.T, w_X_bar))\n",
    "        rho2 = corr(X_test_image, np.dot(Y.T, w_Y))\n",
    "        \n",
    "        return sum([sign(rho_i)*rho_i**2 for rho_i in [rho1, rho2]])/2"
   ]
  },
  {
   "cell_type": "code",
   "execution_count": 216,
   "metadata": {},
   "outputs": [],
   "source": [
    "Nt = 3\n",
    "Ns = 200\n",
    "fs = 256\n",
    "f = 7\n",
    "\n",
    "gcca = UnivariateGCCA(f, fs)"
   ]
  },
  {
   "cell_type": "code",
   "execution_count": 217,
   "metadata": {},
   "outputs": [
    {
     "name": "stdout",
     "output_type": "stream",
     "text": [
      "array([[0.0, 0.2397766696779567, 0.4720847434558566, ..., -0.3453172962436833, -0.5719038352766238, -0.7806766368633139],\n",
      "       [0.0, 0.2432302656913529, 0.4788798286886903, ..., -0.3641402916327024, -0.5931155041545074, -0.8036052198676307],\n",
      "       [0.0, 0.260550645021267, 0.5127782211117632, ..., -0.9419911747589055, -1.126363397439811, -1.274754898609826]], dtype=float64)\n"
     ]
    }
   ],
   "source": [
    "# Form trial matrix\n",
    "\n",
    "X = []\n",
    "for i in range(Nt):\n",
    "    X.append(synth_X(f, 1, Ns).flatten())\n",
    "    \n",
    "X = np.array(X)\n",
    "print(X)"
   ]
  },
  {
   "cell_type": "code",
   "execution_count": 218,
   "metadata": {},
   "outputs": [],
   "source": [
    "gcca.fit(X)"
   ]
  },
  {
   "cell_type": "code",
   "execution_count": 224,
   "metadata": {},
   "outputs": [
    {
     "name": "stdout",
     "output_type": "stream",
     "text": [
      "0.9452395145148026\n"
     ]
    }
   ],
   "source": [
    "X_test = synth_X(7, 1, Ns)\n",
    "\n",
    "rho = gcca.compute(X_test)\n",
    "print(rho)"
   ]
  },
  {
   "cell_type": "code",
   "execution_count": 97,
   "metadata": {},
   "outputs": [
    {
     "name": "stdout",
     "output_type": "stream",
     "text": [
      "array([0.0, 0.2205129133879401, 0.434135087407134], dtype=float64)\n",
      "array([[0.1709618887603012, 0.33688985339222, 0.492898192229784],\n",
      "       [0.9852776423889413, 0.9415440651830208, 0.8700869911087114]], dtype=float64)\n",
      "array([[0.1709618887603012, 0.33688985339222, 0.492898192229784],\n",
      "       [0.9852776423889413, 0.9415440651830208, 0.8700869911087114]], dtype=float64)\n",
      "array([[0.0, 0.2205129133879401, 0.434135087407134, 0.0, 0.2205129133879401, 0.434135087407134, 0.0, 0.2205129133879401, 0.434135087407134]], dtype=float64)\n"
     ]
    }
   ],
   "source": [
    "from lib.decoding import harmonic_reference\n",
    "\n",
    "# template signal\n",
    "X_bar = np.mean(X, axis=0)\n",
    "print(X_bar)\n",
    "\n",
    "Y = harmonic_reference(f, fs, Ns)\n",
    "print(Y)\n",
    "\n",
    "# form concatenated matrices (vectors for Nc=1)\n",
    "X_c = X.reshape((1, Ns*Nt))\n",
    "X_bar_c = np.ones(X_bar.shape)*X_bar\n",
    "Y_c = np.ones(Y.shape)*Y\n",
    "\n",
    "print(Y_c)\n",
    "\n",
    "for i in range(1, Nt):\n",
    "    Y_c = np.concatenate((Y_c, Y))\n",
    "    X_bar_c = np.concatenate((X_bar_c, X_bar))\n",
    "\n",
    "Y_c = Y_c.transpose()\n",
    "X_bar_c = X_bar_c.reshape((1, Ns*Nt))\n",
    "\n",
    "print(X_bar_c)"
   ]
  },
  {
   "cell_type": "code",
   "execution_count": 98,
   "metadata": {},
   "outputs": [
    {
     "name": "stdout",
     "output_type": "stream",
     "text": [
      "array([[0.1709618887603012, 0.33688985339222, 0.492898192229784],\n",
      "       [0.9852776423889413, 0.9415440651830208, 0.8700869911087114]], dtype=float64)\n"
     ]
    }
   ],
   "source": [
    "X_comb = np.concatenate((X_c, X_bar_c))\n",
    "# X_comb = np.concatenate((X_comb, Y_c))\n",
    "print(Y)"
   ]
  },
  {
   "cell_type": "code",
   "execution_count": 121,
   "metadata": {},
   "outputs": [
    {
     "name": "stdout",
     "output_type": "stream",
     "text": [
      "array([[0.1709618887603012, 0.33688985339222, 0.492898192229784, 0.1709618887603012, 0.33688985339222, 0.492898192229784, 0.1709618887603012, 0.33688985339222, 0.492898192229784],\n",
      "       [0.9852776423889413, 0.9415440651830208, 0.8700869911087114, 0.9852776423889413, 0.9415440651830208, 0.8700869911087114, 0.9852776423889413, 0.9415440651830208, 0.8700869911087114]], dtype=float64)\n"
     ]
    }
   ],
   "source": [
    "self = gcca\n",
    "# template signal\n",
    "X_bar = np.mean(X, axis=0).reshape((1, Ns))\n",
    "Y = harmonic_reference(self.f_ssvep, self.fs, self.Ns)\n",
    "\n",
    "# form concatenated matrices (vectors for Nc=1)\n",
    "X_c = X.reshape((1, self.Ns*self.Nt))\n",
    "\n",
    "X_bar_c = col_concat(*[X_bar for i in range(self.Nt)])\n",
    "X_bar_c = X_bar_c.reshape((1, self.Ns*self.Nt))\n",
    "\n",
    "Y_c = col_concat(*[Y for i in range(self.Nt)])\n",
    "\n",
    "X_comb = col_concat(X_c.T, X_bar_c.T, Y_c.T).T\n",
    "\n",
    "print(Y_c)"
   ]
  },
  {
   "cell_type": "code",
   "execution_count": 122,
   "metadata": {},
   "outputs": [
    {
     "name": "stdout",
     "output_type": "stream",
     "text": [
      "array([[0.0, 0.2550657913825401, 0.5019427873289922, 0.0, 0.2556158388150989, 0.5032690942866478, 0.0, 0.2483340087006462, 0.4887535655813716],\n",
      "       [0.0, 0.2530052129660951, 0.4979884823990039, 0.0, 0.2530052129660951, 0.4979884823990039, 0.0, 0.2530052129660951, 0.4979884823990039],\n",
      "       [0.1709618887603012, 0.33688985339222, 0.492898192229784, 0.1709618887603012, 0.33688985339222, 0.492898192229784, 0.1709618887603012, 0.33688985339222, 0.492898192229784],\n",
      "       [0.9852776423889413, 0.9415440651830208, 0.8700869911087114, 0.9852776423889413, 0.9415440651830208, 0.8700869911087114, 0.9852776423889413, 0.9415440651830208, 0.8700869911087114]], dtype=float64)\n"
     ]
    }
   ],
   "source": [
    "print(X_comb)"
   ]
  },
  {
   "cell_type": "code",
   "execution_count": 105,
   "metadata": {},
   "outputs": [
    {
     "name": "stdout",
     "output_type": "stream",
     "text": [
      "array([[0.7140238263023425]], dtype=float64)\n",
      "array([[0.7112976572665111]], dtype=float64)\n",
      "array([[1.157014105891531, 2.743517621334207],\n",
      "       [2.743517621334207, 7.84298589410847]], dtype=float64)\n",
      "array([[0.7140238263023425, 0.0, 0.0, 0.0],\n",
      "       [0.0, 0.7112976572665111, 0.0, 0.0],\n",
      "       [0.0, 0.0, 1.157014105891531, 2.743517621334207],\n",
      "       [0.0, 0.0, 2.743517621334207, 7.84298589410847]], dtype=float64)\n"
     ]
    }
   ],
   "source": [
    "D1 = np.dot(X_c, X_c.T)\n",
    "print(D1)\n",
    "\n",
    "D2 = np.dot(X_bar_c, X_bar_c.T)\n",
    "print(D2)\n",
    "\n",
    "D3 = np.dot(Y_c, Y_c.T)\n",
    "print(D3)\n",
    "\n",
    "D = block_diag(block_diag(D1, D2), D3)\n",
    "print(D)"
   ]
  },
  {
   "cell_type": "code",
   "execution_count": 175,
   "metadata": {},
   "outputs": [],
   "source": [
    "from lib.computation import solve_gen_eig_prob\n",
    "\n",
    "lam, W_eig = solve_gen_eig_prob(np.dot(X_comb, X_comb.T), D)\n",
    "\n",
    "w = W_eig[:, np.argmax(lam)] # optimal spatial filter vector with dim (2*Nc + 2*Nh)\n",
    "w_X = w[0]\n",
    "w_X_bar = w[1] # second Nc weights correspond to Nc template channels w_Y_n = w[2*self.Nc:] # final 2*Nh weights correspond to ref sinusoids with harmonics\n",
    "w_Y = w[2:]"
   ]
  },
  {
   "cell_type": "code",
   "execution_count": 50,
   "metadata": {},
   "outputs": [
    {
     "name": "stdout",
     "output_type": "stream",
     "text": [
      "Listing directory 'lib'.\n",
      "       27    lib/__init__.mpy\n",
      "     1643    lib/computation.mpy\n",
      "      558    lib/config.mpy\n",
      "     1065    lib/core.mpy\n",
      "      722    lib/decoding.mpy\n",
      "     8703    lib/mqtt_as.mpy\n",
      "      790    lib/networking.mpy\n",
      "     2504    lib/peripherals.mpy\n",
      "     1052    lib/scheduling.mpy\n",
      "     1174    lib/signal.mpy\n",
      "     2601    lib/umqtt.mpy\n",
      "      614    lib/utils.mpy\n",
      "      641    lib/websockets.mpy\n"
     ]
    }
   ],
   "source": [
    "%ls --recursive lib"
   ]
  },
  {
   "cell_type": "code",
   "execution_count": 35,
   "metadata": {},
   "outputs": [
    {
     "name": "stdout",
     "output_type": "stream",
     "text": [
      "Sent 3116 bytes in 104 chunks to .env.\n"
     ]
    }
   ],
   "source": [
    "%sendtofile --source lib/.env .env  --binary"
   ]
  },
  {
   "cell_type": "code",
   "execution_count": 154,
   "metadata": {},
   "outputs": [
    {
     "name": "stdout",
     "output_type": "stream",
     "text": [
      "Sent 144 lines (4234 bytes) to lib/computation.py.\n"
     ]
    }
   ],
   "source": [
    "%sendtofile lib/computation.py --source lib/computation.py"
   ]
  },
  {
   "cell_type": "code",
   "execution_count": 155,
   "metadata": {},
   "outputs": [
    {
     "name": "stdout",
     "output_type": "stream",
     "text": [
      "repl is in normal command mode\n",
      "[\\r\\x03\\x03] b'\\r\\nMicroPython d8a7bf8-dirty on 2022-02-09; ESP32 module with ESP32\\r\\nType \"help()\" for more information.\\r\\n>>> \\r\\n>>> \\r\\nMPY: soft reboot\\r\\nMicroPython d8a7bf8-dirty on 2022-02-09; ESP32 module with ESP32\\r\\nType \"help()\" for more information.\\r\\n>>> \\r\\n>>> \\r\\n>>> '\n",
      "[\\r\\x01] b'\\r\\n>>> \\r\\nraw REPL; CTRL-B to exit\\r\\n>'"
     ]
    }
   ],
   "source": [
    "%rebootdevice"
   ]
  },
  {
   "cell_type": "code",
   "execution_count": 12,
   "metadata": {},
   "outputs": [
    {
     "name": "stdout",
     "output_type": "stream",
     "text": [
      "%capture [--quiet] [--QUIET] outputfilename\n",
      "    records output to a file\n",
      "\n",
      "%comment\n",
      "    print this into output\n",
      "\n",
      "%disconnect [--raw]\n",
      "    disconnects from web/serial connection\n",
      "\n",
      "%esptool [--port PORT] {erase,esp32,esp8266} [binfile]\n",
      "    commands for flashing your esp-device\n",
      "\n",
      "%fetchfile [--binary] [--print] [--load] [--quiet] [--QUIET]\n",
      "                  sourcefilename [destinationfilename]\n",
      "    fetch and save a file from the device\n",
      "\n",
      "%ls [--recurse] [dirname]\n",
      "    list files on the device\n",
      "\n",
      "%lsmagic\n",
      "    list magic commands\n",
      "\n",
      "%mpy-cross [--set-exe SET_EXE] [pyfile]\n",
      "    cross-compile a .py file to a .mpy file\n",
      "\n",
      "%readbytes [--binary]\n",
      "    does serial.read_all()\n",
      "\n",
      "%rebootdevice\n",
      "    reboots device\n",
      "\n",
      "%sendtofile [--append] [--mkdir] [--binary] [--execute] [--source [SOURCE]] [--quiet]\n",
      "                   [--QUIET]\n",
      "                   [destinationfilename]\n",
      "    send cell contents or file/direcectory to the device\n",
      "\n",
      "%serialconnect [--raw] [--port PORT] [--baud BAUD] [--verbose]\n",
      "    connects to a device over USB wire\n",
      "\n",
      "%socketconnect [--raw] ipnumber portnumber\n",
      "    connects to a socket of a device over wifi\n",
      "\n",
      "%suppressendcode\n",
      "    doesn't send x04 or wait to read after sending the contents of the cell\n",
      "  (assists for debugging using %writebytes and %readbytes)\n",
      "\n",
      "%websocketconnect [--raw] [--password PASSWORD] [--verbose] [websocketurl]\n",
      "    connects to the webREPL websocket of an ESP8266 over wifi\n",
      "    websocketurl defaults to ws://192.168.4.1:8266 but be sure to be connected\n",
      "\n",
      "%writebytes [--binary] [--verbose] stringtosend\n",
      "    does serial.write() of the python quoted string given\n",
      "\n",
      "%%writefile [--append] [--execute] destinationfilename\n",
      "    write contents of cell to a file\n",
      "\n"
     ]
    }
   ],
   "source": [
    "%lsmagic"
   ]
  }
 ],
 "metadata": {
  "kernelspec": {
   "display_name": "MicroPython - USB",
   "language": "micropython",
   "name": "micropython"
  },
  "language_info": {
   "codemirror_mode": "python",
   "file_extension": ".py",
   "mimetype": "text/python",
   "name": "micropython"
  }
 },
 "nbformat": 4,
 "nbformat_minor": 4
}
