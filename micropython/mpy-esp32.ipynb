{
 "cells": [
  {
   "cell_type": "markdown",
   "metadata": {},
   "source": [
    "## MicroPython ESP32 Experimentation"
   ]
  },
  {
   "cell_type": "markdown",
   "metadata": {},
   "source": [
    "### Establishing connection to target board\n",
    "First, make sure you've got the right serial port. On unix-based systems, you can run `ls /dev/tty.*` to see your available serial devices. Replace as necessary below.\n",
    "\n",
    "This will allow Jupyter (your host computer) to run commands and send/receive information to/from your target board in real time using the MicroPython REPL."
   ]
  },
  {
   "cell_type": "code",
   "execution_count": 2,
   "metadata": {},
   "outputs": [
    {
     "name": "stdout",
     "output_type": "stream",
     "text": [
      "\u001b[34mConnecting to --port=/dev/tty.usbserial-02U1W54L --baud=115200 \u001b[0m\n",
      "MicroPython d8a7bf8-dirty on 2022-02-09; ESP32 module with ESP32\n",
      "Type \"help()\" for more information.\n",
      ">>>[reboot detected 0]repl is in normal command mode\n",
      "[\\r\\x03\\x03] b'\\r\\n>>> '\n",
      "[\\r\\x01] b'\\r\\n>>> \\r\\nraw REPL; CTRL-B to exit\\r\\n>' \u001b[34mReady.\n",
      "\u001b[0m"
     ]
    }
   ],
   "source": [
    "%serialconnect to --port=\"/dev/tty.usbserial-02U1W54L\" --baud=115200\n",
    "# %serialconnect to --port=\"/dev/tty.usbserial-0001\" --baud=115200"
   ]
  },
  {
   "cell_type": "code",
   "execution_count": 44,
   "metadata": {},
   "outputs": [
    {
     "name": "stdout",
     "output_type": "stream",
     "text": [
      "Sent 191 lines (5709 bytes) to lib/peripherals.py.\n"
     ]
    }
   ],
   "source": [
    "%sendtofile lib/peripherals.py --source lib/peripherals.py"
   ]
  },
  {
   "cell_type": "code",
   "execution_count": 56,
   "metadata": {},
   "outputs": [
    {
     "name": "stdout",
     "output_type": "stream",
     "text": [
      "Sent 137 lines (4006 bytes) to lib/computation.py.\n"
     ]
    }
   ],
   "source": [
    "%sendtofile lib/computation.py --source lib/computation.py"
   ]
  },
  {
   "cell_type": "markdown",
   "metadata": {},
   "source": [
    "### Using a Runner for experimentation and logging\n",
    "The a `Runner` is encapsulates the core functions in this EEG system, including peripheral setup, sampling, signal processing, logging and memory management. The `OnlineRunner` offers mostly the same functionality as the standard `Runner` class, except it allows for logging and other communication with a remote server - either on the Internet or on your local network.\n",
    "\n",
    "#### Offline functionality\n",
    "The standard `Runner` is good for testing core functionality without the need for remote logging. See below for initialisation and execution."
   ]
  },
  {
   "cell_type": "code",
   "execution_count": 3,
   "metadata": {},
   "outputs": [
    {
     "name": "stdout",
     "output_type": "stream",
     "text": [
      "ADC initialised\n",
      "SPI initialised\n",
      "DigiPot set to 100 = gain of 10.62497708393011\n"
     ]
    }
   ],
   "source": [
    "from lib.runner import OnlineRunner, Runner\n",
    "\n",
    "runner = Runner() # initialise a base runner\n",
    "runner.setup() # setup peripherals and memory buffers"
   ]
  },
  {
   "cell_type": "code",
   "execution_count": 11,
   "metadata": {},
   "outputs": [],
   "source": [
    "# start sampling and recording data (logging not setup in this case)\n",
    "runner.run()"
   ]
  },
  {
   "cell_type": "code",
   "execution_count": 12,
   "metadata": {},
   "outputs": [
    {
     "name": "stdout",
     "output_type": "stream",
     "text": [
      "True\n"
     ]
    }
   ],
   "source": [
    "# see if runner has indeed started smapling\n",
    "print(runner.is_sampling)"
   ]
  },
  {
   "cell_type": "code",
   "execution_count": 13,
   "metadata": {},
   "outputs": [
    {
     "name": "stdout",
     "output_type": "stream",
     "text": [
      "[-0.08837484, 1.368342, 12.81273, 2.598023, -35.61261, -0.4584048, 21.41705, -8.36567, 11.39659, -8.581908, -5.286017, 12.11399, -5.165668, 3.977258, 0.6138296, 7.049989, 2.976379, -4.689966, -7.15432, -1.511527, -0.4995359, 3.465489, 2.400515, -13.58522, 12.05259, -10.14042, -7.247897, 8.440774, -8.090117, 13.96458, -8.300527, -3.507492, 5.500034, 8.334535, 17.70314, -6.201086, 1.891108, -9.283996, 1.764765, 3.177492, -15.45732, 9.931615, -6.807003, -2.63888, 3.865132, -12.17259, 12.62958, 0.7731657, -8.524676, 1.287256, -8.602011, -0.04957175, 2.056685, 4.041843, 6.543734, 3.303077, 5.669124, 2.216047, 2.850893, -1.604173, -3.758788, -3.077046, 1.159941, 6.73875, 0.1229869, 0.3844299, -7.323493, -9.495356, 23.52207, 15.90622, -18.89121, -8.461697, -10.7903, 13.78406, 6.99563, -13.31657, 16.3451, -7.308302, -0.4055628, 11.27909, -6.637665, -1.96644, -10.85131, -6.120004, 6.216174, -5.381917, 1.713213, 10.88104, -6.321153, 15.79073, 3.341907, -6.824027, 10.95791, -14.18496, -0.917449, 1.384704, -10.35448, 1.690302, 3.77409, -7.511378, 6.216083, 3.425535, -11.76169, 13.66225, -7.305354, 3.345813, 4.080369, -5.690418, 18.4164, -14.95572, 5.654138, 4.975354, -15.91127, 7.27742, -6.232347, 3.513745, 0.7231626, -6.487836, 12.69363, -8.194466, -9.544974, 6.698408, -0.5351506, 7.815822, -3.025394, -7.10351, -0.7016722, 0.700115, -0.08116228, -3.213355, -5.486392, 12.3954, 3.371319, -22.73706, 14.12435, 20.92341, -1.743242, -0.6585222, -13.27394, -11.08131, -7.259816, -1.839662, 2.797048, 1.361945, 4.398703, 11.64729, 4.524998, -1.35723, 5.532601, -7.905807, -3.244811, -2.820918, -0.8337394, 5.51626, -1.932372, 3.032731, -0.8429078, 1.047138, -1.272394, -4.626436, -3.975442, -4.17629, 1.311878, 2.210786, 4.393811, 1.440654, 3.030297, 2.003277, 0.3206908, -0.551468, -4.895101, -2.633485, -2.257357, 1.397432, 2.408828, 2.562186, 3.102648, 1.090291, 1.197357, -1.386265, -4.549539, -4.051537, -0.5279006, -0.5228691, 2.859603, 4.341954, -1.133457, -1.89481, 1.831106, 0.7304257, -4.057089, -2.63238, 0.003492309, 3.397307, 8.039807, -13.45796, -13.13115, 19.62826, -4.906412, -5.799584, 7.019881, -7.086464, 9.154601, -0.6787188, -1.499359, 1.175528, -17.56381, -3.402743, 28.26122, 8.877489, -3.381096, 7.090687, -14.82443, 2.106262, -7.098282, -9.622749, 3.032558, -6.309131, 6.381021, -10.31875, 0.1296854, 2.187201, -4.155017, 10.62708, 4.574224, 11.65824, 6.35334, -7.972058, 0.3376048, 0.8172024, -7.229408, 4.148754, -3.962573, 4.304008, 2.722367, -14.10212, 12.20359, -11.35485, -7.159329, 7.271959, -7.287401, 12.29184, -9.366385, 1.986691, 9.558041, -15.56226, 5.785181, 2.428486, 3.634738, 6.730899, -6.356492, -4.471723, -4.740601, 12.24189, 1.36676, 1.576585]\n"
     ]
    }
   ],
   "source": [
    "# display the contents of the output buffer - this will be updated internally by the runner\n",
    "# at a rate determined by the sampling frequency and sample buffer size (typically every 1s)\n",
    "\n",
    "print(runner.output_buffer)"
   ]
  },
  {
   "cell_type": "code",
   "execution_count": 14,
   "metadata": {},
   "outputs": [
    {
     "name": "stdout",
     "output_type": "stream",
     "text": [
      "{12: 0.18237, 10: 0.0641, 7: 0.03803}\n"
     ]
    }
   ],
   "source": [
    "# decode the contents of the output buffer. This will return a dictionary whose keys are the\n",
    "# candidate SSVEP stimulus frequencies and the values, their corresponding output correlation\n",
    "# estimate\n",
    "\n",
    "print(runner.decode())"
   ]
  },
  {
   "cell_type": "code",
   "execution_count": 15,
   "metadata": {},
   "outputs": [],
   "source": [
    "# stop runner\n",
    "runner.stop()"
   ]
  },
  {
   "cell_type": "markdown",
   "metadata": {},
   "source": [
    "#### Simple decoding loop\n",
    "In order to test online decoding, here is a basic synchronous loop-based option. Interrupt the cell to stop the infinite loop."
   ]
  },
  {
   "cell_type": "code",
   "execution_count": 73,
   "metadata": {},
   "outputs": [
    {
     "name": "stdout",
     "output_type": "stream",
     "text": [
      "ADC initialised\n",
      "SPI initialised\n",
      "DigiPot set to 100 = gain of 10.62498\n",
      "{12: 0.12781, 10: 0.13684, 7: 0.12109}\n",
      ".{12: 0.10859, 10: 0.17859, 7: 0.13157}\n",
      "{12: 0.16485, 10: 0.08684, 7: 0.08995}\n",
      "{12: 0.11967, 10: 0.12927, 7: 0.15572}\n",
      ".{12: 0.17864, 10: 0.16814, 7: 0.15376}\n",
      "{12: 0.18824, 10: 0.12346, 7: 0.17182}\n",
      ".{12: 0.12428, 10: 0.13551, 7: 0.1034}\n",
      "{12: 0.08138, 10: 0.05915, 7: 0.11145}\n",
      ".{12: 0.12305, 10: 0.04883, 7: 0.14783}\n",
      "\u001b[34m\n",
      "\n",
      "*** Sending Ctrl-C\n",
      "\n",
      "\u001b[0mreceived SIGINT - stopping\n"
     ]
    }
   ],
   "source": [
    "import utime as time\n",
    "from lib.runner import Runner\n",
    "\n",
    "decode_period_s = 2 # decode every x seconds\n",
    "\n",
    "runner = Runner() # initialise a base runner\n",
    "runner.setup()\n",
    "\n",
    "runner.run() # start sampling\n",
    "\n",
    "try:\n",
    "    while True:\n",
    "        time.sleep(decode_period_s)\n",
    "        print(runner.decode())\n",
    "except KeyboardInterrupt:\n",
    "    print('received SIGINT - stopping')"
   ]
  },
  {
   "cell_type": "markdown",
   "metadata": {},
   "source": [
    "### Testing your WiFi connection\n",
    "In order to connect to a local WiFi network, you'll need to supply your network SSID and password in a `.env` file on the board. Doing this is easy: \n",
    "1. On your computer, create a `.env` file using `touch .env`. Update the `.env` file with the required fields:\n",
    "    \n",
    "    ```bash\n",
    "    #.env \n",
    "    WIFI_SSID=<your network name>\n",
    "    WIFI_PASSWORD=<your network password>\n",
    "    \n",
    "    ```\n",
    "    \n",
    "2. Send this file to your target device using the following command:\n",
    "    ```ipython\n",
    "%sendtofile --source lib/.env lib/.env  --binary\n",
    "```\n",
    "\n",
    "You may need to update the local (source) path to your `.env` file depending on where you created/stored it."
   ]
  },
  {
   "cell_type": "code",
   "execution_count": null,
   "metadata": {},
   "outputs": [],
   "source": [
    "from lib.utils import connect_wifi, load_env_vars\n",
    "\n",
    "env_vars = load_env_vars(\"lib/.env\")\n",
    "# connect WiFI\n",
    "ssid = env_vars.get(\"WIFI_SSID\")\n",
    "password = env_vars.get(\"WIFI_PASSWORD\")\n",
    "connect_wifi(ssid, password)"
   ]
  },
  {
   "cell_type": "markdown",
   "metadata": {},
   "source": [
    "#### Online Runner\n",
    "Now that you've established network connectivitiy, you can test out an `OnlineRunner`. In order to test web logging to a remote server, we can use a basic HTTP logger. However, this obviously needs an API/server willing to accept our requests. There is a basic logging API using `Flask` in `/eeg_lib/logging_server.py`. You can run it using `python logging_server.py` which will spin up a development server on the predefined port (5000 or 5001). Then, just configure your `OnlineRunner` with the appropriate logger params and you're set."
   ]
  },
  {
   "cell_type": "code",
   "execution_count": 19,
   "metadata": {},
   "outputs": [
    {
     "name": "stdout",
     "output_type": "stream",
     "text": [
      "ADC initialised\n",
      "SPI initialised\n",
      "DigiPot set to 100 = gain of 10.62498\n",
      "network config: ('192.168.0.28', '255.255.255.0', '192.168.0.1', '192.168.0.1')\n"
     ]
    }
   ],
   "source": [
    "from lib.runner import OnlineRunner\n",
    "from lib.logging import logger_types\n",
    "\n",
    "api_host = \"http://192.168.0.2:5001/\" # make sure the port corresponds to your logging server configuration\n",
    "log_params = dict(server=api_host, log_period=4, logger_type=logger_types.HTTP, send_raw=True, session_id='test_session_1')\n",
    "\n",
    "runner = OnlineRunner()\n",
    "runner.setup(**log_params)"
   ]
  },
  {
   "cell_type": "code",
   "execution_count": 20,
   "metadata": {},
   "outputs": [],
   "source": [
    "# start the runner - you should see requests being made to your local server\n",
    "runner.run()"
   ]
  },
  {
   "cell_type": "code",
   "execution_count": 21,
   "metadata": {},
   "outputs": [],
   "source": [
    "runner.stop()"
   ]
  },
  {
   "cell_type": "markdown",
   "metadata": {},
   "source": [
    "## Experimentation"
   ]
  },
  {
   "cell_type": "code",
   "execution_count": 155,
   "metadata": {},
   "outputs": [
    {
     "name": "stdout",
     "output_type": "stream",
     "text": [
      "repl is in normal command mode\n",
      "[\\r\\x03\\x03] b'\\r\\nMicroPython d8a7bf8-dirty on 2022-02-09; ESP32 module with ESP32\\r\\nType \"help()\" for more information.\\r\\n>>> \\r\\n>>> \\r\\nMPY: soft reboot\\r\\nMicroPython d8a7bf8-dirty on 2022-02-09; ESP32 module with ESP32\\r\\nType \"help()\" for more information.\\r\\n>>> \\r\\n>>> \\r\\n>>> '\n",
      "[\\r\\x01] b'\\r\\n>>> \\r\\nraw REPL; CTRL-B to exit\\r\\n>'"
     ]
    }
   ],
   "source": [
    "%rebootdevice"
   ]
  },
  {
   "cell_type": "code",
   "execution_count": 12,
   "metadata": {},
   "outputs": [
    {
     "name": "stdout",
     "output_type": "stream",
     "text": [
      "%capture [--quiet] [--QUIET] outputfilename\n",
      "    records output to a file\n",
      "\n",
      "%comment\n",
      "    print this into output\n",
      "\n",
      "%disconnect [--raw]\n",
      "    disconnects from web/serial connection\n",
      "\n",
      "%esptool [--port PORT] {erase,esp32,esp8266} [binfile]\n",
      "    commands for flashing your esp-device\n",
      "\n",
      "%fetchfile [--binary] [--print] [--load] [--quiet] [--QUIET]\n",
      "                  sourcefilename [destinationfilename]\n",
      "    fetch and save a file from the device\n",
      "\n",
      "%ls [--recurse] [dirname]\n",
      "    list files on the device\n",
      "\n",
      "%lsmagic\n",
      "    list magic commands\n",
      "\n",
      "%mpy-cross [--set-exe SET_EXE] [pyfile]\n",
      "    cross-compile a .py file to a .mpy file\n",
      "\n",
      "%readbytes [--binary]\n",
      "    does serial.read_all()\n",
      "\n",
      "%rebootdevice\n",
      "    reboots device\n",
      "\n",
      "%sendtofile [--append] [--mkdir] [--binary] [--execute] [--source [SOURCE]] [--quiet]\n",
      "                   [--QUIET]\n",
      "                   [destinationfilename]\n",
      "    send cell contents or file/direcectory to the device\n",
      "\n",
      "%serialconnect [--raw] [--port PORT] [--baud BAUD] [--verbose]\n",
      "    connects to a device over USB wire\n",
      "\n",
      "%socketconnect [--raw] ipnumber portnumber\n",
      "    connects to a socket of a device over wifi\n",
      "\n",
      "%suppressendcode\n",
      "    doesn't send x04 or wait to read after sending the contents of the cell\n",
      "  (assists for debugging using %writebytes and %readbytes)\n",
      "\n",
      "%websocketconnect [--raw] [--password PASSWORD] [--verbose] [websocketurl]\n",
      "    connects to the webREPL websocket of an ESP8266 over wifi\n",
      "    websocketurl defaults to ws://192.168.4.1:8266 but be sure to be connected\n",
      "\n",
      "%writebytes [--binary] [--verbose] stringtosend\n",
      "    does serial.write() of the python quoted string given\n",
      "\n",
      "%%writefile [--append] [--execute] destinationfilename\n",
      "    write contents of cell to a file\n",
      "\n"
     ]
    }
   ],
   "source": [
    "%lsmagic"
   ]
  }
 ],
 "metadata": {
  "kernelspec": {
   "display_name": "MicroPython - USB",
   "language": "micropython",
   "name": "micropython"
  },
  "language_info": {
   "codemirror_mode": "python",
   "file_extension": ".py",
   "mimetype": "text/python",
   "name": "micropython"
  }
 },
 "nbformat": 4,
 "nbformat_minor": 4
}
