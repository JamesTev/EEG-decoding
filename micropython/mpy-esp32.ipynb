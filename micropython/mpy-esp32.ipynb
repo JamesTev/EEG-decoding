{
 "cells": [
  {
   "cell_type": "markdown",
   "metadata": {},
   "source": [
    "## MicroPython ESP32 Experimentation"
   ]
  },
  {
   "cell_type": "markdown",
   "metadata": {},
   "source": [
    "### Establishing connection to target board\n",
    "First, make sure you've got the right serial port. On unix-based systems, you can run `ls /dev/tty.*` to see your available serial devices. Replace as necessary below.\n",
    "\n",
    "This will allow Jupyter (your host computer) to run commands and send/receive information to/from your target board in real time using the MicroPython REPL."
   ]
  },
  {
   "cell_type": "code",
   "execution_count": 5,
   "metadata": {},
   "outputs": [
    {
     "name": "stdout",
     "output_type": "stream",
     "text": [
      "\u001b[34mConnecting to --port=/dev/tty.usbserial-02U1W54L --baud=115200 \u001b[0m\n",
      "MicroPython d8a7bf8-dirty on 2022-02-09; ESP32 module with ESP32\n",
      "Type \"help()\" for more information.\n",
      ">>>[reboot detected 0]repl is in normal command mode\n",
      "[\\r\\x03\\x03] b'\\r\\n>>> '\n",
      "[\\r\\x01] b'\\r\\n>>> \\r\\nraw REPL; CTRL-B to exit\\r\\n>' \u001b[34mReady.\n",
      "\u001b[0m"
     ]
    }
   ],
   "source": [
    "%serialconnect to --port=\"/dev/tty.usbserial-02U1W54L\" --baud=115200\n",
    "# %serialconnect to --port=\"/dev/tty.usbserial-0001\" --baud=115200"
   ]
  },
  {
   "cell_type": "code",
   "execution_count": 4,
   "metadata": {},
   "outputs": [
    {
     "name": "stdout",
     "output_type": "stream",
     "text": [
      "Sent 246 lines (8210 bytes) to lib/runner.py.\n"
     ]
    }
   ],
   "source": [
    "%sendtofile lib/runner.py --source lib/runner.py"
   ]
  },
  {
   "cell_type": "code",
   "execution_count": 15,
   "metadata": {},
   "outputs": [
    {
     "name": "stdout",
     "output_type": "stream",
     "text": [
      "Sent 47 lines (1573 bytes) to lib/synthetic.py.\n"
     ]
    }
   ],
   "source": [
    "%sendtofile lib/synthetic.py --source lib/synthetic.py"
   ]
  },
  {
   "cell_type": "code",
   "execution_count": 3,
   "metadata": {},
   "outputs": [
    {
     "name": "stdout",
     "output_type": "stream",
     "text": [
      "Sent 238 lines (8870 bytes) to lib/decoding.py.\n"
     ]
    }
   ],
   "source": [
    "%sendtofile lib/decoding.py --source lib/decoding.py"
   ]
  },
  {
   "cell_type": "markdown",
   "metadata": {},
   "source": [
    "### Using a Runner for experimentation and logging\n",
    "The a `Runner` is encapsulates the core functions in this EEG system, including peripheral setup, sampling, signal processing, logging and memory management. The `OnlineRunner` offers mostly the same functionality as the standard `Runner` class, except it allows for logging and other communication with a remote server - either on the Internet or on your local network.\n",
    "\n",
    "#### Offline functionality\n",
    "The standard `Runner` is good for testing core functionality without the need for remote logging. See below for initialisation and execution."
   ]
  },
  {
   "cell_type": "code",
   "execution_count": 23,
   "metadata": {},
   "outputs": [
    {
     "name": "stdout",
     "output_type": "stream",
     "text": [
      "ADC initialised\n",
      "SPI initialised\n",
      "DigiPot set to 100 = gain of 10.62497708393011\n"
     ]
    }
   ],
   "source": [
    "from lib.runner import OnlineRunner, Runner\n",
    "\n",
    "Nc = 1\n",
    "Ns = 128\n",
    "Nt = 3\n",
    "stim_freqs = [7, 10, 12]\n",
    "\n",
    "decoding_algo = 'MsetCCA'\n",
    "\n",
    "runner = Runner(decoding_algo, buffer_size=Ns) # initialise a base runner\n",
    "runner.setup() # setup peripherals and memory buffers"
   ]
  },
  {
   "cell_type": "code",
   "execution_count": 24,
   "metadata": {},
   "outputs": [],
   "source": [
    "from lib.synthetic import synth_X\n",
    "\n",
    "calibration_data = {f:synth_X(f, Nc, Ns, Nt=Nt) for f in stim_freqs}\n",
    "runner.calibrate(calibration_data)"
   ]
  },
  {
   "cell_type": "code",
   "execution_count": 25,
   "metadata": {},
   "outputs": [],
   "source": [
    "# start sampling and recording data (logging not setup in this case)\n",
    "runner.run()"
   ]
  },
  {
   "cell_type": "code",
   "execution_count": 26,
   "metadata": {},
   "outputs": [
    {
     "name": "stdout",
     "output_type": "stream",
     "text": [
      "True\n"
     ]
    }
   ],
   "source": [
    "# see if runner has indeed started smapling\n",
    "print(runner.is_sampling)"
   ]
  },
  {
   "cell_type": "code",
   "execution_count": 27,
   "metadata": {},
   "outputs": [
    {
     "name": "stdout",
     "output_type": "stream",
     "text": [
      "[0.0, 0.0, 0.0, 0.0, 0.0, 0.0, 0.0, 0.0, 0.0, 0.0, 0.0, 0.0, 0.0, 0.0, 0.0, 0.0, 0.0, 0.0, 0.0, 0.0, 0.0, 0.0, 0.0, 0.0, 0.0, 0.0, 0.0, 0.0, 0.0, 0.0, 0.0, 0.0, 0.0, 0.0, 0.0, 0.0, 0.0, 0.0, 0.0, 0.0, 0.0, 0.0, 0.0, 0.0, 0.0, 0.0, 0.0, 0.0, 0.0, 0.0, 0.0, 0.0, 0.0, 0.0, 0.0, 0.0, 0.0, 0.0, 0.0, 0.0, 0.0, 0.0, 0.0, 0.0, 0.0, 0.0, 0.0, 0.0, 0.0, 0.0, 0.0, 0.0, 0.0, 0.0, 0.0, 0.0, 0.0, 0.0, 0.0, 0.0, 0.0, 0.0, 0.0, 0.0, 0.0, 0.0, 0.0, 0.0, 0.0, 0.0, 0.0, 0.0, 0.0, 0.0, 0.0, 0.0, 0.0, 0.0, 0.0, 0.0, 0.0, 0.0, 0.0, 0.0, 0.0, 0.0, 0.0, 0.0, 0.0, 0.0, 0.0, 0.0, 0.0, 0.0, 0.0, 0.0, 0.0, 0.0, 0.0, 0.0, 0.0, 0.0, 0.0, 0.0, 0.0, 0.0, 0.0, 0.0]\n"
     ]
    }
   ],
   "source": [
    "# display the contents of the output buffer - this will be updated internally by the runner\n",
    "# at a rate determined by the sampling frequency and sample buffer size (typically every 1s)\n",
    "\n",
    "print(runner.output_buffer)"
   ]
  },
  {
   "cell_type": "code",
   "execution_count": 33,
   "metadata": {},
   "outputs": [
    {
     "name": "stdout",
     "output_type": "stream",
     "text": [
      "{12: 0.09387, 10: 0.11474, 7: 0.05861999999999999}\n"
     ]
    }
   ],
   "source": [
    "# decode the contents of the output buffer. This will return a dictionary whose keys are the\n",
    "# candidate SSVEP stimulus frequencies and the values, their corresponding output correlation\n",
    "# estimate\n",
    "\n",
    "print(runner.decode())"
   ]
  },
  {
   "cell_type": "code",
   "execution_count": 30,
   "metadata": {},
   "outputs": [],
   "source": [
    "# stop runner\n",
    "runner.stop()"
   ]
  },
  {
   "cell_type": "markdown",
   "metadata": {},
   "source": [
    "#### Simple decoding loop\n",
    "In order to test online decoding, here is a basic synchronous loop-based option. Interrupt the cell to stop the infinite loop."
   ]
  },
  {
   "cell_type": "code",
   "execution_count": 73,
   "metadata": {},
   "outputs": [
    {
     "name": "stdout",
     "output_type": "stream",
     "text": [
      "ADC initialised\n",
      "SPI initialised\n",
      "DigiPot set to 100 = gain of 10.62498\n",
      "{12: 0.12781, 10: 0.13684, 7: 0.12109}\n",
      ".{12: 0.10859, 10: 0.17859, 7: 0.13157}\n",
      "{12: 0.16485, 10: 0.08684, 7: 0.08995}\n",
      "{12: 0.11967, 10: 0.12927, 7: 0.15572}\n",
      ".{12: 0.17864, 10: 0.16814, 7: 0.15376}\n",
      "{12: 0.18824, 10: 0.12346, 7: 0.17182}\n",
      ".{12: 0.12428, 10: 0.13551, 7: 0.1034}\n",
      "{12: 0.08138, 10: 0.05915, 7: 0.11145}\n",
      ".{12: 0.12305, 10: 0.04883, 7: 0.14783}\n",
      "\u001b[34m\n",
      "\n",
      "*** Sending Ctrl-C\n",
      "\n",
      "\u001b[0mreceived SIGINT - stopping\n"
     ]
    }
   ],
   "source": [
    "import utime as time\n",
    "from lib.runner import Runner\n",
    "\n",
    "decode_period_s = 2 # decode every x seconds\n",
    "\n",
    "runner = Runner() # initialise a base runner\n",
    "runner.setup()\n",
    "\n",
    "runner.run() # start sampling\n",
    "\n",
    "try:\n",
    "    while True:\n",
    "        time.sleep(decode_period_s)\n",
    "        print(runner.decode())\n",
    "except KeyboardInterrupt:\n",
    "    print('received SIGINT - stopping')"
   ]
  },
  {
   "cell_type": "markdown",
   "metadata": {},
   "source": [
    "### Testing your WiFi connection\n",
    "In order to connect to a local WiFi network, you'll need to supply your network SSID and password in a `.env` file on the board. Doing this is easy: \n",
    "1. On your computer, create a `.env` file using `touch .env`. Update the `.env` file with the required fields:\n",
    "    \n",
    "    ```bash\n",
    "    #.env \n",
    "    WIFI_SSID=<your network name>\n",
    "    WIFI_PASSWORD=<your network password>\n",
    "    \n",
    "    ```\n",
    "    \n",
    "2. Send this file to your target device using the following command:\n",
    "    ```ipython\n",
    "%sendtofile --source lib/.env lib/.env  --binary\n",
    "```\n",
    "\n",
    "You may need to update the local (source) path to your `.env` file depending on where you created/stored it."
   ]
  },
  {
   "cell_type": "code",
   "execution_count": null,
   "metadata": {},
   "outputs": [],
   "source": [
    "from lib.utils import connect_wifi, load_env_vars\n",
    "\n",
    "env_vars = load_env_vars(\"lib/.env\")\n",
    "# connect WiFI\n",
    "ssid = env_vars.get(\"WIFI_SSID\")\n",
    "password = env_vars.get(\"WIFI_PASSWORD\")\n",
    "connect_wifi(ssid, password)"
   ]
  },
  {
   "cell_type": "markdown",
   "metadata": {},
   "source": [
    "#### Online Runner\n",
    "Now that you've established network connectivitiy, you can test out an `OnlineRunner`. In order to test web logging to a remote server, we can use a basic HTTP logger. However, this obviously needs an API/server willing to accept our requests. There is a basic logging API using `Flask` in `/eeg_lib/logging_server.py`. You can run it using `python logging_server.py` which will spin up a development server on the predefined port (5000 or 5001). Then, just configure your `OnlineRunner` with the appropriate logger params and you're set."
   ]
  },
  {
   "cell_type": "code",
   "execution_count": 19,
   "metadata": {},
   "outputs": [
    {
     "name": "stdout",
     "output_type": "stream",
     "text": [
      "ADC initialised\n",
      "SPI initialised\n",
      "DigiPot set to 100 = gain of 10.62498\n",
      "network config: ('192.168.0.28', '255.255.255.0', '192.168.0.1', '192.168.0.1')\n"
     ]
    }
   ],
   "source": [
    "from lib.runner import OnlineRunner\n",
    "from lib.logging import logger_types\n",
    "\n",
    "api_host = \"http://192.168.0.2:5001/\" # make sure the port corresponds to your logging server configuration\n",
    "log_params = dict(server=api_host, log_period=4, logger_type=logger_types.HTTP, send_raw=True, session_id='test_session_1')\n",
    "\n",
    "runner = OnlineRunner()\n",
    "runner.setup(**log_params)"
   ]
  },
  {
   "cell_type": "code",
   "execution_count": 20,
   "metadata": {},
   "outputs": [],
   "source": [
    "# start the runner - you should see requests being made to your local server\n",
    "runner.run()"
   ]
  },
  {
   "cell_type": "code",
   "execution_count": 21,
   "metadata": {},
   "outputs": [],
   "source": [
    "runner.stop()"
   ]
  },
  {
   "cell_type": "markdown",
   "metadata": {},
   "source": [
    "## Experimentation"
   ]
  },
  {
   "cell_type": "code",
   "execution_count": 155,
   "metadata": {},
   "outputs": [
    {
     "name": "stdout",
     "output_type": "stream",
     "text": [
      "repl is in normal command mode\n",
      "[\\r\\x03\\x03] b'\\r\\nMicroPython d8a7bf8-dirty on 2022-02-09; ESP32 module with ESP32\\r\\nType \"help()\" for more information.\\r\\n>>> \\r\\n>>> \\r\\nMPY: soft reboot\\r\\nMicroPython d8a7bf8-dirty on 2022-02-09; ESP32 module with ESP32\\r\\nType \"help()\" for more information.\\r\\n>>> \\r\\n>>> \\r\\n>>> '\n",
      "[\\r\\x01] b'\\r\\n>>> \\r\\nraw REPL; CTRL-B to exit\\r\\n>'"
     ]
    }
   ],
   "source": [
    "%rebootdevice"
   ]
  },
  {
   "cell_type": "code",
   "execution_count": 12,
   "metadata": {},
   "outputs": [
    {
     "name": "stdout",
     "output_type": "stream",
     "text": [
      "%capture [--quiet] [--QUIET] outputfilename\n",
      "    records output to a file\n",
      "\n",
      "%comment\n",
      "    print this into output\n",
      "\n",
      "%disconnect [--raw]\n",
      "    disconnects from web/serial connection\n",
      "\n",
      "%esptool [--port PORT] {erase,esp32,esp8266} [binfile]\n",
      "    commands for flashing your esp-device\n",
      "\n",
      "%fetchfile [--binary] [--print] [--load] [--quiet] [--QUIET]\n",
      "                  sourcefilename [destinationfilename]\n",
      "    fetch and save a file from the device\n",
      "\n",
      "%ls [--recurse] [dirname]\n",
      "    list files on the device\n",
      "\n",
      "%lsmagic\n",
      "    list magic commands\n",
      "\n",
      "%mpy-cross [--set-exe SET_EXE] [pyfile]\n",
      "    cross-compile a .py file to a .mpy file\n",
      "\n",
      "%readbytes [--binary]\n",
      "    does serial.read_all()\n",
      "\n",
      "%rebootdevice\n",
      "    reboots device\n",
      "\n",
      "%sendtofile [--append] [--mkdir] [--binary] [--execute] [--source [SOURCE]] [--quiet]\n",
      "                   [--QUIET]\n",
      "                   [destinationfilename]\n",
      "    send cell contents or file/direcectory to the device\n",
      "\n",
      "%serialconnect [--raw] [--port PORT] [--baud BAUD] [--verbose]\n",
      "    connects to a device over USB wire\n",
      "\n",
      "%socketconnect [--raw] ipnumber portnumber\n",
      "    connects to a socket of a device over wifi\n",
      "\n",
      "%suppressendcode\n",
      "    doesn't send x04 or wait to read after sending the contents of the cell\n",
      "  (assists for debugging using %writebytes and %readbytes)\n",
      "\n",
      "%websocketconnect [--raw] [--password PASSWORD] [--verbose] [websocketurl]\n",
      "    connects to the webREPL websocket of an ESP8266 over wifi\n",
      "    websocketurl defaults to ws://192.168.4.1:8266 but be sure to be connected\n",
      "\n",
      "%writebytes [--binary] [--verbose] stringtosend\n",
      "    does serial.write() of the python quoted string given\n",
      "\n",
      "%%writefile [--append] [--execute] destinationfilename\n",
      "    write contents of cell to a file\n",
      "\n"
     ]
    }
   ],
   "source": [
    "%lsmagic"
   ]
  }
 ],
 "metadata": {
  "kernelspec": {
   "display_name": "MicroPython - USB",
   "language": "micropython",
   "name": "micropython"
  },
  "language_info": {
   "codemirror_mode": "python",
   "file_extension": ".py",
   "mimetype": "text/python",
   "name": "micropython"
  }
 },
 "nbformat": 4,
 "nbformat_minor": 4
}
