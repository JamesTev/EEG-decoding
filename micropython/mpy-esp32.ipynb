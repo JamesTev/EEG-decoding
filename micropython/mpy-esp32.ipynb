{
 "cells": [
  {
   "cell_type": "markdown",
   "metadata": {},
   "source": [
    "## MicroPython ESP32 Experimentation"
   ]
  },
  {
   "cell_type": "markdown",
   "metadata": {},
   "source": [
    "### Establishing connection to target board\n",
    "First, make sure you've got the right serial port. On unix-based systems, you can run `ls /dev/tty.*` to see your available serial devices. Replace as necessary below.\n",
    "\n",
    "This will allow Jupyter (your host computer) to run commands and send/receive information to/from your target board in real time using the MicroPython REPL."
   ]
  },
  {
   "cell_type": "code",
   "execution_count": 121,
   "metadata": {},
   "outputs": [
    {
     "name": "stdout",
     "output_type": "stream",
     "text": [
      "\u001b[34mConnecting to --port=/dev/tty.usbserial-02U1W54L --baud=115200 \u001b[0m\n",
      "MicroPython cb99ca9-dirty on 2021-11-01; ESP32 module with ESP32\n",
      "Type \"help()\" for more information.\n",
      ">>>[reboot detected 0]repl is in normal command mode\n",
      "[\\r\\x03\\x03] b'\\r\\n>>> '\n",
      "[\\r\\x01] b'\\r\\n>>> \\r\\nraw REPL; CTRL-B to exit\\r\\n>' \u001b[34mReady.\n",
      "\u001b[0m"
     ]
    }
   ],
   "source": [
    "%serialconnect to --port=\"/dev/tty.usbserial-02U1W54L\" --baud=115200\n",
    "# %serialconnect to --port=\"/dev/tty.usbserial-0001\" --baud=115200"
   ]
  },
  {
   "cell_type": "code",
   "execution_count": 120,
   "metadata": {},
   "outputs": [
    {
     "name": "stdout",
     "output_type": "stream",
     "text": [
      "Sent 18 lines (415 bytes) to lib/logging.py.\n"
     ]
    }
   ],
   "source": [
    "%sendtofile lib/logging.py --source lib/logging.py"
   ]
  },
  {
   "cell_type": "code",
   "execution_count": 113,
   "metadata": {},
   "outputs": [
    {
     "name": "stdout",
     "output_type": "stream",
     "text": [
      "Sent 212 lines (6613 bytes) to lib/runner.py.\n"
     ]
    }
   ],
   "source": [
    "%sendtofile lib/runner.py --source lib/runner.py"
   ]
  },
  {
   "cell_type": "code",
   "execution_count": 130,
   "metadata": {},
   "outputs": [],
   "source": [
    "from scheduling import ScheduledFunc\n",
    "\n",
    "class RunnerLogger(ScheduledFunc):\n",
    "\n",
    "    def __init__(self, period_sec, output_buffer_ref, timer_num=1):\n",
    "        super().__init__(timer_num, 1/period_sec)\n",
    "        self.buffer = output_buffer_ref\n",
    "        self.setup()\n",
    "\n",
    "    def setup(self):\n",
    "        pass\n",
    "\n",
    "    def log(self, *args):\n",
    "        print(self.buffer)\n",
    "\n",
    "    def start(self):\n",
    "        self.tim.init(freq=self.freq, callback=self.log)"
   ]
  },
  {
   "cell_type": "code",
   "execution_count": 131,
   "metadata": {},
   "outputs": [],
   "source": [
    "class Run():\n",
    "    def __init__(self):\n",
    "        self.buffer = [0.5 for i in range(3)]\n",
    "        self.logger = RunnerLogger(2, self.buffer)\n",
    "        \n",
    "class Log():\n",
    "    def __init__(self, buff):\n",
    "        self.buff = buff\n",
    "        \n",
    "    def log(self):\n",
    "        print(self.buff)"
   ]
  },
  {
   "cell_type": "code",
   "execution_count": 132,
   "metadata": {},
   "outputs": [],
   "source": [
    "runner = Run()"
   ]
  },
  {
   "cell_type": "code",
   "execution_count": 133,
   "metadata": {},
   "outputs": [],
   "source": [
    "runner.logger.start()"
   ]
  },
  {
   "cell_type": "code",
   "execution_count": 134,
   "metadata": {},
   "outputs": [
    {
     "name": "stdout",
     "output_type": "stream",
     "text": [
      "[leftinbuffer] ['[0.5, 0.5, 0.5]']\n",
      "[leftinbuffer] ['[0.5, 0.5, 0.5]']\n",
      "[leftinbuffer] ['[0.5, 0.5, 0.5]']\n",
      "[leftinbuffer] ['[0.5, 0.5, 0.5]']\n"
     ]
    }
   ],
   "source": [
    "runner.logger.stop()"
   ]
  },
  {
   "cell_type": "code",
   "execution_count": 99,
   "metadata": {},
   "outputs": [
    {
     "name": "stdout",
     "output_type": "stream",
     "text": [
      "[0.5, 0.5, 2]\n"
     ]
    }
   ],
   "source": [
    "runner.logger.log()"
   ]
  },
  {
   "cell_type": "code",
   "execution_count": 71,
   "metadata": {},
   "outputs": [],
   "source": [
    "from lib.runner import Runner, BaseRunner"
   ]
  },
  {
   "cell_type": "code",
   "execution_count": 72,
   "metadata": {},
   "outputs": [],
   "source": [
    "runner = BaseRunner()"
   ]
  },
  {
   "cell_type": "code",
   "execution_count": 73,
   "metadata": {},
   "outputs": [
    {
     "name": "stdout",
     "output_type": "stream",
     "text": [
      "ADC initialised\n",
      "SPI initialised\n",
      "DigiPot set to minimum gain (1.8)\n"
     ]
    }
   ],
   "source": [
    "runner.setup()"
   ]
  },
  {
   "cell_type": "code",
   "execution_count": 82,
   "metadata": {},
   "outputs": [
    {
     "name": "stdout",
     "output_type": "stream",
     "text": [
      "{12: 0.14172, 10: 0.11683, 7: 0.06797}\n"
     ]
    }
   ],
   "source": [
    "print(runner.decode())"
   ]
  },
  {
   "cell_type": "code",
   "execution_count": 79,
   "metadata": {},
   "outputs": [
    {
     "name": "stdout",
     "output_type": "stream",
     "text": [
      "[0.01954444, 4.355747, 15.51876, -8.554688, -31.78373, 6.855578, 3.560656, -3.856112, 12.3577, -6.898592, 6.194204, 4.138245, 3.281769, 8.534527, -1.336413, 4.062249, -5.361069, 0.3286598, -4.770914, -8.813795, -5.314931, -4.990621, 3.239691, -1.65804, 2.832161, 2.307831, 1.354408, 2.087882, 1.007222, 0.4961143, -2.649651, 0.1243045, 0.7833976, 3.787482, 2.706089, 3.938741, 2.410984, 0.9986733, 0.6800158, -4.813919, -3.0345, -6.011649, -3.914723, 0.4714172, 1.783925, 2.19733, 0.7634152, 2.212833, -0.3497142, -0.4576373, -2.63616, -4.878806, -3.71775, -0.4853296, 2.104439, 1.520316, 5.232512, 4.439618, 2.400053, 2.780979, 0.711254, -2.359647, -4.36913, -1.930319, -0.1143028, 0.3615065, 8.597612, 6.993036, -16.48263, -12.89078, 3.261904, -2.795664, 5.108867, 8.50136, -3.086584, 7.453905, 6.905039, -7.932702, 6.488844, -8.103814, -10.15893, 10.35165, -4.385473, 10.4655, -5.383912, -4.192613, 13.19026, -17.59774, 3.503542, -4.240097, -12.53785, 11.49746, 0.7746119, 10.87862, -0.7757437, -4.676125, 13.28596, -9.834264, -3.117725, 2.179046, -12.41582, 5.729968, 4.579849, 8.5509, 4.378603, -11.18044, 9.540044, -5.642645, -9.532221, 3.905878, -10.87457, 1.893762, 5.152329, 9.786091, 7.387285, -12.72714, 4.857265, -0.9638677, -11.89609, 1.296793, -5.235585, -0.2119439, 3.774741, 9.382808, 12.00959, -5.543823, -2.325405, -40.72969, -0.226989, -4.965744, -1.188303, 16.40101, 2.078597, -10.78656, 0.1791629, -7.731369, 2.383018, 2.979574, -2.060988, 3.891746, -2.410474, 4.089466, -0.9933709, -2.333298, -2.9857, -4.117005, 3.158462, 1.805512, 4.362691, 2.285364, 3.327172, 2.459821, -0.216089, -3.36619, -6.027719, -4.015868, -2.764674, 2.019077, 1.601022, 3.525215, 1.194604, -0.3563874, 1.131871, -0.9273973, -0.1340899, -4.906878, -4.39132, -0.7802235, 2.729406, -2.045545, -26.03754, -2.165316, 115.7927, 55.96361, -150.6445, -38.29274, 38.60057, -43.07266, 37.87881, -4.524983, -12.20635, 66.4272, 10.77608, -7.186325, 4.172831, -25.83851, -4.131358, 5.207539, -24.04343, 3.346095, -31.50761, 22.86522, -0.2388442, -7.038533, -5.577458, 23.06741, 4.581675, -14.09976, 10.60589, -14.62514, -0.4953441, 4.807312, -9.079, 12.34069, -0.06231689, 9.087786, -21.19788, -11.48482, 15.49569, -16.14749, 13.02576, 5.566036, 0.9923672, 13.36007, 2.942391, 12.2505, -17.49625, -16.82045, 7.830952, -11.61839, 0.41857, 10.16077, 11.33374, 4.939708, -80.18248, -2.748269, 95.7765, -9.495295, 9.037981, 11.30154, -25.17195, 9.054196, -19.84572, -2.714915, -12.26561, -14.1074, -0.5235195, -8.617462, 13.85819, 0.4553399, 8.257859, 7.685337, 5.650977, 9.150601, 1.107067, 4.298321, -3.207252, 0.3945713, 0.434484, 0.793196, -4.571012, -1.771949, -0.2543327, -4.035689, -0.1365849, -7.010473]\n"
     ]
    }
   ],
   "source": [
    "print(runner.read_output_buffer())"
   ]
  },
  {
   "cell_type": "code",
   "execution_count": null,
   "metadata": {},
   "outputs": [],
   "source": [
    "from lib.requests import MicroWebCli as requests\n",
    "\n",
    "requests.GETRequest(\"https://google.com\")"
   ]
  },
  {
   "cell_type": "markdown",
   "metadata": {},
   "source": [
    "### Testing your WiFi connection\n",
    "In order to connect to a local WiFi network, you'll need to supply your network SSID and password in a `.env` file on the board. Doing this is easy: \n",
    "1. On your computer, create a `.env` file using `touch .env`. Update the `.env` file with the required fields:\n",
    "    \n",
    "    ```bash\n",
    "    #.env \n",
    "    WIFI_SSID=<your network name>\n",
    "    WIFI_PASSWORD=<your network password>\n",
    "    \n",
    "    ```\n",
    "    \n",
    "2. Send this file to your target device using the following command:\n",
    "    ```ipython\n",
    "%sendtofile --source lib/.env lib/.env  --binary\n",
    "```\n",
    "\n",
    "You may need to update the local (source) path to your `.env` file depending on where you created/stored it."
   ]
  },
  {
   "cell_type": "code",
   "execution_count": 135,
   "metadata": {},
   "outputs": [
    {
     "name": "stdout",
     "output_type": "stream",
     "text": [
      "connecting to network...\n",
      "network config: ('192.168.0.28', '255.255.255.0', '192.168.0.1', '192.168.0.1')\n"
     ]
    }
   ],
   "source": [
    "from lib.utils import connect_wifi, load_env_vars\n",
    "\n",
    "env_vars = load_env_vars(\"lib/.env\")\n",
    "# connect WiFI\n",
    "ssid = env_vars.get(\"WIFI_SSID\")\n",
    "password = env_vars.get(\"WIFI_PASSWORD\")\n",
    "connect_wifi(ssid, password)"
   ]
  },
  {
   "cell_type": "code",
   "execution_count": 58,
   "metadata": {},
   "outputs": [
    {
     "name": "stdout",
     "output_type": "stream",
     "text": [
      "ADC initialised\n",
      "SPI initialised\n",
      "DigiPot set to minimum gain (1.8)\n",
      "connecting to network...\n",
      "network config: ('192.168.0.22', '255.255.255.0', '192.168.0.1', '192.168.0.1')\n",
      "Attemptint to connect to socket addr:  ('3.10.203.127', 1883)\n",
      "resp:  b' \\x02\\x00\\x00'\n",
      "0x4 b'32:46:00:00'\n"
     ]
    }
   ],
   "source": [
    "from lib.core import initialise, run\n",
    "import machine\n",
    "\n",
    "adc_params = {\n",
    "    'adc_pin': 33, # as used in the Imperial EEG hardware prototype\n",
    "    'atten': machine.ADC.ATTN_11DB, # see ESP32 docs for options\n",
    "    'width': machine.ADC.WIDTH_12BIT, # precision (12-bit is max for ESP32)\n",
    "    'buffer_size': 256, # semi-arb. Aligned with the 256Hz sample freq for 1 second of data in mem.\n",
    "}\n",
    "\n",
    "# use garbage collector liberally to save memory where possible\n",
    "# but try not call `gc.collect` to often after creating/destroying \n",
    "# small objects as this will cause fragmentation\n",
    "gc.collect()\n",
    "periph_manager, mqtt_client, data_scheduler = initialise(offline=False, adc_params=adc_params)\n",
    "gc.collect()"
   ]
  },
  {
   "cell_type": "code",
   "execution_count": 3,
   "metadata": {},
   "outputs": [],
   "source": [
    "gc.collect()\n",
    "run() "
   ]
  },
  {
   "cell_type": "code",
   "execution_count": 59,
   "metadata": {},
   "outputs": [],
   "source": [
    "\n",
    "### NB!!! Make sure filter coefficients match the correct samplign frequency!\n",
    "\n",
    "def sos_filter(sig, fs=None):\n",
    "    from ulab import numpy as np\n",
    "    from ulab import scipy as spy\n",
    "    sos_coeffs = np.array([[ 5.18206655e-04,  5.90798154e-04,  5.18206655e-04,\n",
    "         1.00000000e+00, -1.58702496e+00,  6.47839164e-01],\n",
    "       [ 1.00000000e+00, -6.71623649e-01,  1.00000000e+00,\n",
    "         1.00000000e+00, -1.56165946e+00,  7.42958422e-01],\n",
    "       [ 1.00000000e+00, -1.19857302e+00,  1.00000000e+00,\n",
    "         1.00000000e+00, -1.53434838e+00,  8.53019872e-01],\n",
    "       [ 1.00000000e+00, -1.36458617e+00,  1.00000000e+00,\n",
    "         1.00000000e+00, -1.52074631e+00,  9.31081209e-01],\n",
    "       [ 1.00000000e+00, -1.41818431e+00,  1.00000000e+00,\n",
    "         1.00000000e+00, -1.52570486e+00,  9.80262684e-01]])\n",
    "    return spy.signal.sosfilt(sos_coeffs, sig)\n",
    "\n",
    "def preprocess_data(signal, downsample_freq=None):\n",
    "    from ulab import numpy as np\n",
    "    \n",
    "    \"\"\"Preprocess incoming signal before decoding algorithms.\n",
    "    This involves applying a bandpass filter to isolate the target SSVEP range\n",
    "    and then downsampling the signal to the Nyquist boundary.\n",
    "    \n",
    "    Returns:\n",
    "        [np.ndarray]: filtered and downsampled signal\n",
    "    \"\"\"\n",
    "    downsample_freq = downsample_freq or DOWNSAMPLED_FREQ\n",
    "    ds_factor = ADC_SAMPLE_FREQ//downsample_freq\n",
    "    signal = np.array(signal) - np.mean(signal) # remove DC component\n",
    "    return sos_filter(signal, fs=ADC_SAMPLE_FREQ)[::ds_factor] # NOTE: need to supply correct sampling freq\n",
    "\n",
    "def web_log_callback(*args, **kwargs):\n",
    "    from lib.requests import MicroWebCli as requests\n",
    "\n",
    "    global periph_manager\n",
    "    global output_buffer\n",
    "    global sample_counter\n",
    "    global log_tim\n",
    "    \n",
    "    log_tim.deinit()\n",
    "    \n",
    "    periph_manager.write_led(\"green\", 1)\n",
    "    packed_data = {'data': output_buffer, 'timestamp': time.ticks_us(), 'session_id': DEFAULT_LOG_SESSION}\n",
    "    requests.POSTRequest('http://james-tev.local:5000/', packed_data)\n",
    "        \n",
    "    sample_counter = 0\n",
    "    output_buffer = [0.0 for i in range(256)]\n",
    "    periph_manager.write_led(\"green\", 0)\n",
    "    \n",
    "    # restart log timer\n",
    "    log_tim.init(freq=log_freq, callback=web_log_callback)\n",
    "    \n",
    "def sample_callback(*args, **kwargs):\n",
    "    from lib.utils import update_buffer \n",
    "    \n",
    "    global periph_manager\n",
    "    global sample_counter\n",
    "    global output_buffer\n",
    "    \n",
    "    periph_manager.adc_read_to_buff(size=1)\n",
    "    sample_counter += 1\n",
    "    \n",
    "    # this will only be true every 1s once buffer fills\n",
    "    if sample_counter == periph_manager._adc_params['buffer_size']:\n",
    "        periph_manager.write_led('red', 1)\n",
    "        data = periph_manager.read_adc_buffer()\n",
    "        data = preprocess_data(data, downsample_freq = DOWNSAMPLED_FREQ)\n",
    "        output_buffer = update_buffer(output_buffer, list(data), 256)\n",
    "        sample_counter = 0\n",
    "        periph_manager.write_led('red', 0)\n"
   ]
  },
  {
   "cell_type": "code",
   "execution_count": 61,
   "metadata": {},
   "outputs": [
    {
     "name": "stdout",
     "output_type": "stream",
     "text": [
      ".......Traceback (most recent call last):\n",
      "  File \"<stdin>\", line 46, in web_log_callback\n",
      "  File \"lib/requests.py\", line 125, in POSTRequest\n",
      "  File \"lib/requests.py\", line 325, in OpenRequestFormData\n",
      "  File \"lib/requests.py\", line 72, in _quote\n",
      "MemoryError: memory allocation failed, allocating 3318 bytes\n",
      "....................\n",
      "**[ys] <class 'serial.serialutil.SerialException'>\n",
      "**[ys] read failed: [Errno 6] Device not configured\n",
      "\n",
      "\n",
      "**[ys] <class 'serial.serialutil.SerialException'>\n",
      "**[ys] read failed: [Errno 6] Device not configured\n",
      "\n"
     ]
    }
   ],
   "source": [
    "from machine import Pin, Timer\n",
    "from lib.networking import pack_payload\n",
    "import utime as time\n",
    "\n",
    "ADC_SAMPLE_FREQ = 256\n",
    "RECORDING_LEN_SEC = 4\n",
    "OVERLAP = 0.5\n",
    "DOWNSAMPLED_FREQ = 64 # 64 Hz downsampled  to ensure nyquist condition\n",
    "DEFAULT_LOG_SESSION = 'test-{0}'.format(time.ticks_ms())\n",
    "\n",
    "topic = 'james_esp32'\n",
    "sample_counter = 0\n",
    "output_buffer = [0.0 for i in range(256)]\n",
    "\n",
    "# start sampling on timer 0\n",
    "adc_tim = Timer(0)\n",
    "adc_tim.init(freq=ADC_SAMPLE_FREQ, callback=sample_callback)\n",
    "\n",
    "# flash LED\n",
    "periph_manager.write_led(\"green\", 1)\n",
    "\n",
    "time.sleep(RECORDING_LEN_SEC) # wait for at least one full window\n",
    "\n",
    "# init web logging \n",
    "periph_manager.write_led(\"green\", 0)\n",
    "buff_size = 256\n",
    "log_freq = (DOWNSAMPLED_FREQ/buff_size)*0.75\n",
    "log_tim = Timer(1)\n",
    "log_tim.init(freq=log_freq, callback=web_log_callback)\n",
    "\n",
    "try:\n",
    "    while True:\n",
    "        time.sleep(1)\n",
    "except KeyboardInterrupt:\n",
    "    log_tim.deinit()\n",
    "    adc_tim.deinit()\n",
    "    gc.collect()\n",
    "    print(\"received keyboard interrupt\")"
   ]
  },
  {
   "cell_type": "code",
   "execution_count": 6,
   "metadata": {},
   "outputs": [],
   "source": [
    "from machine import Pin, Timer\n",
    "\n",
    "# flash LED\n",
    "STIM_FREQ = 7\n",
    "led = Pin(27, Pin.OUT)\n",
    "\n",
    "def led_callback(*args, **kwargs):\n",
    "    led.value(not led.value())\n",
    "\n",
    "led_tim = Timer(2)\n",
    "led_tim.init(freq=STIM_FREQ*2, callback=led_callback)"
   ]
  },
  {
   "cell_type": "code",
   "execution_count": 10,
   "metadata": {},
   "outputs": [],
   "source": [
    "led_tim.deinit()"
   ]
  },
  {
   "cell_type": "code",
   "execution_count": 3,
   "metadata": {},
   "outputs": [],
   "source": [
    "import utime as time\n",
    "from machine import Pin, Timer\n",
    "from lib.decoding import CCA\n",
    "from lib.networking import pack_payload\n",
    "\n",
    "global periph_manager\n",
    "global mqtt_client\n",
    "global topic\n",
    "\n",
    "STIM_FREQ = 12\n",
    "PREPROCESSING = False # if true, LP filter and downsample\n",
    "\n",
    "cca_ref_freq = ADC_SAMPLE_FREQ\n",
    "if PREPROCESSING:\n",
    "    cca_ref_freq = DOWNSAMPLED_FREQ\n",
    "    \n",
    "stim_freqs = [7, 10, 12]\n",
    "cca_decoder = CCA(stim_freqs, cca_ref_freq) # !! use DOWNSAMPLED_FREQ for harmonic reference if using downsampling on original signal\n",
    "\n"
   ]
  },
  {
   "cell_type": "code",
   "execution_count": 22,
   "metadata": {},
   "outputs": [
    {
     "name": "stdout",
     "output_type": "stream",
     "text": [
      "network config: ('192.168.0.26', '255.255.255.0', '192.168.0.1', '192.168.0.1')\n",
      "b'data stored successfully'\n"
     ]
    }
   ],
   "source": [
    "from lib.requests import MicroWebCli as requests\n",
    "from lib.utils import connect_wifi, load_env_vars\n",
    "\n",
    "env_vars = load_env_vars(\".env\")\n",
    "# connect WiFI\n",
    "ssid = env_vars.get(\"WIFI_SSID\")\n",
    "password = env_vars.get(\"WIFI_PASSWORD\")\n",
    "connect_wifi(ssid, password)\n",
    "\n",
    "contentBytes = requests.POSTRequest('http://james-tev.local:5000/', {'data': [1,2,3], 'session_id': 'session-1'})\n",
    "print(contentBytes)"
   ]
  },
  {
   "cell_type": "code",
   "execution_count": 9,
   "metadata": {},
   "outputs": [
    {
     "name": "stdout",
     "output_type": "stream",
     "text": [
      "{12: 0.0417, 10: 0.0691, 7: 0.0475}\n",
      ".{12: 0.0495, 10: 0.0457, 7: 0.07280001}\n",
      "{12: 0.0355, 10: 0.0505, 7: 0.0236}\n",
      "{12: 0.0713, 10: 0.0587, 7: 0.0683}\n",
      ".{12: 0.0673, 10: 0.0296, 7: 0.0563}\n",
      "{12: 0.08990001, 10: 0.0497, 7: 0.0622}\n",
      "{12: 0.0514, 10: 0.0837, 7: 0.0742}\n",
      ".{12: 0.0611, 10: 0.0327, 7: 0.0702}\n",
      "{12: 0.0955, 10: 0.0594, 7: 0.0512}\n",
      "{12: 0.0439, 10: 0.0543, 7: 0.07150001}\n",
      "{12: 0.0341, 10: 0.0359, 7: 0.0226}\n",
      ".{12: 0.5333, 10: 0.0814, 7: 0.0906}\n",
      "{12: 0.6369, 10: 0.0346, 7: 0.0002}\n",
      "{12: 0.6369, 10: 0.0347, 7: 0.0001}\n",
      ".{12: 0.6369, 10: 0.0346, 7: 0.0001}\n",
      "{12: 0.6369, 10: 0.0346, 7: 0.0001}\n",
      "{12: 0.6369, 10: 0.0345, 7: 0.0001}\n",
      ".{12: 0.6369, 10: 0.0347, 7: 0.0001}\n",
      "{12: 0.4701, 10: 0.1064, 7: 0.1063}\n",
      "{12: 0.0273, 10: 0.024, 7: 0.024}\n",
      "{12: 0.0832, 10: 0.0489, 7: 0.08160001}\n",
      ".{12: 0.0576, 10: 0.0376, 7: 0.0654}\n",
      "{12: 0.0618, 10: 0.0305, 7: 0.0446}\n",
      "\n",
      "**[ys] <class 'serial.serialutil.SerialException'>\n",
      "**[ys] read failed: [Errno 6] Device not configured\n",
      "\n",
      "\n",
      "**[ys] <class 'serial.serialutil.SerialException'>\n",
      "**[ys] read failed: [Errno 6] Device not configured\n",
      "\n"
     ]
    }
   ],
   "source": [
    "# flash LED\n",
    "led = Pin(26, Pin.OUT)\n",
    "\n",
    "def led_callback(*args, **kwargs):\n",
    "    led.value(not led.value())\n",
    "\n",
    "led_tim = Timer(2)\n",
    "led_tim.init(freq=STIM_FREQ*2, callback=led_callback)\n",
    "\n",
    "topic = \"james_esp32\"\n",
    "\n",
    "time.sleep(RECORDING_LEN_SEC) # wait for at least one full window\n",
    "while True:\n",
    "    time.sleep(RECORDING_LEN_SEC*(1-OVERLAP))\n",
    "    decoded_data = read_and_decode(preprocessing=PREPROCESSING)\n",
    "    gc.collect()\n",
    "    print(decoded_data)\n",
    "#     payload = pack_payload([1,2,3], decoded_data, client_id=mqtt_client.client_id)\n",
    "    gc.collect()\n",
    "#     mqtt_client.publish(topic=topic, msg=payload, qos=1)"
   ]
  },
  {
   "cell_type": "code",
   "execution_count": null,
   "metadata": {},
   "outputs": [],
   "source": [
    "import urandom\n",
    "\n",
    "def synth_x(f, Ns, noise_power=0.5, fs=250):\n",
    "    \"\"\"\n",
    "    generate a synthetic signal vector\n",
    "    \n",
    "    args:\n",
    "    Ns [int]: number of samples (time samples)\n",
    "    noise_power [float]: variance of WGN noise distribution\n",
    "    \"\"\"\n",
    "    t = np.arange(0, Ns/fs, 1/fs)\n",
    "    return np.sin(t*2*np.pi*f)*(1+urandom.random()*noise_power)\n",
    "\n",
    "def synth_X(f, Nc, Ns, noise_power=0.5, fs=200, f_std=0.02, noise_std=0.2):\n",
    "    \"\"\"\n",
    "    Generate a matrix of several variations of the same target signal. This is used\n",
    "    to simulate the measurement of a common signal over multiple EEG channels \n",
    "    that have different SNR characteristics.\n",
    "    \n",
    "    args:\n",
    "    f [float]: target frequency of synthetic signal (Hz)\n",
    "    Nc [int]: number of channels\n",
    "    Ns [int]: number of samples (time samples)\n",
    "    noise_power [float]: variance of WGN noise distribution\n",
    "    fs [float]: sampling frequency (Hz)\n",
    "    f_std [float]: standard dev. of freq. in generated signal across channels to simulate interference from other frequency components over different channels\n",
    "    noise_std [float]: standard dev. of noise across channels\n",
    "    \"\"\"\n",
    "    X = []\n",
    "    for i in range(Nc): # simulate noisy sinusoids with varying SNR across Nc channels\n",
    "        f_i = f*(1+urandom.random()*0.1)\n",
    "        x = synth_x(f_i, Ns, noise_power=0)\n",
    "\n",
    "        X.append(x)\n",
    "        \n",
    "    return np.array(X)\n",
    "\n",
    "def harmonic_reference(f0, fs, Ns, Nh=2, standardise_out=False):\n",
    "    \n",
    "    '''\n",
    "    Generate reference signals for canonical correlation analysis (CCA)\n",
    "    -based steady-state visual evoked potentials (SSVEPs) detection [1, 2].\n",
    "    function [ y_ref ] = cca_reference(listFreq, fs,  Ns, Nh) \n",
    "    Input:\n",
    "      f0        : stimulus frequency\n",
    "      fs              : Sampling frequency\n",
    "      Ns              : # of samples in trial\n",
    "      Nh          : # of harmonics\n",
    "    Output:\n",
    "      y_ref           : Generated reference signals with shape (Nf, Ns, 2*Nh)\n",
    "    '''  \n",
    "\n",
    "    tidx = np.arange(1,Ns+1)*(1/fs) #time index\n",
    "    \n",
    "    tmp = []\n",
    "    for harm_i in range(1,Nh+1):\n",
    "        # Sin and Cos\n",
    "        s = np.sin(tidx*2*np.pi*harm_i*f0)\n",
    "        tmp.extend([s,\n",
    "                    np.cos(tidx*2*np.pi*harm_i*f0)])\n",
    "    y_ref = np.array(tmp)\n",
    "    if standardise_out: # zero mean, unit std. dev\n",
    "        return standardise(y_ref)\n",
    "    return y_ref"
   ]
  },
  {
   "cell_type": "code",
   "execution_count": null,
   "metadata": {},
   "outputs": [
    {
     "name": "stdout",
     "output_type": "stream",
     "text": [
      "(4, 50) (2, 50)\n"
     ]
    }
   ],
   "source": [
    "import gc\n",
    "\n",
    "gc.collect()\n",
    "\n",
    "Ns = 50\n",
    "\n",
    "X = synth_X(7, 4, Ns, noise_power=0.2, f_std=0.04)\n",
    "Y = harmonic_reference(12, 250, Ns, Nh=1)\n",
    "\n",
    "# X = X.T\n",
    "# Y = Y.T\n",
    "\n",
    "print(X.shape(), Y.shape())"
   ]
  },
  {
   "cell_type": "code",
   "execution_count": null,
   "metadata": {},
   "outputs": [],
   "source": [
    "Cxx = np.dot(X, X.transpose()) # auto correlation matrix\n",
    "Cyy = np.dot(Y, Y.transpose()) \n",
    "Cxy = np.dot(X, Y.transpose()) # cross correlation matrix\n",
    "Cyx = np.dot(Y, X.transpose()) # same as Cxy.T\n",
    "\n",
    "M1 = np.dot(np.linalg.inv(Cxx), Cxy) # intermediate result\n",
    "M2 = np.dot(np.linalg.inv(Cyy), Cyx)\n",
    "M = np.dot(M1, M2)"
   ]
  },
  {
   "cell_type": "code",
   "execution_count": null,
   "metadata": {},
   "outputs": [
    {
     "name": "stdout",
     "output_type": "stream",
     "text": [
      "array([0.2094223883303393, 0.09026236148649224, 0.05508118227979756, 0.004485854551801153], dtype=float64)\n"
     ]
    }
   ],
   "source": [
    "lam, V = solve_qr(M, iterations=100)\n",
    "print(np.sqrt(lam))"
   ]
  },
  {
   "cell_type": "code",
   "execution_count": null,
   "metadata": {},
   "outputs": [],
   "source": [
    "import ujson as json\n",
    "\n",
    "with open('data.json', 'w') as jsonfile:\n",
    "    json.dump(X, jsonfile)"
   ]
  },
  {
   "cell_type": "code",
   "execution_count": null,
   "metadata": {},
   "outputs": [],
   "source": [
    "import ujson as json\n",
    "\n",
    "with open('xy.json') as f:\n",
    "    data = json.load(f)"
   ]
  },
  {
   "cell_type": "code",
   "execution_count": null,
   "metadata": {},
   "outputs": [],
   "source": [
    "X = np.array(data['X'])\n",
    "Y = np.array(data['Y'])"
   ]
  },
  {
   "cell_type": "code",
   "execution_count": 117,
   "metadata": {},
   "outputs": [
    {
     "name": "stdout",
     "output_type": "stream",
     "text": [
      "array([3090257647770.855, 1.84513789676072, 0.690618760063498, -6.033914926509784e-05], dtype=float64) array([-0.02983780014940622, -0.7932272635549372, 0.5364013569551137, 0.2866597256192484], dtype=float64)\n"
     ]
    }
   ],
   "source": [
    "from lib.computation import solve_eig_qr\n",
    "\n",
    "lam, V = solve_eig_qr(np.dot(A, A.transpose()), 2)\n",
    "print(lam, V[:, 0])"
   ]
  },
  {
   "cell_type": "code",
   "execution_count": 105,
   "metadata": {},
   "outputs": [
    {
     "name": "stdout",
     "output_type": "stream",
     "text": [
      "array([[-883550.4911050206, -877556.5360877957, -878760.5076758521, -875939.8801019968],\n",
      "       [-1.844490843821283e-11, -1.540692204816151, -1.705187238642372, -1.081242480290623],\n",
      "       [-2.640966340204573e-11, 0.0, 0.4207967891230313, -0.778845463474262],\n",
      "       [-5.666316844096295e-11, -0.0, 0.0, 1.354608353265618e-08]], dtype=float64)\n"
     ]
    }
   ],
   "source": [
    "Q, R = np.linalg.qr(A)\n",
    "print(R)"
   ]
  },
  {
   "cell_type": "code",
   "execution_count": 45,
   "metadata": {},
   "outputs": [
    {
     "name": "stdout",
     "output_type": "stream",
     "text": [
      "array([-2.643192e+10, -7.02683e+11, 4.751729e+11, 2.539385e+11], dtype=float32)\n",
      "array([-26136.41, -650175.6, 644677.9, 3.090257e+12], dtype=float32)\n"
     ]
    }
   ],
   "source": [
    "X = np.dot(A, A.transpose())\n",
    "print(np.dot(X, V[0]))\n",
    "print(V[0]*lam[0])"
   ]
  },
  {
   "cell_type": "code",
   "execution_count": 118,
   "metadata": {},
   "outputs": [],
   "source": [
    "#TODO: uLab QR seems to give incorrect result for this matrix\n",
    "A_null = np.array([[-3.090257e+12, -7.008567e+05,  4.739371e+05,  2.532784e+05],\n",
    "       [-2.618467e+04, -3.090258e+12,  4.707228e+05,  2.515600e+05],\n",
    "       [-2.622055e+04, -6.970566e+05, -3.090256e+12,  2.519048e+05],\n",
    "       [-2.613640e+04, -6.948194e+05,  4.698551e+05, -3.090257e+12]])"
   ]
  },
  {
   "cell_type": "code",
   "execution_count": 119,
   "metadata": {},
   "outputs": [
    {
     "name": "stdout",
     "output_type": "stream",
     "text": [
      "array([[3090257000000.001, 727041.3902643195, -447716.5664473673, -227142.0042689324],\n",
      "       [-1.04984705117826e-25, 3090258000000.152, 226333.2414550781, 443259.1143798828],\n",
      "       [2.568302040251067e-12, -0.0, -3090256000000.068, 721760.0402832033],\n",
      "       [-2.576570284484911e-12, 0.0, -0.000244140625, -3090256999999.907]], dtype=float64)\n"
     ]
    }
   ],
   "source": [
    "Q, R = np.linalg.qr(A_null, mode=\"reduced\")\n",
    "print(R)"
   ]
  },
  {
   "cell_type": "code",
   "execution_count": 129,
   "metadata": {},
   "outputs": [
    {
     "name": "stdout",
     "output_type": "stream",
     "text": [
      "{12: nan, 10: nan, 7: nan}\n"
     ]
    }
   ],
   "source": [
    "from lib.decoding import harmonic_reference, CCA\n",
    "from lib.computation import solve_gen_eig_prob\n",
    "from ulab import numpy as np\n",
    "\n",
    "gc.collect()\n",
    "\n",
    "f0 = 7\n",
    "stim_freqs = [7, 10, 12]\n",
    "fs = 200\n",
    "\n",
    "X_test = synth_X(10, 4, 10)\n",
    "\n",
    "cca = CCA(stim_freqs, fs)\n",
    "\n",
    "print(cca.compute_corr(X_test))\n"
   ]
  },
  {
   "cell_type": "code",
   "execution_count": 144,
   "metadata": {},
   "outputs": [
    {
     "name": "stdout",
     "output_type": "stream",
     "text": [
      "array([[-2.171207463750402, -1.338522784901037, -0.5880826741808868, 0.04396681273567864, 0.5271820793288486, 0.8382883489982348, 0.9623007290342446, 0.8932459800949776, 0.6344502260963639, 0.1983787465439827],\n",
      "       [1.305341814301688, 1.170640910201912, 0.9533601308922323, 0.6639651258411464, 0.3163950326494211, -0.07260892208832805, -0.484309788674666, -0.8988773871495461, -1.296343457179863, -1.657563458793997],\n",
      "       [0.267963264843056, 0.7796799141142366, 1.073691207707363, 1.094033302783363, 0.8368341650474374, 0.3510505945826392, -0.2708505000816015, -0.9104927984376731, -1.446123014681661, -1.77578613587716],\n",
      "       [1.850696116855231, 1.432374314847385, 0.8242438445293502, 0.142059844591912, -0.4843267608957941, -0.9356858528536302, -1.12610308092582, -1.019333307398602, -0.6356997203802178, -0.04822539836981504]], dtype=float64)\n"
     ]
    }
   ],
   "source": [
    "print(Y)"
   ]
  },
  {
   "cell_type": "code",
   "execution_count": 138,
   "metadata": {},
   "outputs": [],
   "source": [
    "from lib.decoding import harmonic_reference\n",
    "\n",
    "X = X_test\n",
    "Y = harmonic_reference(7, 200, np.max(X_test.shape()), Nh=2, standardise_out=True)\n",
    "\n",
    "Cxx = np.dot(X, X.transpose()) # auto correlation matrix\n",
    "Cyy = np.dot(Y, Y.transpose()) \n",
    "Cxy = np.dot(X, Y.transpose()) # cross correlation matrix\n",
    "Cyx = np.dot(Y, X.transpose()) # same as Cxy.T\n",
    "\n",
    "M1 = np.dot(np.linalg.inv(Cxx), Cxy) # intermediate result\n",
    "M2 = np.dot(np.linalg.inv(Cyy), Cyx)\n",
    "\n",
    "lam, _ = max_eig(np.dot(M1, M2), 20)"
   ]
  },
  {
   "cell_type": "code",
   "execution_count": 151,
   "metadata": {},
   "outputs": [
    {
     "name": "stdout",
     "output_type": "stream",
     "text": [
      "array([[597636288720971.6, -590244015165738.0, -70701016851736.37, 63307345255390.93],\n",
      "       [-387237973120798.1, 382448155728474.1, 45810658901710.62, -41019935647656.07],\n",
      "       [-46384381598032.41, 45810634090902.22, 5487518240656.996, -4913662265777.822],\n",
      "       [41533661101626.68, -41019913615534.64, -4913662287824.636, 4399817679136.317]], dtype=float64)\n"
     ]
    }
   ],
   "source": [
    "print(np.linalg.inv(Cxx))"
   ]
  },
  {
   "cell_type": "code",
   "execution_count": 20,
   "metadata": {},
   "outputs": [],
   "source": [
    "def zeros_like(A):\n",
    "    return np.zeros(A.shape)\n",
    "\n",
    "def block_diag(X, Y, reverse=False):\n",
    "    if not reverse:\n",
    "        X = np.concatenate((X, zeros_like(X)), axis=1)\n",
    "        Y = np.concatenate((zeros_like(Y), Y), axis=1)\n",
    "    else:\n",
    "        X = np.concatenate((zeros_like(X), X), axis=1)\n",
    "        Y = np.concatenate((Y, zeros_like(Y)), axis=1)\n",
    "    return np.concatenate((X, Y), axis=0)\n",
    "\n",
    "X = np.array([[0.0, 0.2552531, 0.4935954, 0.6992362, 0.8585516, 0.9609866, 0.9997549, 0.972288, 0.8804055, 0.7301948],\n",
    "       [0.0, 0.2651061, 0.5112409, 0.7207904, 0.8787591, 0.9738424, 0.9992362, 0.9531231, 0.838803, 0.6644569],\n",
    "       [0.0, 0.2634635, 0.5083104, 0.7172394, 0.8754874, 0.9718722, 0.9995833, 0.9566626, 0.8461428, 0.6758333],\n",
    "       [0.0, 0.2671577, 0.5148946, 0.7252015, 0.8827904, 0.9762053, 0.9986557, 0.9485094, 0.8294118, 0.6500207]])\n",
    "\n",
    "# Y = cca_reference([7], 200, 10, Nh=2)\n",
    "\n",
    "Y = np.array([[-2.171207, -1.338523, -0.5880827, 0.04396701, 0.5271821, 0.8382883, 0.9623005, 0.8932458, 0.6344502, 0.1983788],\n",
    "       [1.305342, 1.170641, 0.9533603, 0.6639652, 0.3163952, -0.07260892, -0.4843098, -0.8988775, -1.296343, -1.657563],\n",
    "       [0.2679634, 0.7796801, 1.073691, 1.094033, 0.8368343, 0.3510505, -0.2708505, -0.9104931, -1.446123, -1.775786],\n",
    "       [1.850696, 1.432374, 0.8242437, 0.1420597, -0.4843266, -0.9356859, -1.126103, -1.019333, -0.6356997, -0.04822552]])"
   ]
  },
  {
   "cell_type": "code",
   "execution_count": 38,
   "metadata": {},
   "outputs": [
    {
     "name": "stderr",
     "output_type": "stream",
     "text": [
      "Traceback (most recent call last):\n",
      "  File \"<stdin>\", line 11, in <module>\n",
      "  File \"computation.py\", line 23, in solve_gen_eig_prob\n",
      "ValueError: input matrix is asymmetric\n"
     ]
    }
   ],
   "source": [
    "from lib.computation import solve_gen_eig_prob\n",
    "\n",
    "Cxx = np.dot(X, X.transpose()) # auto correlation matrix\n",
    "Cyy = np.dot(Y, Y.transpose()) \n",
    "Cxy = np.dot(X, Y.transpose()) # cross correlation matrix\n",
    "Cyx = np.dot(Y, X.transpose()) # same as Cxy.T\n",
    "\n",
    "A = block_diag(Cxy, Cyx, reverse=True)\n",
    "B = block_diag(Cxx, Cyy)\n",
    "\n",
    "lam, Phi = solve_gen_eig_prob(A, B, eps=1e-6)"
   ]
  },
  {
   "cell_type": "code",
   "execution_count": 41,
   "metadata": {},
   "outputs": [
    {
     "name": "stderr",
     "output_type": "stream",
     "text": [
      "Traceback (most recent call last):\n",
      "  File \"<stdin>\", line 1, in <module>\n",
      "ImportError: can't import name solve_eig_qr\n"
     ]
    }
   ],
   "source": [
    "from lib.computation import solve_eig_qr\n",
    "\n",
    "print(A)"
   ]
  },
  {
   "cell_type": "code",
   "execution_count": 37,
   "metadata": {},
   "outputs": [
    {
     "name": "stdout",
     "output_type": "stream",
     "text": [
      "array([[0.2104852, 0.0, 0.0, 0.0, 0.0, 0.0, 0.0, 0.0],\n",
      "       [0.0, 1267.649, 0.0, 0.0, 0.0, 0.0, 0.0, 0.0],\n",
      "       [0.0, 0.0, 12.49017, 0.0, 0.0, 0.0, 0.0, 0.0],\n",
      "       [0.0, 0.0, 0.0, 1000000.0, 0.0, 0.0, 0.0, 0.0],\n",
      "       [0.0, 0.0, 0.0, 0.0, 8.926649, 0.0, 0.0, 0.0],\n",
      "       [0.0, 0.0, 0.0, 0.0, 0.0, 1.873826, 0.0, 0.0],\n",
      "       [0.0, 0.0, 0.0, 0.0, 0.0, 0.0, 0.3365085, 0.0],\n",
      "       [0.0, 0.0, 0.0, 0.0, 0.0, 0.0, 0.0, 0.1799781]], dtype=float32)\n"
     ]
    }
   ],
   "source": [
    "eps = 1e-6\n",
    "\n",
    "def replace_nan(A, rep=0):\n",
    "    return np.where(np.isfinite(A), A, rep)\n",
    "\n",
    "Lam_b, Phi_b = np.linalg.eig(B) # eig decomp of B alone\n",
    "Lam_b = np.eye(len(Lam_b))*Lam_b # convert to diagonal matrix of eig vals\n",
    "\n",
    "Lam_b_sq = replace_nan(Lam_b**0.5)+np.eye(len(Lam_b))*eps\n",
    "print(np.linalg.inv(Lam_b_sq))"
   ]
  },
  {
   "cell_type": "code",
   "execution_count": 7,
   "metadata": {},
   "outputs": [
    {
     "name": "stdout",
     "output_type": "stream",
     "text": [
      "[0.00769949, 0.5943487, 0.2485597, 0.6857158, 0.00562346, 0.3077182, 0.6192346, 0.6785934, 0.7380899, 0.1414928]\n"
     ]
    }
   ],
   "source": [
    "import urandom\n",
    "\n",
    "print([urandom.random() for i in range(10)])\n"
   ]
  },
  {
   "cell_type": "code",
   "execution_count": 109,
   "metadata": {},
   "outputs": [
    {
     "name": "stdout",
     "output_type": "stream",
     "text": [
      "Listing directory '/'.\n",
      "     3117    .env\n",
      "      139    boot.py\n",
      "      487    data.json\n",
      "             lib/\n"
     ]
    }
   ],
   "source": [
    "%ls"
   ]
  },
  {
   "cell_type": "code",
   "execution_count": 50,
   "metadata": {},
   "outputs": [
    {
     "name": "stdout",
     "output_type": "stream",
     "text": [
      "Listing directory 'lib'.\n",
      "       27    lib/__init__.mpy\n",
      "     1643    lib/computation.mpy\n",
      "      558    lib/config.mpy\n",
      "     1065    lib/core.mpy\n",
      "      722    lib/decoding.mpy\n",
      "     8703    lib/mqtt_as.mpy\n",
      "      790    lib/networking.mpy\n",
      "     2504    lib/peripherals.mpy\n",
      "     1052    lib/scheduling.mpy\n",
      "     1174    lib/signal.mpy\n",
      "     2601    lib/umqtt.mpy\n",
      "      614    lib/utils.mpy\n",
      "      641    lib/websockets.mpy\n"
     ]
    }
   ],
   "source": [
    "%ls --recursive lib"
   ]
  },
  {
   "cell_type": "code",
   "execution_count": 35,
   "metadata": {},
   "outputs": [
    {
     "name": "stdout",
     "output_type": "stream",
     "text": [
      "Sent 3116 bytes in 104 chunks to .env.\n"
     ]
    }
   ],
   "source": [
    "%sendtofile --source lib/.env .env  --binary"
   ]
  },
  {
   "cell_type": "code",
   "execution_count": 195,
   "metadata": {},
   "outputs": [
    {
     "name": "stdout",
     "output_type": "stream",
     "text": [
      "Sent 83 lines (2491 bytes) to lib/core.py.\n"
     ]
    }
   ],
   "source": [
    "%sendtofile lib/core.py --source lib/core.py"
   ]
  },
  {
   "cell_type": "code",
   "execution_count": 131,
   "metadata": {},
   "outputs": [
    {
     "name": "stdout",
     "output_type": "stream",
     "text": [
      "Sent 61 lines (2106 bytes) to lib/decoding.py.\n"
     ]
    }
   ],
   "source": [
    "%sendtofile lib/decoding.py --source lib/decoding.py"
   ]
  },
  {
   "cell_type": "code",
   "execution_count": 191,
   "metadata": {},
   "outputs": [
    {
     "name": "stdout",
     "output_type": "stream",
     "text": [
      "repl is in normal command mode\n",
      "[\\r\\x03\\x03] b'\\r\\nMicroPython v1.15-222-g8edc3aacd-dirty on 2021-07-17; ESP32 module with ESP32\\r\\nType \"help()\" for more information.\\r\\n>>> \\r\\n>>> \\r\\nMPY: soft reboot\\r\\nMicroPython v1.15-222-g8edc3aacd-dirty on 2021-07-17; ESP32 module with ESP32\\r\\nType \"help()\" for more information.\\r\\n>>> \\r\\n>>> \\r\\n>>> '\n",
      "[\\r\\x01] b'\\r\\n>>> \\r\\nraw REPL; CTRL-B to exit\\r\\n>'"
     ]
    }
   ],
   "source": [
    "%rebootdevice"
   ]
  },
  {
   "cell_type": "code",
   "execution_count": 111,
   "metadata": {},
   "outputs": [
    {
     "name": "stdout",
     "output_type": "stream",
     "text": [
      "Fetched 487=487 bytes from data.json.\n"
     ]
    }
   ],
   "source": [
    "%fetchfile data.json --print"
   ]
  },
  {
   "cell_type": "code",
   "execution_count": 12,
   "metadata": {},
   "outputs": [
    {
     "name": "stdout",
     "output_type": "stream",
     "text": [
      "%capture [--quiet] [--QUIET] outputfilename\n",
      "    records output to a file\n",
      "\n",
      "%comment\n",
      "    print this into output\n",
      "\n",
      "%disconnect [--raw]\n",
      "    disconnects from web/serial connection\n",
      "\n",
      "%esptool [--port PORT] {erase,esp32,esp8266} [binfile]\n",
      "    commands for flashing your esp-device\n",
      "\n",
      "%fetchfile [--binary] [--print] [--load] [--quiet] [--QUIET]\n",
      "                  sourcefilename [destinationfilename]\n",
      "    fetch and save a file from the device\n",
      "\n",
      "%ls [--recurse] [dirname]\n",
      "    list files on the device\n",
      "\n",
      "%lsmagic\n",
      "    list magic commands\n",
      "\n",
      "%mpy-cross [--set-exe SET_EXE] [pyfile]\n",
      "    cross-compile a .py file to a .mpy file\n",
      "\n",
      "%readbytes [--binary]\n",
      "    does serial.read_all()\n",
      "\n",
      "%rebootdevice\n",
      "    reboots device\n",
      "\n",
      "%sendtofile [--append] [--mkdir] [--binary] [--execute] [--source [SOURCE]] [--quiet]\n",
      "                   [--QUIET]\n",
      "                   [destinationfilename]\n",
      "    send cell contents or file/direcectory to the device\n",
      "\n",
      "%serialconnect [--raw] [--port PORT] [--baud BAUD] [--verbose]\n",
      "    connects to a device over USB wire\n",
      "\n",
      "%socketconnect [--raw] ipnumber portnumber\n",
      "    connects to a socket of a device over wifi\n",
      "\n",
      "%suppressendcode\n",
      "    doesn't send x04 or wait to read after sending the contents of the cell\n",
      "  (assists for debugging using %writebytes and %readbytes)\n",
      "\n",
      "%websocketconnect [--raw] [--password PASSWORD] [--verbose] [websocketurl]\n",
      "    connects to the webREPL websocket of an ESP8266 over wifi\n",
      "    websocketurl defaults to ws://192.168.4.1:8266 but be sure to be connected\n",
      "\n",
      "%writebytes [--binary] [--verbose] stringtosend\n",
      "    does serial.write() of the python quoted string given\n",
      "\n",
      "%%writefile [--append] [--execute] destinationfilename\n",
      "    write contents of cell to a file\n",
      "\n"
     ]
    }
   ],
   "source": [
    "%lsmagic"
   ]
  },
  {
   "cell_type": "code",
   "execution_count": null,
   "metadata": {},
   "outputs": [],
   "source": [
    "# see https://docs.micropython.org/en/latest/reference/constrained.html\n",
    "\n",
    "import gc\n",
    "import micropython\n",
    "\n",
    "gc.enable()\n",
    "\n",
    "gc.collect()\n",
    "micropython.mem_info()\n",
    "print('-----------------------------')\n",
    "print('Initial free: {} allocated: {}'.format(gc.mem_free(), gc.mem_alloc()))\n",
    "def func():\n",
    "    return\n",
    "    with open('xy.json') as f:\n",
    "        data = json.load(f)\n",
    "        del data\n",
    "gc.collect()\n",
    "print('Func definition: {} allocated: {}'.format(gc.mem_free(), gc.mem_alloc()))\n",
    "func()\n",
    "print('Func run free: {} allocated: {}'.format(gc.mem_free(), gc.mem_alloc()))\n",
    "gc.collect()\n",
    "print('Garbage collect free: {} allocated: {}'.format(gc.mem_free(), gc.mem_alloc()))\n",
    "print('-----------------------------')\n",
    "# micropython.mem_info(1)"
   ]
  }
 ],
 "metadata": {
  "kernelspec": {
   "display_name": "MicroPython - USB",
   "language": "micropython",
   "name": "micropython"
  },
  "language_info": {
   "codemirror_mode": "python",
   "file_extension": ".py",
   "mimetype": "text/python",
   "name": "micropython"
  }
 },
 "nbformat": 4,
 "nbformat_minor": 4
}
