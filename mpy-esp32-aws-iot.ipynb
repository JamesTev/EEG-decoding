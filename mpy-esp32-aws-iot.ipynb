{
 "cells": [
  {
   "cell_type": "code",
   "execution_count": null,
   "metadata": {},
   "outputs": [
    {
     "name": "stdout",
     "output_type": "stream",
     "text": [
      "serial exception on close write failed: [Errno 6] Device not configured\n",
      "\u001b[34mConnecting to --port=/dev/tty.usbserial-02EDKZTP --baud=115200 \u001b[0m\n"
     ]
    }
   ],
   "source": [
    "%serialconnect to --port=\"/dev/tty.usbserial-02EDKZTP\" --baud=115200\n",
    "# %serialconnect to --port=\"/dev/tty.usbserial-02U1W54L\" --baud=115200\n",
    "\n",
    "# %serialconnect to --port=\"/dev/tty.usbserial-0001\" --baud=115200\n",
    "\n",
    "from lib.utils import load_env_vars\n",
    "\n",
    "env_vars = load_env_vars('.env')\n",
    "\n",
    "def connect_wifi():\n",
    "    import network\n",
    "    import binascii\n",
    "\n",
    "    wlan = network.WLAN(network.STA_IF)\n",
    "    wlan.active(True)\n",
    "    if not wlan.isconnected():\n",
    "        print('connecting to network...')\n",
    "        wlan.connect(env_vars.get('WIFI_SSID'), env_vars.get('WIFI_PASSWORD'))\n",
    "        while not wlan.isconnected():\n",
    "            pass\n",
    "    print('network config:', wlan.ifconfig())\n",
    "    return wlan\n",
    "\n",
    "connect_wifi()"
   ]
  },
  {
   "cell_type": "code",
   "execution_count": 7,
   "metadata": {},
   "outputs": [],
   "source": [
    "from lib.core import initialise, run, env_vars"
   ]
  },
  {
   "cell_type": "code",
   "execution_count": 8,
   "metadata": {},
   "outputs": [
    {
     "name": "stdout",
     "output_type": "stream",
     "text": [
      "ADC initialised\n",
      "SPI initialised\n",
      "DigiPot set to minimum gain (1.8)\n",
      "network config: ('192.168.0.26', '255.255.255.0', '192.168.0.1', '192.168.0.1')\n",
      "Attemptint to connect to socket addr:  ('35.177.171.248', 1883)\n",
      "resp:  b' \\x02\\x00\\x00'\n",
      "0x4 b'32:46:00:00'\n"
     ]
    }
   ],
   "source": [
    "periph_manager, mqtt_client, data_scheduler = initialise()"
   ]
  },
  {
   "cell_type": "code",
   "execution_count": 12,
   "metadata": {},
   "outputs": [
    {
     "name": "stdout",
     "output_type": "stream",
     "text": [
      "0x4 b'32:26:00:00'\n"
     ]
    }
   ],
   "source": [
    "import ujson as json\n",
    "msg = \"hey mate\"\n",
    "mqtt_client.publish(topic=\"james_esp32\", msg=json.dumps({'message': msg}), qos=1)"
   ]
  },
  {
   "cell_type": "code",
   "execution_count": 13,
   "metadata": {},
   "outputs": [
    {
     "name": "stdout",
     "output_type": "stream",
     "text": [
      "0x4 b'32:b9:03:00'\n",
      ".0x4 b'32:b9:03:00'\n",
      "0x4 b'32:bb:03:00'\n",
      ".0x4 b'32:bc:03:00'\n",
      "0x4 b'32:c1:03:00'\n",
      ".0x4 b'32:c0:03:00'\n",
      "0x4 b'32:b9:03:00'\n",
      ".0x4 b'32:b9:03:00'\n",
      "0x4 b'32:ba:03:00'\n",
      ".0x4 b'32:bc:03:00'\n",
      "0x4 b'32:bc:03:00'\n",
      ".0x4 b'32:b9:03:00'\n",
      "0x4 b'32:c2:03:00'\n",
      ".0x4 b'32:ba:03:00'\n",
      "0x4 b'32:b9:03:00'\n",
      ".0x4 b'32:c1:03:00'\n",
      "0x4 b'32:c0:03:00'\n",
      ".0x4 b'32:b9:03:00'\n",
      "0x4 b'32:c0:03:00'\n",
      ".0x4 b'32:bc:03:00'\n",
      "0x4 b'32:c0:03:00'\n",
      ".0x4 b'32:ba:03:00'\n",
      "0x4 b'32:b9:03:00'\n",
      ".0x4 b'32:c0:03:00'\n",
      "0x4 b'32:c0:03:00'\n",
      ".0x4 b'32:c0:03:00'\n",
      "0x4 b'32:b9:03:00'\n",
      ".0x4 b'32:ba:03:00'\n",
      "0x4 b'32:bc:03:00'\n",
      ".0x4 b'32:c0:03:00'\n",
      "0x4 b'32:ba:03:00'\n",
      ".0x4 b'32:c1:03:00'\n",
      "0x4 b'32:c1:03:00'\n",
      ".0x4 b'32:c0:03:00'\n",
      "0x4 b'32:b9:03:00'\n",
      ".0x4 b'32:c1:03:00'\n",
      "0x4 b'32:c0:03:00'\n",
      ".0x4 b'32:ba:03:00'\n",
      "0x4 b'32:c0:03:00'\n",
      ".0x4 b'32:c1:03:00'\n",
      "0x4 b'32:c0:03:00'\n",
      ".0x4 b'32:bb:03:00'\n",
      "0x4 b'32:bc:03:00'\n",
      ".0x4 b'32:c1:03:00'\n",
      "0x4 b'32:c1:03:00'\n",
      ".0x4 b'32:c1:03:00'\n",
      "0x4 b'32:c0:03:00'\n",
      ".0x4 b'32:b9:03:00'\n",
      "0x4 b'32:c0:03:00'\n",
      ".0x4 b'32:ba:03:00'\n",
      "0x4 b'32:bb:03:00'\n",
      ".0x4 b'32:b9:03:00'\n",
      "0x4 b'32:b9:03:00'\n",
      ".0x4 b'32:b9:03:00'\n",
      "0x4 b'32:bb:03:00'\n",
      ".0x4 b'32:c2:03:00'\n",
      "0x4 b'32:c0:03:00'\n",
      ".0x4 b'32:bc:03:00'\n",
      "0x4 b'32:bb:03:00'\n",
      ".0x4 b'32:c0:03:00'\n",
      "0x4 b'32:c1:03:00'\n",
      ".0x4 b'32:c0:03:00'\n",
      "0x4 b'32:c1:03:00'\n",
      ".0x4 b'32:bb:03:00'\n",
      "0x4 b'32:c1:03:00'\n",
      ".0x4 b'32:b9:03:00'\n",
      "0x4 b'32:ba:03:00'\n",
      ".0x4 b'32:bb:03:00'\n",
      "0x4 b'32:c1:03:00'\n",
      ".0x4 b'32:b9:03:00'\n",
      "0x4 b'32:bb:03:00'\n",
      ".0x4 b'32:c0:03:00'\n",
      "0x4 b'32:c2:03:00'\n",
      ".0x4 b'32:ba:03:00'\n",
      "0x4 b'32:b9:03:00'\n",
      ".0x4 b'32:c0:03:00'\n",
      "0x4 b'32:c0:03:00'\n",
      ".0x4 b'32:bc:03:00'\n",
      "0x4 b'32:b9:03:00'\n",
      ".0x4 b'32:b9:03:00'\n",
      "0x4 b'32:bb:03:00'\n",
      ".0x4 b'32:c2:03:00'\n",
      "0x4 b'32:c0:03:00'\n",
      ".0x4 b'32:bb:03:00'\n",
      "0x4 b'32:c2:03:00'\n",
      ".0x4 b'32:ba:03:00'\n",
      "0x4 b'32:ba:03:00'\n",
      ".0x4 b'32:b9:03:00'\n",
      "0x4 b'32:c1:03:00'\n",
      ".0x4 b'32:bb:03:00'\n",
      "0x4 b'32:c0:03:00'\n",
      ".0x4 b'32:b9:03:00'\n",
      "0x4 b'32:c1:03:00'\n",
      ".0x4 b'32:c0:03:00'\n",
      "0x4 b'32:c0:03:00'\n",
      ".0x4 b'32:ba:03:00'\n",
      "0x4 b'32:b9:03:00'\n",
      ".0x4 b'32:b9:03:00'\n",
      "0x4 b'32:bb:03:00'\n",
      ".0x4 b'32:bb:03:00'\n",
      "0x4 b'32:c0:03:00'\n",
      ".0x4 b'32:c0:03:00'\n",
      "0x4 b'32:bb:03:00'\n",
      ".0x4 b'32:c2:03:00'\n",
      "0x4 b'32:ba:03:00'\n",
      ".0x4 b'32:c1:03:00'\n",
      "0x4 b'32:b9:03:00'\n",
      ".\n",
      "**[ys] <class 'serial.serialutil.SerialException'>\n",
      "**[ys] read failed: [Errno 6] Device not configured\n",
      "\n",
      "\n",
      "**[ys] <class 'serial.serialutil.SerialException'>\n",
      "**[ys] read failed: [Errno 6] Device not configured\n",
      "\n"
     ]
    }
   ],
   "source": [
    "run()"
   ]
  },
  {
   "cell_type": "code",
   "execution_count": 52,
   "metadata": {},
   "outputs": [],
   "source": [
    "from machine import Pin, PWM\n",
    "\n",
    "green_led = Pin(26, Pin.OUT)\n",
    "red_led = Pin(13, Pin.OUT)\n",
    "\n",
    "btn_a = Pin(32, Pin.IN)\n",
    "btn_b = Pin(34, Pin.IN)"
   ]
  },
  {
   "cell_type": "code",
   "execution_count": 73,
   "metadata": {},
   "outputs": [
    {
     "name": "stdout",
     "output_type": "stream",
     "text": [
      "Attemptint to connect to socket addr:  ('35.177.171.248', 1883)\n",
      "resp:  b' \\x02\\x00\\x00'\n",
      "0x4 b'32:34:00:00'\n"
     ]
    }
   ],
   "source": [
    "from lib.umqtt import MQTTClient\n",
    "import ujson as json\n",
    "\n",
    "import urandom\n",
    "\n",
    "def rand_str(l=10):\n",
    "    return ''.join([chr(urandom.randint(40, 120)) for i in range(l)])\n",
    "          \n",
    "def sub_cb(topic, msg):\n",
    "    print(topic, msg)\n",
    "\n",
    "# server=\"ec2-35-177-171-248.eu-west-2.compute.amazonaws.com\"\n",
    "server = env_vars.get('MQTT_SERVER')\n",
    "port = env_vars.get('MQTT_PORT')\n",
    "topic = env_vars.get('MQTT_DEFAULT_TOPIC')\n",
    "\n",
    "client = MQTTClient(client_id=\"james-esp32-\"+rand_str(l=5), server=server, port=1883, keepalive=6000, ssl=False)\n",
    "\n",
    "client.set_callback(sub_cb)\n",
    "client.connect()\n",
    "\n",
    "msg = \"Hello from Jim's ESP32\"\n",
    "client.publish(topic=topic, msg=json.dumps({'message': msg}), qos=1)\n"
   ]
  },
  {
   "cell_type": "code",
   "execution_count": 74,
   "metadata": {},
   "outputs": [
    {
     "name": "stdout",
     "output_type": "stream",
     "text": [
      "0x4 b'32:2e:00:00'\n"
     ]
    }
   ],
   "source": [
    "client.publish(topic=\"esp32\", msg=json.dumps({'message': msg}), qos=1)"
   ]
  },
  {
   "cell_type": "code",
   "execution_count": 83,
   "metadata": {},
   "outputs": [
    {
     "name": "stdout",
     "output_type": "stream",
     "text": [
      "0x4 b'32:2a:00:00'\n"
     ]
    }
   ],
   "source": [
    "msg = \"Hello again!\"\n",
    "client.publish(topic=\"james_esp32\", msg=json.dumps({'message': msg}), qos=1)"
   ]
  },
  {
   "cell_type": "code",
   "execution_count": 21,
   "metadata": {},
   "outputs": [
    {
     "name": "stdout",
     "output_type": "stream",
     "text": [
      "0x4 b'32:32:00:00'\n",
      "0x4 b'32:32:00:00'\n",
      "0x4 b'32:32:00:00'\n",
      "0x4 b'32:32:00:00'\n",
      "0x4 b'32:32:00:00'\n"
     ]
    }
   ],
   "source": [
    "import urandom as random\n",
    "from ubinascii import hexlify\n",
    "import utime\n",
    "\n",
    "for i in range(5):\n",
    "    msg = \"some code: \" + str(hexlify(str(random.randint(100, 1000))))\n",
    "    client.publish(topic=\"james_esp32\", msg=json.dumps({'message': msg}), qos=1)\n",
    "    utime.sleep(0.2)"
   ]
  },
  {
   "cell_type": "code",
   "execution_count": 201,
   "metadata": {},
   "outputs": [
    {
     "name": "stdout",
     "output_type": "stream",
     "text": [
      "Listing directory 'aws/'.\n",
      "     6148    aws//.DS_Store\n",
      "     1758    aws//aws_ca.pem\n",
      "     1224    aws//dab0ac2b5c-certificate.pem.crt\n",
      "     1679    aws//dab0ac2b5c-private.pem.key\n",
      "      451    aws//dab0ac2b5c-public.pem.key\n"
     ]
    }
   ],
   "source": [
    "%ls --recursive aws/"
   ]
  },
  {
   "cell_type": "code",
   "execution_count": 124,
   "metadata": {},
   "outputs": [
    {
     "name": "stdout",
     "output_type": "stream",
     "text": [
      "Sent 62 lines (1752 bytes) to lib/core.py.\n"
     ]
    }
   ],
   "source": [
    "%sendtofile --source lib/core.py lib/core.py\n",
    "# %sendtofile --source mpy-modules/websocket/ws_server.py /websocket/ws_server.py"
   ]
  },
  {
   "cell_type": "code",
   "execution_count": 259,
   "metadata": {},
   "outputs": [
    {
     "name": "stdout",
     "output_type": "stream",
     "text": [
      "Sent 530 bytes in 18 chunks to /lib/utils.mpy.\n"
     ]
    }
   ],
   "source": [
    "%sendtofile --source lib/mpy/utils.mpy /lib/utils.mpy --binary"
   ]
  },
  {
   "cell_type": "code",
   "execution_count": 117,
   "metadata": {},
   "outputs": [
    {
     "name": "stdout",
     "output_type": "stream",
     "text": [
      "Sent 3117 bytes in 104 chunks to .env.\n"
     ]
    }
   ],
   "source": [
    "%sendtofile --source lib/.env .env --binary"
   ]
  },
  {
   "cell_type": "code",
   "execution_count": 125,
   "metadata": {},
   "outputs": [
    {
     "name": "stdout",
     "output_type": "stream",
     "text": [
      "repl is in normal command mode\n",
      "[\\r\\x03\\x03] b'\\r\\nMicroPython v1.15-222-g8edc3aacd-dirty on 2021-06-30; ESP32 module with ESP32\\r\\nType \"help()\" for more information.\\r\\n>>> \\r\\n>>> \\r\\nMPY: soft reboot\\r\\nTraceback (most recent call last):\\r\\n  File \"main.py\", line 13, in <module>\\r\\n  File \"main.py\", line 11, in flash\\r\\nKeyboardInterrupt: \\r\\nMicroPython v1.15-222-g8edc3aacd-dirty on 2021-06-30; ESP32 module with ESP32\\r\\nType \"help()\" for more information.\\r\\n>>> \\r\\n>>> '\n",
      "[\\r\\x01] b'\\r\\n>>> \\r\\nraw REPL; CTRL-B to exit\\r\\n>'"
     ]
    }
   ],
   "source": [
    "%rebootdevice"
   ]
  },
  {
   "cell_type": "code",
   "execution_count": 276,
   "metadata": {},
   "outputs": [],
   "source": [
    "# %fetchfile --print /websocket/ws_connection.py"
   ]
  },
  {
   "cell_type": "code",
   "execution_count": 289,
   "metadata": {},
   "outputs": [
    {
     "name": "stdout",
     "output_type": "stream",
     "text": [
      "Listing directory 'lib/'.\n",
      "             lib//.ipynb_checkpoints/\n",
      "        0    lib//__init__.py\n",
      "     1697    lib//scheduling.py\n",
      "      230    lib//signal.py\n",
      "      541    lib//utils.py\n",
      "      988    lib//websockets.py\n"
     ]
    }
   ],
   "source": [
    "%ls lib/"
   ]
  },
  {
   "cell_type": "code",
   "execution_count": 20,
   "metadata": {},
   "outputs": [
    {
     "name": "stdout",
     "output_type": "stream",
     "text": [
      "%capture [--quiet] [--QUIET] outputfilename\n",
      "    records output to a file\n",
      "\n",
      "%comment\n",
      "    print this into output\n",
      "\n",
      "%disconnect [--raw]\n",
      "    disconnects from web/serial connection\n",
      "\n",
      "%esptool [--port PORT] {erase,esp32,esp8266} [binfile]\n",
      "    commands for flashing your esp-device\n",
      "\n",
      "%fetchfile [--binary] [--print] [--load] [--quiet] [--QUIET]\n",
      "                  sourcefilename [destinationfilename]\n",
      "    fetch and save a file from the device\n",
      "\n",
      "%ls [--recurse] [dirname]\n",
      "    list files on the device\n",
      "\n",
      "%lsmagic\n",
      "    list magic commands\n",
      "\n",
      "%mpy-cross [--set-exe SET_EXE] [pyfile]\n",
      "    cross-compile a .py file to a .mpy file\n",
      "\n",
      "%readbytes [--binary]\n",
      "    does serial.read_all()\n",
      "\n",
      "%rebootdevice\n",
      "    reboots device\n",
      "\n",
      "%sendtofile [--append] [--mkdir] [--binary] [--execute] [--source [SOURCE]] [--quiet]\n",
      "                   [--QUIET]\n",
      "                   [destinationfilename]\n",
      "    send cell contents or file/direcectory to the device\n",
      "\n",
      "%serialconnect [--raw] [--port PORT] [--baud BAUD] [--verbose]\n",
      "    connects to a device over USB wire\n",
      "\n",
      "%socketconnect [--raw] ipnumber portnumber\n",
      "    connects to a socket of a device over wifi\n",
      "\n",
      "%suppressendcode\n",
      "    doesn't send x04 or wait to read after sending the contents of the cell\n",
      "  (assists for debugging using %writebytes and %readbytes)\n",
      "\n",
      "%websocketconnect [--raw] [--password PASSWORD] [--verbose] [websocketurl]\n",
      "    connects to the webREPL websocket of an ESP8266 over wifi\n",
      "    websocketurl defaults to ws://192.168.4.1:8266 but be sure to be connected\n",
      "\n",
      "%writebytes [--binary] [--verbose] stringtosend\n",
      "    does serial.write() of the python quoted string given\n",
      "\n",
      "%%writefile [--append] [--execute] destinationfilename\n",
      "    write contents of cell to a file\n",
      "\n"
     ]
    }
   ],
   "source": [
    "%lsmagic"
   ]
  },
  {
   "cell_type": "code",
   "execution_count": 313,
   "metadata": {},
   "outputs": [
    {
     "name": "stdout",
     "output_type": "stream",
     "text": [
      "\u001b[34mattempt to exit paste mode\n",
      "\u001b[0m\u001b[34m[\\r\\x03\\x02] \u001b[0mb'\\r\\nMicroPython v1.14 on 2021-04-12; ESP32 module with ESP32\\r\\nType \"help()\" for more information.\\r\\n>>> '\u001b[34m\n",
      "Closing serial Serial<id=0x118649850, open=True>(port='/dev/tty.usbserial-02EDKZTP', baudrate=115200, bytesize=8, parity='N', stopbits=1, timeout=0.5, xonxoff=False, rtscts=False, dsrdtr=False)\n",
      "\u001b[0m"
     ]
    }
   ],
   "source": [
    "%disconnect"
   ]
  }
 ],
 "metadata": {
  "kernelspec": {
   "display_name": "MicroPython - USB",
   "language": "micropython",
   "name": "micropython"
  },
  "language_info": {
   "codemirror_mode": "python",
   "file_extension": ".py",
   "mimetype": "text/python",
   "name": "micropython"
  }
 },
 "nbformat": 4,
 "nbformat_minor": 4
}
