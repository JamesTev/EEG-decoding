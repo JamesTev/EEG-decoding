{
 "cells": [
  {
   "cell_type": "code",
   "execution_count": 243,
   "metadata": {},
   "outputs": [
    {
     "name": "stdout",
     "output_type": "stream",
     "text": [
      "\u001b[34mConnecting to --port=/dev/tty.usbserial-02EDKZTP --baud=115200 \u001b[0m\n",
      "MicroPython v1.14 on 2021-04-12; ESP32 module with ESP32\n",
      "Type \"help()\" for more information.\n",
      ">>>[reboot detected 0]repl is in normal command mode\n",
      "[\\r\\x03\\x03] b'\\r\\n>>> '\n",
      "[\\r\\x01] b'\\r\\n>>> \\r\\nraw REPL; CTRL-B to exit\\r\\n>' \u001b[34mReady.\n",
      "\u001b[0m"
     ]
    }
   ],
   "source": [
    "%serialconnect to --port=\"/dev/tty.usbserial-02EDKZTP\" --baud=115200"
   ]
  },
  {
   "cell_type": "code",
   "execution_count": 244,
   "metadata": {},
   "outputs": [],
   "source": [
    "# from ulab import numpy as np\n",
    "import machine\n",
    "from machine import Pin\n",
    "import utime\n",
    "\n",
    "led = Pin(5, Pin.OUT)\n",
    "\n",
    "for i in range(10):\n",
    "    led.value(not led.value())\n",
    "    utime.sleep(0.1)\n",
    "\n",
    "led.on()"
   ]
  },
  {
   "cell_type": "code",
   "execution_count": 231,
   "metadata": {},
   "outputs": [],
   "source": [
    "from lib.utils import connect_wifi\n",
    "\n",
    "connect_wifi()"
   ]
  },
  {
   "cell_type": "code",
   "execution_count": 274,
   "metadata": {},
   "outputs": [],
   "source": [
    "from lib.websockets import BasicServer\n",
    "from lib.scheduling import WsDataScheduler\n",
    "\n",
    "server = BasicServer()\n",
    "data_scheduler = WsDataScheduler(5, server)"
   ]
  },
  {
   "cell_type": "code",
   "execution_count": 275,
   "metadata": {},
   "outputs": [
    {
     "name": "stdout",
     "output_type": "stream",
     "text": [
      "Started WebSocket server.\n"
     ]
    }
   ],
   "source": [
    "data_scheduler.start()"
   ]
  },
  {
   "cell_type": "code",
   "execution_count": 273,
   "metadata": {},
   "outputs": [
    {
     "name": "stdout",
     "output_type": "stream",
     "text": [
      "Stopped WebSocket server.\n"
     ]
    }
   ],
   "source": [
    "data_scheduler.stop()"
   ]
  },
  {
   "cell_type": "code",
   "execution_count": 268,
   "metadata": {},
   "outputs": [
    {
     "name": "stdout",
     "output_type": "stream",
     "text": [
      "Sent 59 lines (1697 bytes) to /lib/scheduling.py.\n"
     ]
    }
   ],
   "source": [
    "# %sendtofile --source lib/scheduling.py /lib/scheduling.py"
   ]
  },
  {
   "cell_type": "code",
   "execution_count": 267,
   "metadata": {},
   "outputs": [
    {
     "name": "stdout",
     "output_type": "stream",
     "text": [
      "repl is in normal command mode\n",
      "[\\r\\x03\\x03] b'\\r\\nMicroPython v1.14 on 2021-04-12; ESP32 module with ESP32\\r\\nType \"help()\" for more information.\\r\\n>>> \\r\\n>>> \\r\\nMPY: soft reboot\\r\\nTraceback (most recent call last):\\r\\n  File \"main.py\", line 8, in <module>\\r\\nKeyboardInterrupt: \\r\\nMicroPython v1.14 on 2021-04-12; ESP32 module with ESP32\\r\\nType \"help()\" for more information.\\r\\n>>> \\r\\n>>> '\n",
      "[\\r\\x01] b'\\r\\n>>> \\r\\nraw REPL; CTRL-B to exit\\r\\n>'"
     ]
    }
   ],
   "source": [
    "%rebootdevice"
   ]
  },
  {
   "cell_type": "code",
   "execution_count": 33,
   "metadata": {},
   "outputs": [
    {
     "name": "stdout",
     "output_type": "stream",
     "text": [
      "import socket\n",
      "from uwebsocket import websocket\n",
      "import uselect\n",
      "\n",
      "\n",
      "class ClientClosedError(Exception):\n",
      "    pass\n",
      "\n",
      "\n",
      "class WebSocketConnection:\n",
      "    def __init__(self, addr, s, close_callback):\n",
      "        self.client_close = False\n",
      "        self._need_check = False\n",
      "\n",
      "        self.address = addr\n",
      "        self.socket = s\n",
      "        self.ws = websocket(s, True)\n",
      "        self.poll = uselect.poll()\n",
      "        self.close_callback = close_callback\n",
      "\n",
      "        self.socket.setblocking(False)\n",
      "        self.poll.register(self.socket, uselect.POLLIN)\n",
      "\n",
      "    def read(self):\n",
      "        poll_events = self.poll.poll(0)\n",
      "\n",
      "        if not poll_events:\n",
      "            return\n",
      "\n",
      "        # Check the flag for connection hung up\n",
      "        if poll_events[0][1] & uselect.POLLHUP:\n",
      "            self.client_close = True\n",
      "\n",
      "        msg_bytes = None\n",
      "        try:\n",
      "            msg_bytes = self.ws.read()\n",
      "        except OSError:\n",
      "            self.client_close = True\n",
      "\n",
      "        # If no bytes => connection closed. See the link below.\n",
      "        # http://stefan.buettcher.org/cs/conn_closed.html\n",
      "        if not msg_bytes or self.client_close:\n",
      "            raise ClientClosedError()\n",
      "\n",
      "        return msg_bytes\n",
      "\n",
      "    def write(self, msg):\n",
      "        try:\n",
      "            self.ws.write(msg)\n",
      "        except OSError:\n",
      "            self.client_close = True\n",
      "\n",
      "    def is_closed(self):\n",
      "        return self.socket is None\n",
      "\n",
      "    def close(self):\n",
      "        print(\"Closing connection.\")\n",
      "        self.poll.unregister(self.socket)\n",
      "        self.socket.close()\n",
      "        self.socket = None\n",
      "        self.ws = None\n",
      "        if self.close_callback:\n",
      "            self.close_callback(self)\n"
     ]
    }
   ],
   "source": [
    "%fetchfile --print /websocket/ws_connection.py"
   ]
  },
  {
   "cell_type": "code",
   "execution_count": 34,
   "metadata": {},
   "outputs": [
    {
     "name": "stdout",
     "output_type": "stream",
     "text": [
      "Listing directory 'websocket/'.\n",
      "             websocket//Multiserver/\n",
      "        0    websocket//__init__.py\n",
      "      467    websocket//test.html\n",
      "      921    websocket//websocket_demo.py\n",
      "     1578    websocket//ws_connection.py\n",
      "     3611    websocket//ws_server.py\n"
     ]
    }
   ],
   "source": [
    "%ls websocket/"
   ]
  },
  {
   "cell_type": "code",
   "execution_count": 20,
   "metadata": {},
   "outputs": [
    {
     "name": "stdout",
     "output_type": "stream",
     "text": [
      "%capture [--quiet] [--QUIET] outputfilename\n",
      "    records output to a file\n",
      "\n",
      "%comment\n",
      "    print this into output\n",
      "\n",
      "%disconnect [--raw]\n",
      "    disconnects from web/serial connection\n",
      "\n",
      "%esptool [--port PORT] {erase,esp32,esp8266} [binfile]\n",
      "    commands for flashing your esp-device\n",
      "\n",
      "%fetchfile [--binary] [--print] [--load] [--quiet] [--QUIET]\n",
      "                  sourcefilename [destinationfilename]\n",
      "    fetch and save a file from the device\n",
      "\n",
      "%ls [--recurse] [dirname]\n",
      "    list files on the device\n",
      "\n",
      "%lsmagic\n",
      "    list magic commands\n",
      "\n",
      "%mpy-cross [--set-exe SET_EXE] [pyfile]\n",
      "    cross-compile a .py file to a .mpy file\n",
      "\n",
      "%readbytes [--binary]\n",
      "    does serial.read_all()\n",
      "\n",
      "%rebootdevice\n",
      "    reboots device\n",
      "\n",
      "%sendtofile [--append] [--mkdir] [--binary] [--execute] [--source [SOURCE]] [--quiet]\n",
      "                   [--QUIET]\n",
      "                   [destinationfilename]\n",
      "    send cell contents or file/direcectory to the device\n",
      "\n",
      "%serialconnect [--raw] [--port PORT] [--baud BAUD] [--verbose]\n",
      "    connects to a device over USB wire\n",
      "\n",
      "%socketconnect [--raw] ipnumber portnumber\n",
      "    connects to a socket of a device over wifi\n",
      "\n",
      "%suppressendcode\n",
      "    doesn't send x04 or wait to read after sending the contents of the cell\n",
      "  (assists for debugging using %writebytes and %readbytes)\n",
      "\n",
      "%websocketconnect [--raw] [--password PASSWORD] [--verbose] [websocketurl]\n",
      "    connects to the webREPL websocket of an ESP8266 over wifi\n",
      "    websocketurl defaults to ws://192.168.4.1:8266 but be sure to be connected\n",
      "\n",
      "%writebytes [--binary] [--verbose] stringtosend\n",
      "    does serial.write() of the python quoted string given\n",
      "\n",
      "%%writefile [--append] [--execute] destinationfilename\n",
      "    write contents of cell to a file\n",
      "\n"
     ]
    }
   ],
   "source": [
    "%lsmagic"
   ]
  },
  {
   "cell_type": "code",
   "execution_count": 1,
   "metadata": {},
   "outputs": [],
   "source": [
    "%disconnect"
   ]
  },
  {
   "cell_type": "code",
   "execution_count": null,
   "metadata": {},
   "outputs": [],
   "source": []
  }
 ],
 "metadata": {
  "kernelspec": {
   "display_name": "MicroPython - USB",
   "language": "micropython",
   "name": "micropython"
  },
  "language_info": {
   "codemirror_mode": "python",
   "file_extension": ".py",
   "mimetype": "text/python",
   "name": "micropython"
  }
 },
 "nbformat": 4,
 "nbformat_minor": 4
}
