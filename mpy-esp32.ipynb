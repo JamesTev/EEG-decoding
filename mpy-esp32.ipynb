{
 "cells": [
  {
   "cell_type": "code",
   "execution_count": 1,
   "metadata": {},
   "outputs": [
    {
     "name": "stdout",
     "output_type": "stream",
     "text": [
      "\u001b[34mConnecting to --port=/dev/tty.usbserial-02EDKZTP --baud=115200 \u001b[0m\n",
      "MicroPython v1.14 on 2021-04-12; ESP32 module with ESP32\n",
      "Type \"help()\" for more information.\n",
      ">>>[reboot detected 0]repl is in normal command mode\n",
      "[\\r\\x03\\x03] b'\\r\\n>>> '\n",
      "[\\r\\x01] b'\\r\\n>>> \\r\\nraw REPL; CTRL-B to exit\\r\\n>' \u001b[34mReady.\n",
      "\u001b[0m"
     ]
    }
   ],
   "source": [
    "%serialconnect to --port=\"/dev/tty.usbserial-02EDKZTP\" --baud=115200"
   ]
  },
  {
   "cell_type": "code",
   "execution_count": 2,
   "metadata": {},
   "outputs": [],
   "source": [
    "from ulab import numpy as np\n",
    "import machine\n",
    "from machine import Pin, PWM"
   ]
  },
  {
   "cell_type": "code",
   "execution_count": 3,
   "metadata": {},
   "outputs": [],
   "source": [
    "import utime\n",
    "\n",
    "led = Pin(22, Pin.OUT)\n",
    "\n",
    "for i in range(10):\n",
    "    led.on()\n",
    "    utime.sleep(0.1)\n",
    "    led.off()\n",
    "    utime.sleep(0.1)"
   ]
  },
  {
   "cell_type": "code",
   "execution_count": 4,
   "metadata": {},
   "outputs": [],
   "source": [
    "# X correlation matrix\n",
    "Cxx = np.array([[166.14279703,  99.48821575,  24.11370662, -33.37944544],\n",
    "       [ 99.48821575, 166.12703417,  90.66107192,  71.18545196],\n",
    "       [ 24.11370662,  90.66107192, 166.83747439,  66.71419887],\n",
    "       [-33.37944544,  71.18545196,  66.71419887, 166.71542984]])\n",
    "\n",
    "# Y correlation matrix\n",
    "Cyy = np.array([[167.        ,   0.43605292,   1.06028619,  -0.1970634 ],\n",
    "       [  0.43605292, 167.        ,   0.41206453,  -0.69571169],\n",
    "       [  1.06028619,   0.41206453, 167.        ,  -5.19137319],\n",
    "       [ -0.1970634 ,  -0.69571169,  -5.19137319, 167.        ]])\n",
    "\n",
    "# XY cross-correlation matrix\n",
    "Cxy = np.array([[18.49359001, -0.09579883, -1.47948752,  5.81688046],\n",
    "       [ 9.60223537,  7.45818488, -1.80016572,  7.20337205],\n",
    "       [17.57176942, -8.21102309, -0.50311062,  1.26140711],\n",
    "       [-4.71848465, 15.03455974, -0.45756603,  1.86271787]])"
   ]
  },
  {
   "cell_type": "code",
   "execution_count": 5,
   "metadata": {},
   "outputs": [
    {
     "name": "stdout",
     "output_type": "stream",
     "text": [
      "array([[0.01751957, 0.009391238, 0.01634465, -0.004151698],\n",
      "       [-0.01062538, -0.001212584, -0.01466249, 0.009756293],\n",
      "       [0.0156384, 0.001652602, 0.02181821, -0.01627565],\n",
      "       [-0.001002286, 0.004650325, -0.00654409, 0.010586]], dtype=float32)\n"
     ]
    }
   ],
   "source": [
    "M1 = np.dot(np.linalg.inv(Cxx), Cxy)\n",
    "M2 = np.dot(np.linalg.inv(Cyy), Cxy.transpose())\n",
    "M = np.dot(M1, M2)\n",
    "print(M)"
   ]
  },
  {
   "cell_type": "code",
   "execution_count": null,
   "metadata": {},
   "outputs": [],
   "source": []
  },
  {
   "cell_type": "code",
   "execution_count": 7,
   "metadata": {},
   "outputs": [
    {
     "name": "stdout",
     "output_type": "stream",
     "text": [
      "array([[0.1111172, -0.0004105715, -0.007796702, 0.03493855],\n",
      "       [-0.01111094, 0.05647156, -0.005986812, 0.027902],\n",
      "       [0.1184806, -0.1007652, 0.002194773, -0.016655],\n",
      "       [-0.005966277, 0.08029782, 4.725839e-05, -0.0001810153]], dtype=float32)\n"
     ]
    }
   ],
   "source": [
    "Cxx_isqrt = np.linalg.inv(np.linalg.cholesky(Cxx))\n",
    "Cyy_isqrt = np.linalg.inv(np.linalg.cholesky(Cyy))\n",
    "Omega = np.dot(np.dot(Cxx_isqrt, Cxy), Cyy_isqrt)\n",
    "\n",
    "print(Omega)"
   ]
  },
  {
   "cell_type": "code",
   "execution_count": 8,
   "metadata": {},
   "outputs": [
    {
     "name": "stdout",
     "output_type": "stream",
     "text": [
      "(array([0.01113427, 2.507131e-07, 0.03670151, 0.0008763761], dtype=float32), array([[0.7310294, -0.4112509, 0.455054, -0.298989],\n",
      "       [0.4303756, 0.7863671, -0.2297222, -0.3789873],\n",
      "       [-0.1077175, 0.4604145, 0.812761, 0.3403455],\n",
      "       [0.5184302, 0.02275724, -0.2820871, 0.806932]], dtype=float32))\n"
     ]
    }
   ],
   "source": [
    "print(np.linalg.eig(np.dot(Omega, Omega.transpose())))\n"
   ]
  },
  {
   "cell_type": "code",
   "execution_count": null,
   "metadata": {},
   "outputs": [],
   "source": []
  },
  {
   "cell_type": "code",
   "execution_count": 20,
   "metadata": {},
   "outputs": [
    {
     "name": "stdout",
     "output_type": "stream",
     "text": [
      "%capture [--quiet] [--QUIET] outputfilename\n",
      "    records output to a file\n",
      "\n",
      "%comment\n",
      "    print this into output\n",
      "\n",
      "%disconnect [--raw]\n",
      "    disconnects from web/serial connection\n",
      "\n",
      "%esptool [--port PORT] {erase,esp32,esp8266} [binfile]\n",
      "    commands for flashing your esp-device\n",
      "\n",
      "%fetchfile [--binary] [--print] [--load] [--quiet] [--QUIET]\n",
      "                  sourcefilename [destinationfilename]\n",
      "    fetch and save a file from the device\n",
      "\n",
      "%ls [--recurse] [dirname]\n",
      "    list files on the device\n",
      "\n",
      "%lsmagic\n",
      "    list magic commands\n",
      "\n",
      "%mpy-cross [--set-exe SET_EXE] [pyfile]\n",
      "    cross-compile a .py file to a .mpy file\n",
      "\n",
      "%readbytes [--binary]\n",
      "    does serial.read_all()\n",
      "\n",
      "%rebootdevice\n",
      "    reboots device\n",
      "\n",
      "%sendtofile [--append] [--mkdir] [--binary] [--execute] [--source [SOURCE]] [--quiet]\n",
      "                   [--QUIET]\n",
      "                   [destinationfilename]\n",
      "    send cell contents or file/direcectory to the device\n",
      "\n",
      "%serialconnect [--raw] [--port PORT] [--baud BAUD] [--verbose]\n",
      "    connects to a device over USB wire\n",
      "\n",
      "%socketconnect [--raw] ipnumber portnumber\n",
      "    connects to a socket of a device over wifi\n",
      "\n",
      "%suppressendcode\n",
      "    doesn't send x04 or wait to read after sending the contents of the cell\n",
      "  (assists for debugging using %writebytes and %readbytes)\n",
      "\n",
      "%websocketconnect [--raw] [--password PASSWORD] [--verbose] [websocketurl]\n",
      "    connects to the webREPL websocket of an ESP8266 over wifi\n",
      "    websocketurl defaults to ws://192.168.4.1:8266 but be sure to be connected\n",
      "\n",
      "%writebytes [--binary] [--verbose] stringtosend\n",
      "    does serial.write() of the python quoted string given\n",
      "\n",
      "%%writefile [--append] [--execute] destinationfilename\n",
      "    write contents of cell to a file\n",
      "\n"
     ]
    }
   ],
   "source": [
    "%lsmagic"
   ]
  },
  {
   "cell_type": "code",
   "execution_count": null,
   "metadata": {},
   "outputs": [],
   "source": []
  }
 ],
 "metadata": {
  "kernelspec": {
   "display_name": "MicroPython - USB",
   "language": "micropython",
   "name": "micropython"
  },
  "language_info": {
   "codemirror_mode": "python",
   "file_extension": ".py",
   "mimetype": "text/python",
   "name": "micropython"
  }
 },
 "nbformat": 4,
 "nbformat_minor": 4
}
