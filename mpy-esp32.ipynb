{
 "cells": [
  {
   "cell_type": "code",
   "execution_count": 29,
   "metadata": {},
   "outputs": [
    {
     "name": "stdout",
     "output_type": "stream",
     "text": [
      "repl is in normal command mode\n",
      "[\\r\\x03\\x03] b'\\r\\nMicroPython v1.15-222-g8edc3aacd-dirty on 2021-07-17; ESP32 module with ESP32\\r\\nType \"help()\" for more information.\\r\\n>>> \\r\\n>>> \\r\\nMPY: soft reboot\\r\\nMicroPython v1.15-222-g8edc3aacd-dirty on 2021-07-17; ESP32 module with ESP32\\r\\nType \"help()\" for more information.\\r\\n>>> \\r\\n>>> \\r\\n>>> '\n",
      "[\\r\\x01] b'\\r\\n>>> \\r\\nraw REPL; CTRL-B to exit\\r\\n>'"
     ]
    }
   ],
   "source": [
    "%rebootdevice"
   ]
  },
  {
   "cell_type": "code",
   "execution_count": 1,
   "metadata": {},
   "outputs": [
    {
     "name": "stdout",
     "output_type": "stream",
     "text": [
      "\u001b[34mConnecting to --port=/dev/tty.usbserial-02EDKZTP --baud=115200 \u001b[0m\n",
      "MicroPython v1.15-222-g8edc3aacd-dirty on 2021-07-17; ESP32 module with ESP32\n",
      "Type \"help()\" for more information.\n",
      ">>>[reboot detected 0]repl is in normal command mode\n",
      "[\\r\\x03\\x03] b'\\r\\n>>> '\n",
      "[\\r\\x01] b'\\r\\n>>> \\r\\nraw REPL; CTRL-B to exit\\r\\n>' \u001b[34mReady.\n",
      "\u001b[0m"
     ]
    }
   ],
   "source": [
    "%serialconnect to --port=\"/dev/tty.usbserial-02EDKZTP\" --baud=115200\n",
    "\n",
    "# %serialconnect to --port=\"/dev/tty.usbserial-02U1W54L\" --baud=115200\n",
    "\n",
    "# %serialconnect to --port=\"/dev/tty.usbserial-0001\" --baud=115200\n"
   ]
  },
  {
   "cell_type": "code",
   "execution_count": 5,
   "metadata": {},
   "outputs": [],
   "source": [
    "from ulab import numpy as np\n",
    "# import machine\n",
    "# from machine import Pin"
   ]
  },
  {
   "cell_type": "code",
   "execution_count": 11,
   "metadata": {},
   "outputs": [],
   "source": [
    "from ulab import scipy as spy\n",
    "\n",
    "x = np.array([0, 1, 2, 3, 4, 5, 6, 7, 8, 9])\n",
    "\n",
    "sos = np.array([[ 2.33735320e-03,  1.14276495e-03,  2.33735320e-03,\n",
    "         1.00000000e+00, -1.66007862e+00,  7.84212717e-01],\n",
    "       [ 1.00000000e+00, -1.12157259e+00,  1.00000000e+00,\n",
    "         1.00000000e+00, -1.56060243e+00,  8.47127269e-01],\n",
    "       [ 1.00000000e+00, -1.99924978e+00,  1.00000000e+00,\n",
    "         1.00000000e+00, -1.85367861e+00,  8.85737239e-01],\n",
    "       [ 1.00000000e+00, -1.39634866e+00,  1.00000000e+00,\n",
    "         1.00000000e+00, -1.53107779e+00,  9.32994854e-01],\n",
    "       [ 1.00000000e+00, -1.99561284e+00,  1.00000000e+00,\n",
    "         1.00000000e+00, -1.94893224e+00,  9.63308997e-01],\n",
    "       [ 1.00000000e+00, -1.46127625e+00,  1.00000000e+00,\n",
    "         1.00000000e+00, -1.53065680e+00,  9.82583511e-01],\n",
    "       [ 1.00000000e+00, -1.99305833e+00,  1.00000000e+00,\n",
    "         1.00000000e+00, -1.97781492e+00,  9.88377176e-01],\n",
    "       [ 1.00000000e+00, -1.99207496e+00,  1.00000000e+00,\n",
    "         1.00000000e+00, -1.98772843e+00,  9.97300457e-01]])\n",
    "\n",
    "fs = 256\n",
    "t = np.arange(0, 0.2*np.pi, 1/fs)\n",
    "t_ds = t[::5] # downsample by factor of 5 -> 50Hz\n",
    "f0 = 10\n",
    "\n",
    "arg =t*2*np.pi\n",
    "y = np.sin(arg*8)*0.5 + np.sin(arg*100)*0.9+np.sin(arg*1)*0.2+np.sin(arg*50)*0.7\n",
    "y_true = np.sin(arg*8)*0.5\n",
    "y_sos = spy.signal.sosfilt(sos, y)"
   ]
  },
  {
   "cell_type": "code",
   "execution_count": 2,
   "metadata": {},
   "outputs": [
    {
     "name": "stdout",
     "output_type": "stream",
     "text": [
      "Sent 146 lines (4965 bytes) to lib/peripherals.py.\n"
     ]
    }
   ],
   "source": [
    "%sendtofile lib/peripherals.py --source lib/peripherals.py"
   ]
  },
  {
   "cell_type": "code",
   "execution_count": 13,
   "metadata": {},
   "outputs": [
    {
     "name": "stdout",
     "output_type": "stream",
     "text": [
      "Sent 96 lines (2804 bytes) to lib/core.py.\n"
     ]
    }
   ],
   "source": [
    "%sendtofile lib/core.py --source lib/core.py"
   ]
  },
  {
   "cell_type": "code",
   "execution_count": 17,
   "metadata": {},
   "outputs": [
    {
     "name": "stdout",
     "output_type": "stream",
     "text": [
      "stack: 736 out of 15360\n",
      "GC: total: 111168, used: 2448, free: 108720\n",
      " No. of 1-blocks: 15, 2-blocks: 8, max blk sz: 47, max free sz: 6614\n",
      "-----------------------------\n",
      "Initial free: 108720 allocated: 2448\n",
      "Func definition: 108608 allocated: 2560\n",
      "Func run free: 108480 allocated: 2688\n",
      "Garbage collect free: 108608 allocated: 2560\n",
      "-----------------------------\n"
     ]
    }
   ],
   "source": [
    "# see https://docs.micropython.org/en/latest/reference/constrained.html\n",
    "\n",
    "import gc\n",
    "import micropython\n",
    "\n",
    "gc.enable()\n",
    "\n",
    "gc.collect()\n",
    "micropython.mem_info()\n",
    "print('-----------------------------')\n",
    "print('Initial free: {} allocated: {}'.format(gc.mem_free(), gc.mem_alloc()))\n",
    "def func():\n",
    "    return\n",
    "    with open('xy.json') as f:\n",
    "        data = json.load(f)\n",
    "        del data\n",
    "gc.collect()\n",
    "print('Func definition: {} allocated: {}'.format(gc.mem_free(), gc.mem_alloc()))\n",
    "func()\n",
    "print('Func run free: {} allocated: {}'.format(gc.mem_free(), gc.mem_alloc()))\n",
    "gc.collect()\n",
    "print('Garbage collect free: {} allocated: {}'.format(gc.mem_free(), gc.mem_alloc()))\n",
    "print('-----------------------------')\n",
    "# micropython.mem_info(1)"
   ]
  },
  {
   "cell_type": "code",
   "execution_count": 15,
   "metadata": {},
   "outputs": [
    {
     "name": "stdout",
     "output_type": "stream",
     "text": [
      "ADC initialised\n",
      "SPI initialised\n",
      "DigiPot set to minimum gain (1.8)\n"
     ]
    }
   ],
   "source": [
    "from lib.core import initialise, run\n",
    "gc.collect()\n",
    "initialise(offline=True)\n",
    "gc.collect()"
   ]
  },
  {
   "cell_type": "code",
   "execution_count": 16,
   "metadata": {},
   "outputs": [
    {
     "name": "stdout",
     "output_type": "stream",
     "text": [
      "{12: 0.0463, 10: 0.0474, 7: 0.0515}\n",
      ".{12: 0.0107, 10: 0.08450000000000001, 7: 0.0277}\n",
      "{12: 0.0239, 10: 0.0356, 7: 0.0185}\n",
      ".{12: 0.0359, 10: 0.0212, 7: 0.0396}\n",
      "{12: 0.0268, 10: 0.0341, 7: 0.0253}\n",
      ".{12: 0.0344, 10: 0.05609999999999999, 7: 0.0266}\n",
      "{12: 0.0329, 10: 0.0235, 7: 0.0368}\n",
      ".{12: 0.0204, 10: 0.0533, 7: 0.0319}\n",
      "{12: 0.0395, 10: 0.0241, 7: 0.0246}\n",
      ".{12: 0.0325, 10: 0.0357, 7: 0.0433}\n",
      "{12: 0.07889999999999999, 10: 0.023, 7: 0.0155}\n",
      ".{12: 0.03359999999999999, 10: 0.0394, 7: 0.0212}\n",
      "{12: 0.0438, 10: 0.0832, 7: 0.0277}\n",
      ".{12: 0.0304, 10: 0.07090000000000001, 7: 0.0231}\n",
      "{12: 0.0338, 10: 0.07290000000000001, 7: 0.0279}\n",
      ".{12: 0.04, 10: 0.0426, 7: 0.0151}\n",
      "{12: 0.0263, 10: 0.05739999999999999, 7: 0.0228}\n",
      ".{12: 0.0243, 10: 0.0274, 7: 0.0129}\n",
      "{12: 0.0257, 10: 0.06109999999999999, 7: 0.0222}\n",
      ".{12: 0.0183, 10: 0.0536, 7: 0.0344}\n",
      "{12: 0.0205, 10: 0.0782, 7: 0.0366}\n",
      ".{12: 0.0383, 10: 0.04, 7: 0.033}\n",
      "{12: 0.0228, 10: 0.0659, 7: 0.0291}\n",
      ".{12: 0.0455, 10: 0.0536, 7: 0.011}\n",
      "{12: 0.0429, 10: 0.0515, 7: 0.027}\n",
      ".{12: 0.0241, 10: 0.0614, 7: 0.0314}\n",
      "{12: 0.0378, 10: 0.08359999999999999, 7: 0.0124}\n",
      ".{12: 0.036, 10: 0.0542, 7: 0.027}\n",
      "{12: 0.0717, 10: 0.054, 7: 0.0349}\n",
      ".{12: 0.0458, 10: 0.0619, 7: 0.021}\n",
      "{12: 0.0165, 10: 0.0402, 7: 0.0124}\n",
      ".{12: 0.0245, 10: 0.0501, 7: 0.0141}\n",
      "{12: 0.0265, 10: 0.0365, 7: 0.0119}\n",
      ".{12: 0.0123, 10: 0.0515, 7: 0.04100000000000001}\n",
      "{12: 0.019, 10: 0.0367, 7: 0.0369}\n",
      ".{12: 0.0312, 10: 0.0441, 7: 0.0193}\n",
      "{12: 0.0241, 10: 0.0451, 7: 0.0246}\n",
      ".{12: 0.0283, 10: 0.05469999999999999, 7: 0.013}\n",
      "{12: 0.0187, 10: 0.0253, 7: 0.0173}\n",
      ".{12: 0.0345, 10: 0.0305, 7: 0.0274}\n",
      "{12: 0.039, 10: 0.0226, 7: 0.019}\n",
      ".{12: 0.0421, 10: 0.051, 7: 0.0303}\n",
      "{12: 0.06029999999999999, 10: 0.0615, 7: 0.0341}\n",
      ".{12: 0.0139, 10: 0.0748, 7: 0.0466}\n",
      "{12: 0.0409, 10: 0.05600000000000001, 7: 0.0156}\n",
      ".{12: 0.0183, 10: 0.05300000000000001, 7: 0.0286}\n",
      "{12: 0.0379, 10: 0.1037, 7: 0.0195}\n",
      ".{12: 0.0318, 10: 0.0634, 7: 0.0338}\n",
      "{12: 0.0195, 10: 0.06930000000000001, 7: 0.0382}\n",
      ".{12: 0.02149999999999999, 10: 0.0496, 7: 0.0203}\n",
      "{12: 0.0382, 10: 0.0552, 7: 0.0171}\n",
      ".{12: 0.04880000000000001, 10: 0.0276, 7: 0.0207}\n",
      "{12: 0.0366, 10: 0.0279, 7: 0.0152}\n",
      ".{12: 0.05430000000000001, 10: 0.0435, 7: 0.0273}\n",
      "{12: 0.0274, 10: 0.0451, 7: 0.03160000000000001}\n",
      ".{12: 0.0396, 10: 0.0254, 7: 0.0396}\n",
      "{12: 0.0304, 10: 0.04449999999999999, 7: 0.0295}\n",
      ".{12: 0.0349, 10: 0.0467, 7: 0.0139}\n",
      "{12: 0.0199, 10: 0.0656, 7: 0.0155}\n",
      ".{12: 0.0406, 10: 0.0415, 7: 0.0161}\n",
      "{12: 0.034, 10: 0.0368, 7: 0.0178}\n",
      ".{12: 0.0257, 10: 0.0378, 7: 0.0176}\n",
      "{12: 0.0216, 10: 0.0353, 7: 0.0166}\n",
      ".{12: 0.0359, 10: 0.0265, 7: 0.0275}\n",
      "{12: 0.0231, 10: 0.05620000000000001, 7: 0.0314}\n",
      ".{12: 0.0396, 10: 0.022, 7: 0.0379}\n",
      "{12: 0.0496, 10: 0.0418, 7: 0.0167}\n",
      ".{12: 0.0138, 10: 0.0299, 7: 0.021}\n",
      "{12: 0.0172, 10: 0.0776, 7: 0.024}\n",
      ".{12: 0.0194, 10: 0.0487, 7: 0.0138}\n",
      "{12: 0.0208, 10: 0.04100000000000001, 7: 0.0208}\n",
      ".{12: 0.0248, 10: 0.0281, 7: 0.0122}\n",
      "{12: 0.02149999999999999, 10: 0.0323, 7: 0.0086}\n",
      ".{12: 0.0279, 10: 0.051, 7: 0.017}\n",
      "{12: 0.0195, 10: 0.05869999999999999, 7: 0.0302}\n",
      ".{12: 0.0266, 10: 0.0429, 7: 0.04760000000000001}\n",
      "{12: 0.0345, 10: 0.0265, 7: 0.0416}\n",
      ".{12: 0.0243, 10: 0.048, 7: 0.0394}\n",
      "{12: 0.0361, 10: 0.0289, 7: 0.0483}\n",
      ".{12: 0.0382, 10: 0.034, 7: 0.05430000000000001}\n",
      "\u001b[34m\n",
      "\n",
      "*** Sending Ctrl-C\n",
      "\n",
      "\u001b[0m"
     ]
    }
   ],
   "source": [
    "gc.collect()\n",
    "run()"
   ]
  },
  {
   "cell_type": "code",
   "execution_count": 59,
   "metadata": {},
   "outputs": [
    {
     "name": "stdout",
     "output_type": "stream",
     "text": [
      "stack: 736 out of 15360\n",
      "GC: total: 111168, used: 45344, free: 65824\n",
      " No. of 1-blocks: 389, 2-blocks: 87, max blk sz: 125, max free sz: 2250\n",
      "GC memory layout; from 3ffe4db0:\n",
      "00000: MDThhBMh=Dh==h=Thh=================Th=======h=======h=hh===h=Fh=\n",
      "00400: h=h=h=====DFhMDSBMDhTh=========hMB..h...hLh===hLFhhLhhhhhLLMDShL\n",
      "00800: FFh=hBhhLh======hh=====hLFhLhhh=hhLLhh=h==TLFFh===.h==.h====..h=\n",
      "00c00: =...hS....h.hh=======.........h=======h========h=======h=======S\n",
      "01000: h==========h==========h=======.............h====================\n",
      "01400: h=.h===h.h=h.h=h.hS.h=h===h===h===hh===S.hhh.hh.hS.Fh===========\n",
      "01800: =========hh====h.h=ShS...h==.h=h======h=======h==============Sh=\n",
      "01c00: hhh=hh.hh.h==h.h====hhSh=======h==hh.h=hh==hh...D.BB.h=h........\n",
      "02000: .h=h...................h=h....h=hh=======.h===h.h===h.h=h.hh....\n",
      "02400: L.h==h=.h==h.........................h============h======h===h==\n",
      "02800: ===h=====.....h===h=.h==h.h==h.h===h.h===h...MD.D...............\n",
      "02c00: ..........................h=======..............................\n",
      "03000: ................................................................\n",
      "03400: ......................Fh=h.h=h=h==hh.h====................h=h===\n",
      "03800: ====.................h=h=======..B................h=h=======.B=.\n",
      "03c00: DhBB=h====h======BBBB=BBh.h===h===.....h=h===.DhB.B=hBBhBh...h==\n",
      "04000: =h===h=====Dh=MD.....................h==h.h====h.h=======h======\n",
      "04400: hh=ShS.h======hh==S..BDBh==h=Dh.DDh.MD.MB..B=BBhBBBBBBBBB.B=.B=h\n",
      "04800: ===h========h=====D.......................................h=hh==\n",
      "04c00: hh.h=h.h======hh=======hShS.h=hh=S.h=====h=hShShSh=S...B=BD.....\n",
      "05000: ......................h=======.............h====================\n",
      "05400: ====================...h=======h=======h==h===h.h===h.hh.h====h=\n",
      "05800: .h=================================h=h==ShShS.h==hhS.h=hhS.h====\n",
      "05c00: =================h=hShS.h============h=h=ShS.h==================\n",
      "06000: hhShShS.h=h...Dh..S.h===.DBD..B==B.B.B=B=B.B=B.B=BBh===Shh======\n",
      "06400: ==h===h======....MD.....B=B.B=.................................h\n",
      "06800: ===........hS........hSSh=h=====================================\n",
      "06c00: ================================================================\n",
      "07000: =======================......................................h==\n",
      "07400: ================================================================\n",
      "07800: ===========SShh=================================================\n",
      "07c00: ================================================================\n",
      "08000: ===========.....................................................\n",
      "08400: .........................................h======================\n",
      "08800: ================================================================\n",
      "08c00: ====================SSh.........hS..S....hShh===h=====.hBh.h.DD.\n",
      "09000: ...................Dh========....h========F.....................\n",
      "09400: .....h=======...h===========h.F.h..h=======hhh=h=hh=h===========\n",
      "09800: h=====.hShh=========h===.h==h.h======h.h========h=h==Sh==S.h====\n",
      "09c00: ==hh==Sh==S.h=h...BB=.B=B=B.B=BB.B=.B=B.B=h========MD.B=........\n",
      "0a000: ..h===========h======hhh..............................h==h===h==\n",
      "0a400: =h=====..T=h=======MD....Dh=.D.Dh.h===.Dh.h===hhh.B=BBB.Bh==h===\n",
      "0a800: DBBBBBh==========.B=Bh.DBBBBh===Bh====BBBhhh=hDDB..BBBBBBBh===.B\n",
      "0ac00: =h=====h==============h====Lhh.Bh=B=hhB....h==============......\n",
      "0b000: .......................h===SSh........hS........hSSh=h==========\n",
      "0b400: ================================================================\n",
      "0b800: ==================================================..............\n",
      "0bc00: ........................h=======================================\n",
      "0c000: ======================================SShh======================\n",
      "0c400: ================================================================\n",
      "0c800: ======================================..........................\n",
      "0cc00: ................................................................\n",
      "0d000: ....h===========================================================\n",
      "0d400: ===============================================SSh..h......hS..S\n",
      "0d800: ....hShh===..h.Dh==.................h=S..h..............h=======\n",
      "0dc00: =...............h==================h============================\n",
      "0e000: ================================================================\n",
      "0e400: ================================h===============================\n",
      "0e800: ================================================================\n",
      "0ec00: =============================...................................\n",
      "       (34 lines all free)\n",
      "17800: .......................................h========================\n",
      "17c00: ================================================================\n",
      "18000: ====================================............................\n",
      "       (11 lines all free)\n",
      "1b000: ....................................\n",
      "None\n"
     ]
    }
   ],
   "source": [
    "import micropython\n",
    "print(micropython.mem_info(1))"
   ]
  },
  {
   "cell_type": "code",
   "execution_count": 36,
   "metadata": {},
   "outputs": [],
   "source": [
    "from lib.scheduling import LedFlasher\n",
    "\n",
    "green_led = Pin(5, Pin.OUT)\n",
    "flasher = LedFlasher(0, 5, green_led)\n",
    "flasher.start()"
   ]
  },
  {
   "cell_type": "code",
   "execution_count": 37,
   "metadata": {},
   "outputs": [],
   "source": [
    "flasher.stop()"
   ]
  },
  {
   "cell_type": "code",
   "execution_count": 134,
   "metadata": {},
   "outputs": [],
   "source": [
    "import urandom\n",
    "\n",
    "def synth_x(f, Ns, noise_power=0.5, fs=250):\n",
    "    \"\"\"\n",
    "    generate a synthetic signal vector\n",
    "    \n",
    "    args:\n",
    "    Ns [int]: number of samples (time samples)\n",
    "    noise_power [float]: variance of WGN noise distribution\n",
    "    \"\"\"\n",
    "    t = np.arange(0, Ns/fs, 1/fs)\n",
    "    return np.sin(t*2*np.pi*f)*(1+urandom.random()*noise_power)\n",
    "\n",
    "def synth_X(f, Nc, Ns, noise_power=0.5, fs=200, f_std=0.02, noise_std=0.2):\n",
    "    \"\"\"\n",
    "    Generate a matrix of several variations of the same target signal. This is used\n",
    "    to simulate the measurement of a common signal over multiple EEG channels \n",
    "    that have different SNR characteristics.\n",
    "    \n",
    "    args:\n",
    "    f [float]: target frequency of synthetic signal (Hz)\n",
    "    Nc [int]: number of channels\n",
    "    Ns [int]: number of samples (time samples)\n",
    "    noise_power [float]: variance of WGN noise distribution\n",
    "    fs [float]: sampling frequency (Hz)\n",
    "    f_std [float]: standard dev. of freq. in generated signal across channels to simulate interference from other frequency components over different channels\n",
    "    noise_std [float]: standard dev. of noise across channels\n",
    "    \"\"\"\n",
    "    X = []\n",
    "    for i in range(Nc): # simulate noisy sinusoids with varying SNR across Nc channels\n",
    "        f_i = f*(1+urandom.random()*0.1)\n",
    "        x = synth_x(f_i, Ns, noise_power=0)\n",
    "\n",
    "        X.append(x)\n",
    "        \n",
    "    return np.array(X)\n",
    "\n",
    "def harmonic_reference(f0, fs, Ns, Nh=2, standardise_out=False):\n",
    "    \n",
    "    '''\n",
    "    Generate reference signals for canonical correlation analysis (CCA)\n",
    "    -based steady-state visual evoked potentials (SSVEPs) detection [1, 2].\n",
    "    function [ y_ref ] = cca_reference(listFreq, fs,  Ns, Nh) \n",
    "    Input:\n",
    "      f0        : stimulus frequency\n",
    "      fs              : Sampling frequency\n",
    "      Ns              : # of samples in trial\n",
    "      Nh          : # of harmonics\n",
    "    Output:\n",
    "      y_ref           : Generated reference signals with shape (Nf, Ns, 2*Nh)\n",
    "    '''  \n",
    "\n",
    "    tidx = np.arange(1,Ns+1)*(1/fs) #time index\n",
    "    \n",
    "    tmp = []\n",
    "    for harm_i in range(1,Nh+1):\n",
    "        # Sin and Cos\n",
    "        s = np.sin(tidx*2*np.pi*harm_i*f0)\n",
    "        tmp.extend([s,\n",
    "                    np.cos(tidx*2*np.pi*harm_i*f0)])\n",
    "    y_ref = np.array(tmp)\n",
    "    if standardise_out: # zero mean, unit std. dev\n",
    "        return standardise(y_ref)\n",
    "    return y_ref"
   ]
  },
  {
   "cell_type": "code",
   "execution_count": 187,
   "metadata": {},
   "outputs": [
    {
     "name": "stdout",
     "output_type": "stream",
     "text": [
      "{10: array([1.0], dtype=float64), 7: array([0.1521154798735567], dtype=float64)}\n"
     ]
    }
   ],
   "source": [
    "stim_freqs = [7, 10]\n",
    "fs = 250\n",
    "\n",
    "gc.collect()\n",
    "\n",
    "def tmp():\n",
    "    x = synth_x(10, 200)\n",
    "    x = x.reshape((1, len(x)))\n",
    "\n",
    "    cca = CCA(stim_freqs, fs)\n",
    "    result = cca.compute_corr(x)\n",
    "    return result\n",
    "\n",
    "result = tmp()\n",
    "print(result)"
   ]
  },
  {
   "cell_type": "code",
   "execution_count": 182,
   "metadata": {},
   "outputs": [
    {
     "name": "stdout",
     "output_type": "stream",
     "text": [
      "array([[3.0, 4.0, 5.0]], dtype=float64)\n"
     ]
    }
   ],
   "source": [
    "x = [3,4,5]\n",
    "x = np.array(x).reshape((1, len(x)))\n",
    "print(x)"
   ]
  },
  {
   "cell_type": "code",
   "execution_count": 20,
   "metadata": {},
   "outputs": [],
   "source": [
    "def solve_qr(A, iterations=30):\n",
    "\n",
    "    Ak = A\n",
    "    Q_bar = np.eye(len(Ak))\n",
    "\n",
    "    for k in range(iterations):\n",
    "        Qk, Rk = np.linalg.qr(Ak)\n",
    "        Ak = np.dot(Rk, Qk)\n",
    "        Q_bar = np.dot(Q_bar, Qk)\n",
    "\n",
    "    lam = np.diag(Ak)\n",
    "    return lam, Q_bar"
   ]
  },
  {
   "cell_type": "code",
   "execution_count": 95,
   "metadata": {},
   "outputs": [
    {
     "name": "stdout",
     "output_type": "stream",
     "text": [
      "(4, 50) (2, 50)\n"
     ]
    }
   ],
   "source": [
    "import gc\n",
    "\n",
    "gc.collect()\n",
    "\n",
    "Ns = 50\n",
    "\n",
    "X = synth_X(7, 4, Ns, noise_power=0.2, f_std=0.04)\n",
    "Y = harmonic_reference(12, 250, Ns, Nh=1)\n",
    "\n",
    "# X = X.T\n",
    "# Y = Y.T\n",
    "\n",
    "print(X.shape(), Y.shape())"
   ]
  },
  {
   "cell_type": "code",
   "execution_count": 18,
   "metadata": {},
   "outputs": [],
   "source": [
    "Cxx = np.dot(X, X.transpose()) # auto correlation matrix\n",
    "Cyy = np.dot(Y, Y.transpose()) \n",
    "Cxy = np.dot(X, Y.transpose()) # cross correlation matrix\n",
    "Cyx = np.dot(Y, X.transpose()) # same as Cxy.T\n",
    "\n",
    "M1 = np.dot(np.linalg.inv(Cxx), Cxy) # intermediate result\n",
    "M2 = np.dot(np.linalg.inv(Cyy), Cyx)\n",
    "M = np.dot(M1, M2)"
   ]
  },
  {
   "cell_type": "code",
   "execution_count": 21,
   "metadata": {},
   "outputs": [
    {
     "name": "stdout",
     "output_type": "stream",
     "text": [
      "array([0.2094223883303393, 0.09026236148649224, 0.05508118227979756, 0.004485854551801153], dtype=float64)\n"
     ]
    }
   ],
   "source": [
    "lam, V = solve_qr(M, iterations=100)\n",
    "print(np.sqrt(lam))"
   ]
  },
  {
   "cell_type": "code",
   "execution_count": 108,
   "metadata": {},
   "outputs": [],
   "source": [
    "import ujson as json\n",
    "\n",
    "with open('data.json', 'w') as jsonfile:\n",
    "    json.dump(X, jsonfile)"
   ]
  },
  {
   "cell_type": "code",
   "execution_count": 6,
   "metadata": {},
   "outputs": [],
   "source": [
    "import ujson as json\n",
    "\n",
    "with open('xy.json') as f:\n",
    "    data = json.load(f)"
   ]
  },
  {
   "cell_type": "code",
   "execution_count": 11,
   "metadata": {},
   "outputs": [],
   "source": [
    "X = np.array(data['X'])\n",
    "Y = np.array(data['Y'])"
   ]
  },
  {
   "cell_type": "code",
   "execution_count": 117,
   "metadata": {},
   "outputs": [
    {
     "name": "stdout",
     "output_type": "stream",
     "text": [
      "array([3090257647770.855, 1.84513789676072, 0.690618760063498, -6.033914926509784e-05], dtype=float64) array([-0.02983780014940622, -0.7932272635549372, 0.5364013569551137, 0.2866597256192484], dtype=float64)\n"
     ]
    }
   ],
   "source": [
    "from lib.computation import solve_eig_qr\n",
    "\n",
    "lam, V = solve_eig_qr(np.dot(A, A.transpose()), 2)\n",
    "print(lam, V[:, 0])"
   ]
  },
  {
   "cell_type": "code",
   "execution_count": 105,
   "metadata": {},
   "outputs": [
    {
     "name": "stdout",
     "output_type": "stream",
     "text": [
      "array([[-883550.4911050206, -877556.5360877957, -878760.5076758521, -875939.8801019968],\n",
      "       [-1.844490843821283e-11, -1.540692204816151, -1.705187238642372, -1.081242480290623],\n",
      "       [-2.640966340204573e-11, 0.0, 0.4207967891230313, -0.778845463474262],\n",
      "       [-5.666316844096295e-11, -0.0, 0.0, 1.354608353265618e-08]], dtype=float64)\n"
     ]
    }
   ],
   "source": [
    "Q, R = np.linalg.qr(A)\n",
    "print(R)"
   ]
  },
  {
   "cell_type": "code",
   "execution_count": 45,
   "metadata": {},
   "outputs": [
    {
     "name": "stdout",
     "output_type": "stream",
     "text": [
      "array([-2.643192e+10, -7.02683e+11, 4.751729e+11, 2.539385e+11], dtype=float32)\n",
      "array([-26136.41, -650175.6, 644677.9, 3.090257e+12], dtype=float32)\n"
     ]
    }
   ],
   "source": [
    "X = np.dot(A, A.transpose())\n",
    "print(np.dot(X, V[0]))\n",
    "print(V[0]*lam[0])"
   ]
  },
  {
   "cell_type": "code",
   "execution_count": 118,
   "metadata": {},
   "outputs": [],
   "source": [
    "#TODO: uLab QR seems to give incorrect result for this matrix\n",
    "A_null = np.array([[-3.090257e+12, -7.008567e+05,  4.739371e+05,  2.532784e+05],\n",
    "       [-2.618467e+04, -3.090258e+12,  4.707228e+05,  2.515600e+05],\n",
    "       [-2.622055e+04, -6.970566e+05, -3.090256e+12,  2.519048e+05],\n",
    "       [-2.613640e+04, -6.948194e+05,  4.698551e+05, -3.090257e+12]])"
   ]
  },
  {
   "cell_type": "code",
   "execution_count": 119,
   "metadata": {},
   "outputs": [
    {
     "name": "stdout",
     "output_type": "stream",
     "text": [
      "array([[3090257000000.001, 727041.3902643195, -447716.5664473673, -227142.0042689324],\n",
      "       [-1.04984705117826e-25, 3090258000000.152, 226333.2414550781, 443259.1143798828],\n",
      "       [2.568302040251067e-12, -0.0, -3090256000000.068, 721760.0402832033],\n",
      "       [-2.576570284484911e-12, 0.0, -0.000244140625, -3090256999999.907]], dtype=float64)\n"
     ]
    }
   ],
   "source": [
    "Q, R = np.linalg.qr(A_null, mode=\"reduced\")\n",
    "print(R)"
   ]
  },
  {
   "cell_type": "code",
   "execution_count": 129,
   "metadata": {},
   "outputs": [
    {
     "name": "stdout",
     "output_type": "stream",
     "text": [
      "{12: nan, 10: nan, 7: nan}\n"
     ]
    }
   ],
   "source": [
    "from lib.decoding import harmonic_reference, CCA\n",
    "from lib.computation import solve_gen_eig_prob\n",
    "from ulab import numpy as np\n",
    "\n",
    "gc.collect()\n",
    "\n",
    "f0 = 7\n",
    "stim_freqs = [7, 10, 12]\n",
    "fs = 200\n",
    "\n",
    "X_test = synth_X(10, 4, 10)\n",
    "\n",
    "cca = CCA(stim_freqs, fs)\n",
    "\n",
    "print(cca.compute_corr(X_test))\n"
   ]
  },
  {
   "cell_type": "code",
   "execution_count": 144,
   "metadata": {},
   "outputs": [
    {
     "name": "stdout",
     "output_type": "stream",
     "text": [
      "array([[-2.171207463750402, -1.338522784901037, -0.5880826741808868, 0.04396681273567864, 0.5271820793288486, 0.8382883489982348, 0.9623007290342446, 0.8932459800949776, 0.6344502260963639, 0.1983787465439827],\n",
      "       [1.305341814301688, 1.170640910201912, 0.9533601308922323, 0.6639651258411464, 0.3163950326494211, -0.07260892208832805, -0.484309788674666, -0.8988773871495461, -1.296343457179863, -1.657563458793997],\n",
      "       [0.267963264843056, 0.7796799141142366, 1.073691207707363, 1.094033302783363, 0.8368341650474374, 0.3510505945826392, -0.2708505000816015, -0.9104927984376731, -1.446123014681661, -1.77578613587716],\n",
      "       [1.850696116855231, 1.432374314847385, 0.8242438445293502, 0.142059844591912, -0.4843267608957941, -0.9356858528536302, -1.12610308092582, -1.019333307398602, -0.6356997203802178, -0.04822539836981504]], dtype=float64)\n"
     ]
    }
   ],
   "source": [
    "print(Y)"
   ]
  },
  {
   "cell_type": "code",
   "execution_count": 138,
   "metadata": {},
   "outputs": [],
   "source": [
    "from lib.decoding import harmonic_reference\n",
    "\n",
    "X = X_test\n",
    "Y = harmonic_reference(7, 200, np.max(X_test.shape()), Nh=2, standardise_out=True)\n",
    "\n",
    "Cxx = np.dot(X, X.transpose()) # auto correlation matrix\n",
    "Cyy = np.dot(Y, Y.transpose()) \n",
    "Cxy = np.dot(X, Y.transpose()) # cross correlation matrix\n",
    "Cyx = np.dot(Y, X.transpose()) # same as Cxy.T\n",
    "\n",
    "M1 = np.dot(np.linalg.inv(Cxx), Cxy) # intermediate result\n",
    "M2 = np.dot(np.linalg.inv(Cyy), Cyx)\n",
    "\n",
    "lam, _ = max_eig(np.dot(M1, M2), 20)"
   ]
  },
  {
   "cell_type": "code",
   "execution_count": 151,
   "metadata": {},
   "outputs": [
    {
     "name": "stdout",
     "output_type": "stream",
     "text": [
      "array([[597636288720971.6, -590244015165738.0, -70701016851736.37, 63307345255390.93],\n",
      "       [-387237973120798.1, 382448155728474.1, 45810658901710.62, -41019935647656.07],\n",
      "       [-46384381598032.41, 45810634090902.22, 5487518240656.996, -4913662265777.822],\n",
      "       [41533661101626.68, -41019913615534.64, -4913662287824.636, 4399817679136.317]], dtype=float64)\n"
     ]
    }
   ],
   "source": [
    "print(np.linalg.inv(Cxx))"
   ]
  },
  {
   "cell_type": "code",
   "execution_count": 20,
   "metadata": {},
   "outputs": [],
   "source": [
    "def zeros_like(A):\n",
    "    return np.zeros(A.shape)\n",
    "\n",
    "def block_diag(X, Y, reverse=False):\n",
    "    if not reverse:\n",
    "        X = np.concatenate((X, zeros_like(X)), axis=1)\n",
    "        Y = np.concatenate((zeros_like(Y), Y), axis=1)\n",
    "    else:\n",
    "        X = np.concatenate((zeros_like(X), X), axis=1)\n",
    "        Y = np.concatenate((Y, zeros_like(Y)), axis=1)\n",
    "    return np.concatenate((X, Y), axis=0)\n",
    "\n",
    "X = np.array([[0.0, 0.2552531, 0.4935954, 0.6992362, 0.8585516, 0.9609866, 0.9997549, 0.972288, 0.8804055, 0.7301948],\n",
    "       [0.0, 0.2651061, 0.5112409, 0.7207904, 0.8787591, 0.9738424, 0.9992362, 0.9531231, 0.838803, 0.6644569],\n",
    "       [0.0, 0.2634635, 0.5083104, 0.7172394, 0.8754874, 0.9718722, 0.9995833, 0.9566626, 0.8461428, 0.6758333],\n",
    "       [0.0, 0.2671577, 0.5148946, 0.7252015, 0.8827904, 0.9762053, 0.9986557, 0.9485094, 0.8294118, 0.6500207]])\n",
    "\n",
    "# Y = cca_reference([7], 200, 10, Nh=2)\n",
    "\n",
    "Y = np.array([[-2.171207, -1.338523, -0.5880827, 0.04396701, 0.5271821, 0.8382883, 0.9623005, 0.8932458, 0.6344502, 0.1983788],\n",
    "       [1.305342, 1.170641, 0.9533603, 0.6639652, 0.3163952, -0.07260892, -0.4843098, -0.8988775, -1.296343, -1.657563],\n",
    "       [0.2679634, 0.7796801, 1.073691, 1.094033, 0.8368343, 0.3510505, -0.2708505, -0.9104931, -1.446123, -1.775786],\n",
    "       [1.850696, 1.432374, 0.8242437, 0.1420597, -0.4843266, -0.9356859, -1.126103, -1.019333, -0.6356997, -0.04822552]])"
   ]
  },
  {
   "cell_type": "code",
   "execution_count": 38,
   "metadata": {},
   "outputs": [
    {
     "name": "stderr",
     "output_type": "stream",
     "text": [
      "Traceback (most recent call last):\n",
      "  File \"<stdin>\", line 11, in <module>\n",
      "  File \"computation.py\", line 23, in solve_gen_eig_prob\n",
      "ValueError: input matrix is asymmetric\n"
     ]
    }
   ],
   "source": [
    "from lib.computation import solve_gen_eig_prob\n",
    "\n",
    "Cxx = np.dot(X, X.transpose()) # auto correlation matrix\n",
    "Cyy = np.dot(Y, Y.transpose()) \n",
    "Cxy = np.dot(X, Y.transpose()) # cross correlation matrix\n",
    "Cyx = np.dot(Y, X.transpose()) # same as Cxy.T\n",
    "\n",
    "A = block_diag(Cxy, Cyx, reverse=True)\n",
    "B = block_diag(Cxx, Cyy)\n",
    "\n",
    "lam, Phi = solve_gen_eig_prob(A, B, eps=1e-6)"
   ]
  },
  {
   "cell_type": "code",
   "execution_count": 41,
   "metadata": {},
   "outputs": [
    {
     "name": "stderr",
     "output_type": "stream",
     "text": [
      "Traceback (most recent call last):\n",
      "  File \"<stdin>\", line 1, in <module>\n",
      "ImportError: can't import name solve_eig_qr\n"
     ]
    }
   ],
   "source": [
    "from lib.computation import solve_eig_qr\n",
    "\n",
    "print(A)"
   ]
  },
  {
   "cell_type": "code",
   "execution_count": 37,
   "metadata": {},
   "outputs": [
    {
     "name": "stdout",
     "output_type": "stream",
     "text": [
      "array([[0.2104852, 0.0, 0.0, 0.0, 0.0, 0.0, 0.0, 0.0],\n",
      "       [0.0, 1267.649, 0.0, 0.0, 0.0, 0.0, 0.0, 0.0],\n",
      "       [0.0, 0.0, 12.49017, 0.0, 0.0, 0.0, 0.0, 0.0],\n",
      "       [0.0, 0.0, 0.0, 1000000.0, 0.0, 0.0, 0.0, 0.0],\n",
      "       [0.0, 0.0, 0.0, 0.0, 8.926649, 0.0, 0.0, 0.0],\n",
      "       [0.0, 0.0, 0.0, 0.0, 0.0, 1.873826, 0.0, 0.0],\n",
      "       [0.0, 0.0, 0.0, 0.0, 0.0, 0.0, 0.3365085, 0.0],\n",
      "       [0.0, 0.0, 0.0, 0.0, 0.0, 0.0, 0.0, 0.1799781]], dtype=float32)\n"
     ]
    }
   ],
   "source": [
    "eps = 1e-6\n",
    "\n",
    "def replace_nan(A, rep=0):\n",
    "    return np.where(np.isfinite(A), A, rep)\n",
    "\n",
    "Lam_b, Phi_b = np.linalg.eig(B) # eig decomp of B alone\n",
    "Lam_b = np.eye(len(Lam_b))*Lam_b # convert to diagonal matrix of eig vals\n",
    "\n",
    "Lam_b_sq = replace_nan(Lam_b**0.5)+np.eye(len(Lam_b))*eps\n",
    "print(np.linalg.inv(Lam_b_sq))"
   ]
  },
  {
   "cell_type": "code",
   "execution_count": 109,
   "metadata": {},
   "outputs": [
    {
     "name": "stdout",
     "output_type": "stream",
     "text": [
      "Listing directory '/'.\n",
      "     3117    .env\n",
      "      139    boot.py\n",
      "      487    data.json\n",
      "             lib/\n"
     ]
    }
   ],
   "source": [
    "%ls"
   ]
  },
  {
   "cell_type": "code",
   "execution_count": 50,
   "metadata": {},
   "outputs": [
    {
     "name": "stdout",
     "output_type": "stream",
     "text": [
      "Listing directory 'lib'.\n",
      "       27    lib/__init__.mpy\n",
      "     1643    lib/computation.mpy\n",
      "      558    lib/config.mpy\n",
      "     1065    lib/core.mpy\n",
      "      722    lib/decoding.mpy\n",
      "     8703    lib/mqtt_as.mpy\n",
      "      790    lib/networking.mpy\n",
      "     2504    lib/peripherals.mpy\n",
      "     1052    lib/scheduling.mpy\n",
      "     1174    lib/signal.mpy\n",
      "     2601    lib/umqtt.mpy\n",
      "      614    lib/utils.mpy\n",
      "      641    lib/websockets.mpy\n"
     ]
    }
   ],
   "source": [
    "%ls --recursive lib"
   ]
  },
  {
   "cell_type": "code",
   "execution_count": 214,
   "metadata": {},
   "outputs": [
    {
     "name": "stdout",
     "output_type": "stream",
     "text": [
      "Sent 3118 bytes in 104 chunks to .env.\n"
     ]
    }
   ],
   "source": [
    "%sendtofile --source lib/.env .env  --binary"
   ]
  },
  {
   "cell_type": "code",
   "execution_count": 195,
   "metadata": {},
   "outputs": [
    {
     "name": "stdout",
     "output_type": "stream",
     "text": [
      "Sent 83 lines (2491 bytes) to lib/core.py.\n"
     ]
    }
   ],
   "source": [
    "%sendtofile lib/core.py --source lib/core.py"
   ]
  },
  {
   "cell_type": "code",
   "execution_count": 131,
   "metadata": {},
   "outputs": [
    {
     "name": "stdout",
     "output_type": "stream",
     "text": [
      "Sent 61 lines (2106 bytes) to lib/decoding.py.\n"
     ]
    }
   ],
   "source": [
    "%sendtofile lib/decoding.py --source lib/decoding.py"
   ]
  },
  {
   "cell_type": "code",
   "execution_count": 191,
   "metadata": {},
   "outputs": [
    {
     "name": "stdout",
     "output_type": "stream",
     "text": [
      "repl is in normal command mode\n",
      "[\\r\\x03\\x03] b'\\r\\nMicroPython v1.15-222-g8edc3aacd-dirty on 2021-07-17; ESP32 module with ESP32\\r\\nType \"help()\" for more information.\\r\\n>>> \\r\\n>>> \\r\\nMPY: soft reboot\\r\\nMicroPython v1.15-222-g8edc3aacd-dirty on 2021-07-17; ESP32 module with ESP32\\r\\nType \"help()\" for more information.\\r\\n>>> \\r\\n>>> \\r\\n>>> '\n",
      "[\\r\\x01] b'\\r\\n>>> \\r\\nraw REPL; CTRL-B to exit\\r\\n>'"
     ]
    }
   ],
   "source": [
    "%rebootdevice"
   ]
  },
  {
   "cell_type": "code",
   "execution_count": 111,
   "metadata": {},
   "outputs": [
    {
     "name": "stdout",
     "output_type": "stream",
     "text": [
      "Fetched 487=487 bytes from data.json.\n"
     ]
    }
   ],
   "source": [
    "%fetchfile data.json --print"
   ]
  },
  {
   "cell_type": "code",
   "execution_count": 20,
   "metadata": {},
   "outputs": [
    {
     "name": "stdout",
     "output_type": "stream",
     "text": [
      "%capture [--quiet] [--QUIET] outputfilename\n",
      "    records output to a file\n",
      "\n",
      "%comment\n",
      "    print this into output\n",
      "\n",
      "%disconnect [--raw]\n",
      "    disconnects from web/serial connection\n",
      "\n",
      "%esptool [--port PORT] {erase,esp32,esp8266} [binfile]\n",
      "    commands for flashing your esp-device\n",
      "\n",
      "%fetchfile [--binary] [--print] [--load] [--quiet] [--QUIET]\n",
      "                  sourcefilename [destinationfilename]\n",
      "    fetch and save a file from the device\n",
      "\n",
      "%ls [--recurse] [dirname]\n",
      "    list files on the device\n",
      "\n",
      "%lsmagic\n",
      "    list magic commands\n",
      "\n",
      "%mpy-cross [--set-exe SET_EXE] [pyfile]\n",
      "    cross-compile a .py file to a .mpy file\n",
      "\n",
      "%readbytes [--binary]\n",
      "    does serial.read_all()\n",
      "\n",
      "%rebootdevice\n",
      "    reboots device\n",
      "\n",
      "%sendtofile [--append] [--mkdir] [--binary] [--execute] [--source [SOURCE]] [--quiet]\n",
      "                   [--QUIET]\n",
      "                   [destinationfilename]\n",
      "    send cell contents or file/direcectory to the device\n",
      "\n",
      "%serialconnect [--raw] [--port PORT] [--baud BAUD] [--verbose]\n",
      "    connects to a device over USB wire\n",
      "\n",
      "%socketconnect [--raw] ipnumber portnumber\n",
      "    connects to a socket of a device over wifi\n",
      "\n",
      "%suppressendcode\n",
      "    doesn't send x04 or wait to read after sending the contents of the cell\n",
      "  (assists for debugging using %writebytes and %readbytes)\n",
      "\n",
      "%websocketconnect [--raw] [--password PASSWORD] [--verbose] [websocketurl]\n",
      "    connects to the webREPL websocket of an ESP8266 over wifi\n",
      "    websocketurl defaults to ws://192.168.4.1:8266 but be sure to be connected\n",
      "\n",
      "%writebytes [--binary] [--verbose] stringtosend\n",
      "    does serial.write() of the python quoted string given\n",
      "\n",
      "%%writefile [--append] [--execute] destinationfilename\n",
      "    write contents of cell to a file\n",
      "\n"
     ]
    }
   ],
   "source": [
    "%lsmagic"
   ]
  },
  {
   "cell_type": "code",
   "execution_count": null,
   "metadata": {},
   "outputs": [],
   "source": []
  }
 ],
 "metadata": {
  "kernelspec": {
   "display_name": "MicroPython - USB",
   "language": "micropython",
   "name": "micropython"
  },
  "language_info": {
   "codemirror_mode": "python",
   "file_extension": ".py",
   "mimetype": "text/python",
   "name": "micropython"
  }
 },
 "nbformat": 4,
 "nbformat_minor": 4
}
