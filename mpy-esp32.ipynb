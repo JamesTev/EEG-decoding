{
 "cells": [
  {
   "cell_type": "code",
   "execution_count": 120,
   "metadata": {},
   "outputs": [
    {
     "name": "stdout",
     "output_type": "stream",
     "text": [
      "\u001b[34mConnecting to --port=/dev/tty.usbserial-02EDKZTP --baud=115200 \u001b[0m\n",
      "MicroPython v1.14 on 2021-04-12; ESP32 module with ESP32\n",
      "Type \"help()\" for more information.\n",
      ">>>[reboot detected 0]repl is in normal command mode\n",
      "[\\r\\x03\\x03] b'\\r\\n>>> '\n",
      "[\\r\\x01] b'\\r\\n>>> \\r\\nraw REPL; CTRL-B to exit\\r\\n>' \u001b[34mReady.\n",
      "\u001b[0m"
     ]
    }
   ],
   "source": [
    "%serialconnect to --port=\"/dev/tty.usbserial-02EDKZTP\" --baud=115200"
   ]
  },
  {
   "cell_type": "code",
   "execution_count": 107,
   "metadata": {},
   "outputs": [],
   "source": [
    "from ulab import numpy as np\n",
    "import machine\n",
    "from machine import Pin, PWM"
   ]
  },
  {
   "cell_type": "code",
   "execution_count": 5,
   "metadata": {},
   "outputs": [],
   "source": [
    "import utime\n",
    "\n",
    "led = Pin(22, Pin.OUT)\n",
    "\n",
    "for i in range(10):\n",
    "    led.on()\n",
    "    utime.sleep(0.1)\n",
    "    led.off()\n",
    "    utime.sleep(0.1)"
   ]
  },
  {
   "cell_type": "code",
   "execution_count": 5,
   "metadata": {},
   "outputs": [],
   "source": [
    "from lib.scheduling import LedFlasher\n",
    "\n",
    "flasher = LedFlasher(0, 7, led)\n",
    "flasher.start()"
   ]
  },
  {
   "cell_type": "code",
   "execution_count": 6,
   "metadata": {},
   "outputs": [],
   "source": [
    "flasher.stop()"
   ]
  },
  {
   "cell_type": "code",
   "execution_count": 6,
   "metadata": {},
   "outputs": [
    {
     "name": "stdout",
     "output_type": "stream",
     "text": [
      "(array([0.8875613, 0.6205873, 2.912558], dtype=float32), array([[0.4855918, 0.0, 0.0],\n",
      "       [0.0, 0.508489, 0.0],\n",
      "       [0.0, 0.0, 0.9888289]], dtype=float32))\n"
     ]
    }
   ],
   "source": [
    "from lib.computation import solve_gen_eig_prob\n",
    "\n",
    "M = np.eye(3)*np.array([-1, 1, 2])\n",
    "\n",
    "\n",
    "A = np.array([[3.76405235, 0.        , 0.        ],\n",
    "       [0.        , 2.40015721, 0.        ],\n",
    "       [0.        , 0.        , 2.97873798]])\n",
    "\n",
    "B = np.array([[4.2408932 , 0.        , 0.        ],\n",
    "       [0.        , 3.86755799, 0.        ],\n",
    "       [0.        , 0.        , 1.02272212]])\n",
    "\n",
    "\n",
    "print(solve_gen_eig_prob(A, B))"
   ]
  },
  {
   "cell_type": "code",
   "execution_count": 108,
   "metadata": {},
   "outputs": [],
   "source": [
    "import urandom\n",
    "\n",
    "def synth_x(f, Ns, noise_power=0.5, fs=250):\n",
    "    \"\"\"\n",
    "    generate a synthetic signal vector\n",
    "    \n",
    "    args:\n",
    "    Ns [int]: number of samples (time samples)\n",
    "    noise_power [float]: variance of WGN noise distribution\n",
    "    \"\"\"\n",
    "    t = np.arange(0, Ns/fs, 1/fs)\n",
    "    return np.sin(t*2*np.pi*f)+urandom.random()\n",
    "\n",
    "def synth_X(f, Nc, Ns, noise_power=0.5, fs=200, f_std=0.02, noise_std=0.2):\n",
    "    \"\"\"\n",
    "    Generate a matrix of several variations of the same target signal. This is used\n",
    "    to simulate the measurement of a common signal over multiple EEG channels \n",
    "    that have different SNR characteristics.\n",
    "    \n",
    "    args:\n",
    "    f [float]: target frequency of synthetic signal (Hz)\n",
    "    Nc [int]: number of channels\n",
    "    Ns [int]: number of samples (time samples)\n",
    "    noise_power [float]: variance of WGN noise distribution\n",
    "    fs [float]: sampling frequency (Hz)\n",
    "    f_std [float]: standard dev. of freq. in generated signal across channels to simulate interference from other frequency components over different channels\n",
    "    noise_std [float]: standard dev. of noise across channels\n",
    "    \"\"\"\n",
    "    X = []\n",
    "    for i in range(Nc): # simulate noisy sinusoids with varying SNR across Nc channels\n",
    "        f_i = f*(1+urandom.random())\n",
    "        sigma_i = noise_power*(1+urandom.random())\n",
    "        x = synth_x(f_i, Ns, noise_power=sigma_i)\n",
    "        \n",
    "        x += synth_x(f_i*1.05, Ns)*0.2 # add extraneous neighbouring signals (task unrelated)\n",
    "        x += synth_x(f_i*1.1, Ns)*0.1\n",
    "        X.append(x)\n",
    "        \n",
    "    return np.array(X)"
   ]
  },
  {
   "cell_type": "code",
   "execution_count": 119,
   "metadata": {},
   "outputs": [
    {
     "name": "stderr",
     "output_type": "stream",
     "text": [
      "Traceback (most recent call last):\n",
      "  File \"<stdin>\", line 45, in <module>\n",
      "  File \"<stdin>\", line 16, in compute_corr\n",
      "  File \"<stdin>\", line 31, in cca_eig\n",
      "  File \"computation.py\", line 22, in solve_gen_eig_prob\n",
      "ValueError: input matrix is asymmetric\n"
     ]
    }
   ],
   "source": [
    "from lib.decoding import harmonic_reference\n",
    "from lib.computation import solve_gen_eig_prob\n",
    "from ulab import numpy as np\n",
    "\n",
    "class CCA():\n",
    "    \n",
    "    def __init__(self, stim_freqs, fs, Nh=3):\n",
    "        self.Nh = Nh\n",
    "        self.stim_freqs = stim_freqs\n",
    "        self.fs = fs\n",
    "        \n",
    "    def compute_corr(self, X_test):            \n",
    "        result = {}\n",
    "        for f in self.stim_freqs:\n",
    "            Y = harmonic_reference(f, self.fs, np.max(X_test.shape()), Nh=self.Nh, standardise_out=True)\n",
    "            rho = self.cca_eig(X_test, Y)[0] # canonical variable matrices. Xc = X^T.W_x\n",
    "            result[f] = rho\n",
    "        return result\n",
    "    \n",
    "    @staticmethod\n",
    "    def cca_eig(X, Y, n_components=1):\n",
    "        Cxx = np.dot(X, X.transpose()) # auto correlation matrix\n",
    "        Cyy = np.dot(Y, Y.transpose()) \n",
    "        Cxy = np.dot(X, Y.transpose()) # cross correlation matrix\n",
    "        Cyx = np.dot(Y, X.transpose()) # same as Cxy.T\n",
    "\n",
    "        M1 = np.dot(np.linalg.inv(Cxx), Cxy) # intermediate result\n",
    "        M2 = np.dot(np.linalg.inv(Cyy), Cyx)\n",
    "\n",
    "        M = np.dot(M1, M2)\n",
    "        lam, _ = solve_gen_eig_prob(M, np.eye(len(M))) #np.linalg.eig(M)\n",
    "        \n",
    "        return sorted(np.sqrt(lam), reverse=True)[:n_components] # return largest n sqrt eig vals\n",
    "\n",
    "gc.collect()\n",
    "\n",
    "f0 = 7\n",
    "stim_freqs = [7, 10, 12]\n",
    "fs = 200\n",
    "\n",
    "X_test = synth_X(f0, 4, 100)\n",
    "\n",
    "cca = CCA(stim_freqs, fs)\n",
    "\n",
    "cca.compute_corr(X_test)\n"
   ]
  },
  {
   "cell_type": "code",
   "execution_count": null,
   "metadata": {},
   "outputs": [],
   "source": [
    "Y = harmonic_reference(f, 200, len(X_test), Nh=self.Nh, standardise_out=True)"
   ]
  },
  {
   "cell_type": "code",
   "execution_count": 114,
   "metadata": {},
   "outputs": [
    {
     "name": "stdout",
     "output_type": "stream",
     "text": [
      "array([[0.3085011, 0.6021429, 0.8667814, ..., -0.6021446, -0.3085003, 3.712228e-06],\n",
      "       [1.380154, 1.279618, 1.117448, ..., 1.279618, 1.380155, 1.414213],\n",
      "       [0.6021429, 1.08967, 1.369783, ..., -1.089672, -0.6021408, 7.674105e-06],\n",
      "       [1.279619, 0.9014534, 0.3517004, ..., 0.9014505, 1.279619, 1.414213]], dtype=float32)\n"
     ]
    }
   ],
   "source": [
    "Y = harmonic_reference(f0, fs, 200)\n",
    "from lib.computation import standardise\n",
    "\n",
    "print(standardise(Y))"
   ]
  },
  {
   "cell_type": "code",
   "execution_count": 38,
   "metadata": {},
   "outputs": [],
   "source": [
    "del X, Y"
   ]
  },
  {
   "cell_type": "code",
   "execution_count": 34,
   "metadata": {},
   "outputs": [
    {
     "name": "stdout",
     "output_type": "stream",
     "text": [
      "stack: 736 out of 15360\n",
      "GC: total: 111168, used: 19168, free: 92000\n",
      " No. of 1-blocks: 57, 2-blocks: 25, max blk sz: 500, max free sz: 2140\n",
      "None\n"
     ]
    }
   ],
   "source": [
    "import gc\n",
    "import micropython\n",
    "\n",
    "gc.collect()\n",
    "\n",
    "# X = synth_X(10, 4, 1000)\n",
    "print(micropython.mem_info())"
   ]
  },
  {
   "cell_type": "code",
   "execution_count": null,
   "metadata": {},
   "outputs": [],
   "source": [
    "%ls"
   ]
  },
  {
   "cell_type": "code",
   "execution_count": 1,
   "metadata": {},
   "outputs": [
    {
     "name": "stdout",
     "output_type": "stream",
     "text": [
      "\u001b[31mNo serial connected\n",
      "\u001b[0m  %serialconnect to connect\n",
      "  %esptool to flash the device\n",
      "  %lsmagic to list commands"
     ]
    }
   ],
   "source": [
    "%ls --recursive lib"
   ]
  },
  {
   "cell_type": "code",
   "execution_count": null,
   "metadata": {},
   "outputs": [],
   "source": [
    "%sendtofile lib/computation.mpy --source lib/computation.mpy"
   ]
  },
  {
   "cell_type": "code",
   "execution_count": 238,
   "metadata": {},
   "outputs": [
    {
     "name": "stdout",
     "output_type": "stream",
     "text": [
      "Sent 55 lines (1976 bytes) to lib/decoding.py.\n"
     ]
    }
   ],
   "source": [
    "%sendtofile lib/decoding.py --source lib/decoding.py"
   ]
  },
  {
   "cell_type": "code",
   "execution_count": 5,
   "metadata": {},
   "outputs": [
    {
     "name": "stdout",
     "output_type": "stream",
     "text": [
      "repl is in normal command mode\n",
      "[\\r\\x03\\x03] b'\\r\\nMicroPython v1.14 on 2021-04-12; ESP32 module with ESP32\\r\\nType \"help()\" for more information.\\r\\n>>> \\r\\n>>> \\r\\nMPY: soft reboot\\r\\nTraceback (most recent call last):\\r\\n  File \"main.py\", line 8, in <module>\\r\\nKeyboardInterrupt: \\r\\nMicroPython v1.14 on 2021-04-12; ESP32 module with ESP32\\r\\nType \"help()\" for more information.\\r\\n>>> \\r\\n>>> '\n",
      "[\\r\\x01] b'\\r\\n>>> \\r\\nraw REPL; CTRL-B to exit\\r\\n>'"
     ]
    }
   ],
   "source": [
    "%rebootdevice"
   ]
  },
  {
   "cell_type": "code",
   "execution_count": 20,
   "metadata": {},
   "outputs": [
    {
     "name": "stdout",
     "output_type": "stream",
     "text": [
      "%capture [--quiet] [--QUIET] outputfilename\n",
      "    records output to a file\n",
      "\n",
      "%comment\n",
      "    print this into output\n",
      "\n",
      "%disconnect [--raw]\n",
      "    disconnects from web/serial connection\n",
      "\n",
      "%esptool [--port PORT] {erase,esp32,esp8266} [binfile]\n",
      "    commands for flashing your esp-device\n",
      "\n",
      "%fetchfile [--binary] [--print] [--load] [--quiet] [--QUIET]\n",
      "                  sourcefilename [destinationfilename]\n",
      "    fetch and save a file from the device\n",
      "\n",
      "%ls [--recurse] [dirname]\n",
      "    list files on the device\n",
      "\n",
      "%lsmagic\n",
      "    list magic commands\n",
      "\n",
      "%mpy-cross [--set-exe SET_EXE] [pyfile]\n",
      "    cross-compile a .py file to a .mpy file\n",
      "\n",
      "%readbytes [--binary]\n",
      "    does serial.read_all()\n",
      "\n",
      "%rebootdevice\n",
      "    reboots device\n",
      "\n",
      "%sendtofile [--append] [--mkdir] [--binary] [--execute] [--source [SOURCE]] [--quiet]\n",
      "                   [--QUIET]\n",
      "                   [destinationfilename]\n",
      "    send cell contents or file/direcectory to the device\n",
      "\n",
      "%serialconnect [--raw] [--port PORT] [--baud BAUD] [--verbose]\n",
      "    connects to a device over USB wire\n",
      "\n",
      "%socketconnect [--raw] ipnumber portnumber\n",
      "    connects to a socket of a device over wifi\n",
      "\n",
      "%suppressendcode\n",
      "    doesn't send x04 or wait to read after sending the contents of the cell\n",
      "  (assists for debugging using %writebytes and %readbytes)\n",
      "\n",
      "%websocketconnect [--raw] [--password PASSWORD] [--verbose] [websocketurl]\n",
      "    connects to the webREPL websocket of an ESP8266 over wifi\n",
      "    websocketurl defaults to ws://192.168.4.1:8266 but be sure to be connected\n",
      "\n",
      "%writebytes [--binary] [--verbose] stringtosend\n",
      "    does serial.write() of the python quoted string given\n",
      "\n",
      "%%writefile [--append] [--execute] destinationfilename\n",
      "    write contents of cell to a file\n",
      "\n"
     ]
    }
   ],
   "source": [
    "%lsmagic"
   ]
  },
  {
   "cell_type": "code",
   "execution_count": null,
   "metadata": {},
   "outputs": [],
   "source": []
  }
 ],
 "metadata": {
  "kernelspec": {
   "display_name": "MicroPython - USB",
   "language": "micropython",
   "name": "micropython"
  },
  "language_info": {
   "codemirror_mode": "python",
   "file_extension": ".py",
   "mimetype": "text/python",
   "name": "micropython"
  }
 },
 "nbformat": 4,
 "nbformat_minor": 4
}
